{
 "cells": [
  {
   "cell_type": "code",
   "execution_count": 126,
   "metadata": {
    "collapsed": true
   },
   "outputs": [],
   "source": [
    "import tensorflow as tf\n",
    "import numpy as np\n",
    "import pickle\n",
    "import cv2\n",
    "from numpy import prod\n",
    "from sklearn.model_selection import train_test_split\n",
    "import random\n",
    "from tqdm import tqdm\n",
    "import math\n",
    "from sklearn.preprocessing import LabelBinarizer\n",
    "import matplotlib.pyplot as plt\n",
    "from PIL import Image\n",
    "\n",
    "%matplotlib inline\n",
    "%config InlineBackend.figure_format = 'retina'\n",
    "\n",
    "save_model_path = './vehicle_classification'\n",
    "\n",
    "n_classes = 3\n",
    "epochs = 100\n",
    "batch_size = 2048\n",
    "keep_probability = 0.2\n",
    "n_samples = 4\n",
    "top_n_predictions = 3"
   ]
  },
  {
   "cell_type": "code",
   "execution_count": null,
   "metadata": {
    "collapsed": true
   },
   "outputs": [],
   "source": [
    "def save_image(imgarray,lblarray):\n",
    "    for i in range(0,lblarray.shape[0]):\n",
    "        category = lblarray[i]\n",
    "        if category == 0 :\n",
    "            saveCifarImage(imgarray[i], \"./truck/\", \"image\"+(str)(i))\n",
    "        elif category == 1:\n",
    "            saveCifarImage(imgarray[i], \"./car/\", \"image\"+(str)(i))\n",
    "        else:\n",
    "            saveCifarImage(imgarray[i], \"./unknown/\", \"image\"+(str)(i))      \n",
    "            \n"
   ]
  },
  {
   "cell_type": "code",
   "execution_count": 44,
   "metadata": {},
   "outputs": [
    {
     "name": "stdout",
     "output_type": "stream",
     "text": [
      "2774\n"
     ]
    },
    {
     "data": {
      "text/plain": [
       "(2774, 3, 32, 32)"
      ]
     },
     "metadata": {},
     "output_type": "display_data"
    },
    {
     "name": "stdout",
     "output_type": "stream",
     "text": [
      "(8521728,)\n",
      "(2774,)\n",
      "(2774,)\n",
      "2781\n"
     ]
    },
    {
     "data": {
      "text/plain": [
       "(2781, 3, 32, 32)"
      ]
     },
     "metadata": {},
     "output_type": "display_data"
    },
    {
     "name": "stdout",
     "output_type": "stream",
     "text": [
      "(17064960,)\n",
      "(5555,)\n",
      "(2781,)\n",
      "2851\n"
     ]
    },
    {
     "data": {
      "text/plain": [
       "(2851, 3, 32, 32)"
      ]
     },
     "metadata": {},
     "output_type": "display_data"
    },
    {
     "name": "stdout",
     "output_type": "stream",
     "text": [
      "(25823232,)\n",
      "(8406,)\n",
      "(2851,)\n",
      "2747\n"
     ]
    },
    {
     "data": {
      "text/plain": [
       "(2747, 3, 32, 32)"
      ]
     },
     "metadata": {},
     "output_type": "display_data"
    },
    {
     "name": "stdout",
     "output_type": "stream",
     "text": [
      "(34262016,)\n",
      "(11153,)\n",
      "(2747,)\n",
      "2845\n"
     ]
    },
    {
     "data": {
      "text/plain": [
       "(2845, 3, 32, 32)"
      ]
     },
     "metadata": {},
     "output_type": "display_data"
    },
    {
     "name": "stdout",
     "output_type": "stream",
     "text": [
      "(43001856,)\n",
      "(13998,)\n",
      "(2845,)\n",
      "(13998, 3, 32, 32)\n",
      "[2 0 0 1 1 2 0 0 0 2]\n"
     ]
    }
   ],
   "source": [
    "lblarray = []\n",
    "imgarray = []\n",
    "\n",
    "def extractImagesAndLabels(path, file):\n",
    "    f = open(path+file, 'rb')\n",
    "    dict = pickle.load(f,encoding='latin1')\n",
    "    images = dict['data']\n",
    "    #display(images.shape)\n",
    "    images = np.reshape(images, (10000, 3, 32, 32))\n",
    "    labels = dict['labels']\n",
    "    if n_classes == 3:\n",
    "        j = 0\n",
    "        for i in range(len(labels)):\n",
    "            if labels[j] == 9:\n",
    "                labels[j] = 0\n",
    "                j = j+1\n",
    "            elif labels[j] == 1:\n",
    "                labels[j] = 1\n",
    "                j = j+1\n",
    "            elif i%10 == 0:\n",
    "                labels[j] = 2\n",
    "                j = j+1\n",
    "            else:\n",
    "                #print(i,j)\n",
    "                images = np.delete(images,j,0)\n",
    "                labels = np.delete(labels,j,0)\n",
    "        print(j)\n",
    "        images = np.reshape(images, (j,3,32,32))\n",
    "    #return images, labels\n",
    "    imagearray = np.asarray(images)\n",
    "    display(imagearray.shape)\n",
    "    labelarray = np.asarray(labels)\n",
    "    return imagearray, labelarray, j\n",
    "\n",
    "def extractCategories(path, file):\n",
    "    f = open(path+file, 'rb')\n",
    "    dict = pickle.load(f,encoding='latin1')\n",
    "    return dict['label_names']\n",
    "\n",
    "def saveCifarImage(array, path, file):\n",
    "    # array is 3x32x32. cv2 needs 32x32x3\n",
    "    array = array.transpose(1,2,0)\n",
    "    # array is RGB. cv2 needs BGR\n",
    "    array = cv2.cvtColor(array, cv2.COLOR_RGB2BGR)\n",
    "    # save to PNG file\n",
    "    return cv2.imwrite(path+file+\".png\", array)\n",
    "\n",
    "row = 0\n",
    "for i in range(5):\n",
    "    features, labels, r = extractImagesAndLabels(\"cifar-10-batches-py/\", \"data_batch_\" + str(i+1))\n",
    "#features = np.array(features, dtype=np.float32).flatten()\n",
    "    imgarray = np.append(imgarray, features)\n",
    "#imgarray = imgarray.reshape(10000,3,32,32)\n",
    "#display(imgarray)\n",
    "    lblarray = np.append(lblarray,labels)\n",
    "    row = row + r\n",
    "    print (imgarray.shape)\n",
    "    print (lblarray.shape)\n",
    "    print(labels.shape)\n",
    "imgarray = imgarray.reshape(row, 3, 32, 32)\n",
    "lblarray = lblarray.astype(np.uint8)\n",
    "print (imgarray.shape)\n",
    "print (lblarray[0:10])\n",
    "#categories = extractCategories(\"cifar-10-batches-py/\", \"batches.meta\")\n",
    "#display (categories)\n",
    "save_image(imgarray,lblarray )\n",
    "\n",
    "#    category = (int)(category)\n",
    "#    cats.append(categories[category])\n",
    "#print (cats)"
   ]
  },
  {
   "cell_type": "code",
   "execution_count": 45,
   "metadata": {},
   "outputs": [
    {
     "name": "stdout",
     "output_type": "stream",
     "text": [
      "[2 0 0 1 1 2 0 0 0 2 2 0 1 2 1 1 1 0 0 1 1 1 1 0 2 0 1 0 1 2]\n"
     ]
    }
   ],
   "source": [
    "#imgarray = imgarray.reshape(5*row, 3, 32, 32)\n",
    "#lblarray = lblarray.astype(np.uint8)\n",
    "#print (imgarray.shape)\n",
    "print (lblarray[0:30])\n",
    "\n",
    "def feature_scaling(values):\n",
    "    # Values are rescaled from [0, 255] down to [-0.5, 0.5]\n",
    "    #for i in range(values.shape[0]):\n",
    "    #    values[i] = (values[i] - (255 / 2.0)) / 255\n",
    "    #return values\n",
    "    a = 0\n",
    "    b = 1\n",
    "    grayscale_min = 0\n",
    "    grayscale_max = 255\n",
    "    return a + ( ( (values - grayscale_min)*(b - a) )/( grayscale_max - grayscale_min ) )"
   ]
  },
  {
   "cell_type": "code",
   "execution_count": 46,
   "metadata": {
    "collapsed": true
   },
   "outputs": [],
   "source": [
    "def one_hot_encode(x):\n",
    "    \"\"\"\n",
    "    One hot encode a list of sample labels. Return a one-hot encoded vector for each label.\n",
    "    : 0 : truck\n",
    "    : 1 : car\n",
    "    : 2 : unknown\n",
    "    : x: List of sample Labels\n",
    "    : return: Numpy array of one-hot encoded labels\n",
    "    \"\"\"\n",
    "    # TODO: Implement Function\n",
    "    y = np.zeros((len(x), n_classes))\n",
    "    for i in range(len(x)):\n",
    "        y[i,x[i]] = 1\n",
    "  #      if x[i] == 9:\n",
    "  #          y[i,0] = 1\n",
    "  #      elif x[i] == 1:\n",
    "  #          y[i,1] = 1\n",
    "  #      else:\n",
    "  #          y[i,2] = 1\n",
    "    return y\n"
   ]
  },
  {
   "cell_type": "code",
   "execution_count": 47,
   "metadata": {
    "collapsed": true
   },
   "outputs": [],
   "source": [
    "def get_feature_label():\n",
    " \n",
    "    #features = features.reshape(features.shape[0], SIZE, SIZE, CHANNEL)\n",
    "    # array is 3x32x32. needs 32x32x3\n",
    "    features = imgarray.transpose(0,2,3,1)\n",
    "    #features = np.loadtxt(open(\"data/data.csv\", \"rb\"), dtype=int, delimiter=\",\", skiprows=1)\n",
    "    display(lblarray.shape)\n",
    "    onehot_label_encoded = one_hot_encode(lblarray)\n",
    "    scaled_features = feature_scaling(features)\n",
    "    display(onehot_label_encoded.shape)\n",
    "    return scaled_features, onehot_label_encoded"
   ]
  },
  {
   "cell_type": "code",
   "execution_count": 48,
   "metadata": {},
   "outputs": [
    {
     "data": {
      "text/plain": [
       "(13998,)"
      ]
     },
     "metadata": {},
     "output_type": "display_data"
    },
    {
     "data": {
      "text/plain": [
       "(13998, 3)"
      ]
     },
     "metadata": {},
     "output_type": "display_data"
    },
    {
     "data": {
      "text/plain": [
       "array([[ 0.,  0.,  1.],\n",
       "       [ 1.,  0.,  0.],\n",
       "       [ 1.,  0.,  0.],\n",
       "       ..., \n",
       "       [ 1.,  0.,  0.],\n",
       "       [ 0.,  1.,  0.],\n",
       "       [ 0.,  1.,  0.]])"
      ]
     },
     "metadata": {},
     "output_type": "display_data"
    },
    {
     "name": "stdout",
     "output_type": "stream",
     "text": [
      "[[ 1.  0.  0.]\n",
      " [ 0.  0.  1.]\n",
      " [ 1.  0.  0.]\n",
      " [ 0.  1.  0.]\n",
      " [ 1.  0.  0.]\n",
      " [ 0.  1.  0.]\n",
      " [ 1.  0.  0.]\n",
      " [ 0.  1.  0.]\n",
      " [ 1.  0.  0.]\n",
      " [ 0.  1.  0.]\n",
      " [ 0.  1.  0.]\n",
      " [ 1.  0.  0.]\n",
      " [ 0.  1.  0.]\n",
      " [ 0.  1.  0.]\n",
      " [ 0.  1.  0.]\n",
      " [ 1.  0.  0.]\n",
      " [ 0.  1.  0.]\n",
      " [ 0.  0.  1.]\n",
      " [ 0.  0.  1.]\n",
      " [ 1.  0.  0.]\n",
      " [ 1.  0.  0.]\n",
      " [ 1.  0.  0.]\n",
      " [ 1.  0.  0.]\n",
      " [ 1.  0.  0.]\n",
      " [ 1.  0.  0.]\n",
      " [ 1.  0.  0.]\n",
      " [ 1.  0.  0.]\n",
      " [ 0.  1.  0.]\n",
      " [ 0.  0.  1.]\n",
      " [ 0.  1.  0.]\n",
      " [ 0.  0.  1.]\n",
      " [ 0.  1.  0.]\n",
      " [ 0.  0.  1.]\n",
      " [ 0.  1.  0.]\n",
      " [ 1.  0.  0.]\n",
      " [ 0.  1.  0.]\n",
      " [ 1.  0.  0.]\n",
      " [ 0.  0.  1.]\n",
      " [ 0.  0.  1.]\n",
      " [ 0.  1.  0.]]\n"
     ]
    }
   ],
   "source": [
    "def get_train_test_data():\n",
    "    features, labels = get_feature_label()\n",
    "    display(labels)\n",
    "    #features = features.reshape(features.shape[0], SIZE, SIZE, CHANNEL)\n",
    "    train_features, test_features, train_labels, test_labels = train_test_split(\n",
    "        features,\n",
    "        labels,\n",
    "        test_size=0.2,\n",
    "        random_state=0)\n",
    "    train_features, valid_features, train_labels, valid_labels = train_test_split(\n",
    "        train_features,\n",
    "        train_labels,\n",
    "        test_size=0.2,\n",
    "        random_state=0)\n",
    "    \n",
    "    return train_features, train_labels, test_features, test_labels, valid_features, valid_labels\n",
    "\n",
    "train_features, train_labels, test_features, test_labels,valid_features, valid_labels= get_train_test_data()\n",
    "print(train_labels[0:40])"
   ]
  },
  {
   "cell_type": "code",
   "execution_count": 49,
   "metadata": {
    "collapsed": true
   },
   "outputs": [],
   "source": [
    "\n",
    "def neural_net_image_input(image_shape):\n",
    "    \"\"\"\n",
    "    Return a Tensor for a batch of image input\n",
    "    : image_shape: Shape of the images\n",
    "    : return: Tensor for image input.\n",
    "    \"\"\"\n",
    "   \n",
    "    return tf.placeholder(tf.float32, [None] + list(image_shape), \"x\")\n",
    "\n",
    "\n",
    "def neural_net_label_input(n_classes):\n",
    "    \"\"\"\n",
    "    Return a Tensor for a batch of label input\n",
    "    : n_classes: Number of classes\n",
    "    : return: Tensor for label input.\n",
    "    \"\"\"\n",
    "    return tf.placeholder(tf.float32, [None, n_classes], \"y\")\n",
    "\n",
    "\n",
    "def neural_net_keep_prob_input():\n",
    "    \"\"\"\n",
    "    Return a Tensor for keep probability\n",
    "    : return: Tensor for keep probability.\n",
    "    \"\"\"\n",
    "    return tf.placeholder(tf.float32, None, \"keep_prob\")\n"
   ]
  },
  {
   "cell_type": "code",
   "execution_count": 50,
   "metadata": {
    "collapsed": true
   },
   "outputs": [],
   "source": [
    "def conv2d_maxpool(x_tensor, conv_num_outputs, conv_ksize, conv_strides, pool_ksize, pool_strides):\n",
    "    \"\"\"\n",
    "    Apply convolution then max pooling to x_tensor\n",
    "    :param x_tensor: TensorFlow Tensor\n",
    "    :param conv_num_outputs: Number of outputs for the convolutional layer\n",
    "    :param conv_ksize: kernal size 2-D Tuple for the convolutional layer\n",
    "    :param conv_strides: Stride 2-D Tuple for convolution\n",
    "    :param pool_ksize: kernal size 2-D Tuple for pool\n",
    "    :param pool_strides: Stride 2-D Tuple for pool\n",
    "    : return: A tensor that represents convolution and max pooling of x_tensor\n",
    "    \"\"\"\n",
    "    dimension = x_tensor.get_shape().as_list()\n",
    "    shape = list(conv_ksize + (dimension[-1],) + (conv_num_outputs,))\n",
    "    print(shape)\n",
    "    filter_weights = tf.Variable(tf.truncated_normal(shape,0,0.1)) # (height, width, input_depth, output_depth)\n",
    "    filter_bias = tf.Variable(tf.zeros(conv_num_outputs))\n",
    "    padding = 'SAME'\n",
    "    print(list((1,)+conv_strides+(1,)))\n",
    "    print(filter_weights)\n",
    "    conv_layer = tf.nn.conv2d(x_tensor, filter_weights, list((1,)+conv_strides+(1,)), padding)\n",
    "    conv_layer = tf.nn.bias_add(conv_layer, filter_bias)\n",
    "    \n",
    "    conv_layer = tf.nn.relu(conv_layer)\n",
    "    \n",
    "    conv_layer = tf.nn.max_pool(\n",
    "        conv_layer,\n",
    "        ksize=[1] + list(pool_ksize) + [1],\n",
    "        strides=[1] + list(pool_strides) + [1],\n",
    "        padding='SAME')\n",
    "    \n",
    "    return conv_layer\n"
   ]
  },
  {
   "cell_type": "code",
   "execution_count": 51,
   "metadata": {
    "collapsed": true
   },
   "outputs": [],
   "source": [
    "def flatten(x_tensor):\n",
    "    \"\"\"\n",
    "    Flatten x_tensor to (Batch Size, Flattened Image Size)\n",
    "    : x_tensor: A tensor of size (Batch Size, ...), where ... are the image dimensions.\n",
    "    : return: A tensor of size (Batch Size, Flattened Image Size).\n",
    "    \"\"\"\n",
    "    dimension = x_tensor.get_shape().as_list()  \n",
    "    display(dimension)\n",
    "    x =  tf.reshape(x_tensor,[-1,prod(dimension[1:])])\n",
    "    display(x.get_shape().as_list())\n",
    "    return x\n"
   ]
  },
  {
   "cell_type": "code",
   "execution_count": 52,
   "metadata": {
    "collapsed": true
   },
   "outputs": [],
   "source": [
    "def fully_conn(x_tensor, num_outputs):\n",
    "    \"\"\"\n",
    "    Apply a fully connected layer to x_tensor using weight and bias\n",
    "    : x_tensor: A 2-D tensor where the first dimension is batch size.\n",
    "    : num_outputs: The number of output that the new tensor should be.\n",
    "    : return: A 2-D tensor where the second dimension is num_outputs.\n",
    "    \"\"\"\n",
    "    dimension = x_tensor.get_shape().as_list()\n",
    "    shape = list( (dimension[-1],) + (num_outputs,))\n",
    "    print(dimension, shape)\n",
    "    weight = tf.Variable(tf.truncated_normal(shape,0,0.1))\n",
    "    bias = tf.Variable(tf.zeros(num_outputs))\n",
    "    return tf.nn.relu(tf.add(tf.matmul(x_tensor,weight), bias))\n"
   ]
  },
  {
   "cell_type": "code",
   "execution_count": 53,
   "metadata": {
    "collapsed": true
   },
   "outputs": [],
   "source": [
    "def output(x_tensor, num_outputs):\n",
    "    \"\"\"\n",
    "    Apply a output layer to x_tensor using weight and bias\n",
    "    : x_tensor: A 2-D tensor where the first dimension is batch size.\n",
    "    : num_outputs: The number of output that the new tensor should be.\n",
    "    : return: A 2-D tensor where the second dimension is num_outputs.\n",
    "    \"\"\"\n",
    "    dimension = x_tensor.get_shape().as_list()\n",
    "    shape = list( (dimension[-1],) + (num_outputs,))\n",
    "    print(shape)\n",
    "    weight = tf.Variable(tf.truncated_normal(shape,0,0.01))\n",
    "    bias = tf.Variable(tf.zeros(num_outputs))\n",
    "    return tf.add(tf.matmul(x_tensor,weight), bias)"
   ]
  },
  {
   "cell_type": "code",
   "execution_count": 54,
   "metadata": {
    "collapsed": true
   },
   "outputs": [],
   "source": [
    "def conv_net(x, keep_prob):\n",
    "    \"\"\"\n",
    "    Create a convolutional neural network model\n",
    "    : x: Placeholder tensor that holds image data.\n",
    "    : keep_prob: Placeholder tensor that hold dropout keep probability.\n",
    "    : return: Tensor that represents logits\n",
    "    \"\"\"\n",
    "    # TODO: Apply 1, 2, or 3 Convolution and Max Pool layers\n",
    "    #    Play around with different number of outputs, kernel size and stride\n",
    "    # Function Definition from Above:\n",
    "    #    conv2d_maxpool(x_tensor, conv_num_outputs, conv_ksize, conv_strides, pool_ksize, pool_strides)\n",
    "    model = conv2d_maxpool(x, conv_num_outputs=18, conv_ksize=(4,4), conv_strides=(1,1), pool_ksize=(8,8), pool_strides=(1,1))\n",
    "    #model = conv2d_maxpool(x, conv_num_outputs=36, conv_ksize=(4,4), conv_strides=(1,1), pool_ksize=(2,2), pool_strides=(1,1))\n",
    "    #model = conv2d_maxpool(model, conv_num_outputs=8, conv_ksize=(4,4), conv_strides=(1,1), pool_ksize=(4,4), pool_strides=(1,1))\n",
    "    #model = tf.nn.relu(model)\n",
    "    model = tf.nn.dropout(model, keep_prob)    \n",
    "\n",
    "    # TODO: Apply a Flatten Layer\n",
    "    # Function Definition from Above:\n",
    "    #   flatten(x_tensor)\n",
    "    model = flatten(model)\n",
    "\n",
    "    # TODO: Apply 1, 2, or 3 Fully Connected Layers\n",
    "    #    Play around with different number of outputs\n",
    "    # Function Definition from Above:\n",
    "    #   fully_conn(x_tensor, num_outputs)\n",
    "    #model = fully_conn(model,384)\n",
    "    model = fully_conn(model,200)\n",
    "    #model = fully_conn(model,20)\n",
    "    #model = tf.nn.relu(model)\n",
    "    \n",
    "    model = tf.nn.dropout(model, keep_prob)\n",
    "    \n",
    "    # TODO: Apply an Output Layer\n",
    "    #    Set this to the number of classes\n",
    "    # Function Definition from Above:\n",
    "    #   output(x_tensor, num_outputs)\n",
    "    model = output(model,n_classes)\n",
    "    \n",
    "    # TODO: return output\n",
    "    return model\n"
   ]
  },
  {
   "cell_type": "code",
   "execution_count": 58,
   "metadata": {},
   "outputs": [
    {
     "name": "stdout",
     "output_type": "stream",
     "text": [
      "[4, 4, 3, 18]\n",
      "[1, 1, 1, 1]\n",
      "<tf.Variable 'Variable:0' shape=(4, 4, 3, 18) dtype=float32_ref>\n"
     ]
    },
    {
     "data": {
      "text/plain": [
       "[None, 32, 32, 18]"
      ]
     },
     "metadata": {},
     "output_type": "display_data"
    },
    {
     "data": {
      "text/plain": [
       "[None, 18432]"
      ]
     },
     "metadata": {},
     "output_type": "display_data"
    },
    {
     "name": "stdout",
     "output_type": "stream",
     "text": [
      "[None, 18432] [18432, 200]\n",
      "[200, 3]\n"
     ]
    }
   ],
   "source": [
    "##############################\n",
    "## Build the Neural Network ##\n",
    "##############################\n",
    "\n",
    "# Remove previous weights, bias, inputs, etc..\n",
    "tf.reset_default_graph()\n",
    "\n",
    "# Inputs\n",
    "x = neural_net_image_input((32, 32, 3))\n",
    "y = neural_net_label_input(n_classes)\n",
    "keep_prob = neural_net_keep_prob_input()\n",
    "\n",
    "# Model\n",
    "logits = conv_net(x, keep_prob)\n",
    "\n",
    "# Name logits Tensor, so that is can be loaded from disk after training\n",
    "logits = tf.identity(logits, name='logits')\n",
    "\n",
    "# Loss and Optimizer\n",
    "cost = tf.reduce_mean(tf.nn.softmax_cross_entropy_with_logits(logits=logits, labels=y))\n",
    "optimizer = tf.train.AdamOptimizer().minimize(cost)\n",
    "\n",
    "# Accuracy\n",
    "correct_pred = tf.equal(tf.argmax(logits, 1), tf.argmax(y, 1))\n",
    "accuracy = tf.reduce_mean(tf.cast(correct_pred, tf.float32), name='accuracy')\n"
   ]
  },
  {
   "cell_type": "code",
   "execution_count": 59,
   "metadata": {
    "collapsed": true
   },
   "outputs": [],
   "source": [
    "def train_neural_network(session, optimizer, keep_probability, feature_batch, label_batch):\n",
    "    \"\"\"\n",
    "    Optimize the session on a batch of images and labels\n",
    "    : session: Current TensorFlow session\n",
    "    : optimizer: TensorFlow optimizer function\n",
    "    : keep_probability: keep probability\n",
    "    : feature_batch: Batch of Numpy image data\n",
    "    : label_batch: Batch of Numpy label data\n",
    "    \"\"\"\n",
    "    session.run(optimizer, feed_dict={x:feature_batch, y:label_batch, keep_prob:keep_probability})\n"
   ]
  },
  {
   "cell_type": "code",
   "execution_count": 60,
   "metadata": {
    "collapsed": true
   },
   "outputs": [],
   "source": [
    "def print_stats(session, feature_batch, label_batch, cost, accuracy):\n",
    "    \"\"\"\n",
    "    Print information about loss and validation accuracy\n",
    "    : session: Current TensorFlow session\n",
    "    : feature_batch: Batch of Numpy image data\n",
    "    : label_batch: Batch of Numpy label data\n",
    "    : cost: TensorFlow cost function\n",
    "    : accuracy: TensorFlow accuracy function\n",
    "    \"\"\"\n",
    "    loss = session.run(cost, feed_dict={x:feature_batch, y:label_batch, keep_prob:1.0})\n",
    "    valid_acc = sess.run(accuracy, feed_dict={\n",
    "                x: valid_features,\n",
    "                y: valid_labels,\n",
    "                keep_prob: 1.})\n",
    "    print('Loss: {:>10.4f} Validation Accuracy: {:.6f}'.format(\n",
    "                loss,\n",
    "                valid_acc))\n"
   ]
  },
  {
   "cell_type": "code",
   "execution_count": 70,
   "metadata": {},
   "outputs": [
    {
     "name": "stdout",
     "output_type": "stream",
     "text": [
      "Checking the Training on a Single Batch...\n"
     ]
    },
    {
     "name": "stderr",
     "output_type": "stream",
     "text": [
      "\r",
      "Epoch  1/100:   0%|                                 | 0/5 [00:00<?, ?batches/s]"
     ]
    },
    {
     "name": "stdout",
     "output_type": "stream",
     "text": [
      "Epoch  1, CIFAR-10 Batch 0:  Loss:     1.1174 Validation Accuracy: 0.353571\n"
     ]
    },
    {
     "name": "stderr",
     "output_type": "stream",
     "text": [
      "\r",
      "Epoch  1/100:  20%|█████                    | 1/5 [00:31<02:07, 31.88s/batches]"
     ]
    },
    {
     "name": "stdout",
     "output_type": "stream",
     "text": [
      "Epoch  1, CIFAR-10 Batch 1:  Loss:     1.0870 Validation Accuracy: 0.353571\n"
     ]
    },
    {
     "name": "stderr",
     "output_type": "stream",
     "text": [
      "\r",
      "Epoch  1/100:  40%|██████████               | 2/5 [01:03<01:34, 31.54s/batches]"
     ]
    },
    {
     "name": "stdout",
     "output_type": "stream",
     "text": [
      "Epoch  1, CIFAR-10 Batch 2:  Loss:     1.0870 Validation Accuracy: 0.479464\n"
     ]
    },
    {
     "name": "stderr",
     "output_type": "stream",
     "text": [
      "\r",
      "Epoch  1/100:  60%|███████████████          | 3/5 [01:34<01:02, 31.38s/batches]"
     ]
    },
    {
     "name": "stdout",
     "output_type": "stream",
     "text": [
      "Epoch  1, CIFAR-10 Batch 3:  Loss:     1.0874 Validation Accuracy: 0.384375\n"
     ]
    },
    {
     "name": "stderr",
     "output_type": "stream",
     "text": [
      "\r",
      "Epoch  1/100:  80%|████████████████████     | 4/5 [02:05<00:31, 31.39s/batches]"
     ]
    },
    {
     "name": "stdout",
     "output_type": "stream",
     "text": [
      "Epoch  1, CIFAR-10 Batch 4:  Loss:     1.0873 Validation Accuracy: 0.373214\n"
     ]
    },
    {
     "name": "stderr",
     "output_type": "stream",
     "text": [
      "Epoch  1/100: 100%|█████████████████████████| 5/5 [02:29<00:00, 29.89s/batches]\n",
      "Epoch  2/100:   0%|                                 | 0/5 [00:00<?, ?batches/s]"
     ]
    },
    {
     "name": "stdout",
     "output_type": "stream",
     "text": [
      "Epoch  2, CIFAR-10 Batch 0:  Loss:     1.0872 Validation Accuracy: 0.372768\n"
     ]
    },
    {
     "name": "stderr",
     "output_type": "stream",
     "text": [
      "\r",
      "Epoch  2/100:  20%|█████                    | 1/5 [00:30<02:03, 30.96s/batches]"
     ]
    },
    {
     "name": "stdout",
     "output_type": "stream",
     "text": [
      "Epoch  2, CIFAR-10 Batch 1:  Loss:     1.0860 Validation Accuracy: 0.371875\n"
     ]
    },
    {
     "name": "stderr",
     "output_type": "stream",
     "text": [
      "\r",
      "Epoch  2/100:  40%|██████████               | 2/5 [01:01<01:32, 30.92s/batches]"
     ]
    },
    {
     "name": "stdout",
     "output_type": "stream",
     "text": [
      "Epoch  2, CIFAR-10 Batch 2:  Loss:     1.0835 Validation Accuracy: 0.375000\n"
     ]
    },
    {
     "name": "stderr",
     "output_type": "stream",
     "text": [
      "\r",
      "Epoch  2/100:  60%|███████████████          | 3/5 [01:33<01:02, 31.14s/batches]"
     ]
    },
    {
     "name": "stdout",
     "output_type": "stream",
     "text": [
      "Epoch  2, CIFAR-10 Batch 3:  Loss:     1.0793 Validation Accuracy: 0.379018\n"
     ]
    },
    {
     "name": "stderr",
     "output_type": "stream",
     "text": [
      "\r",
      "Epoch  2/100:  80%|████████████████████     | 4/5 [02:05<00:31, 31.29s/batches]"
     ]
    },
    {
     "name": "stdout",
     "output_type": "stream",
     "text": [
      "Epoch  2, CIFAR-10 Batch 4:  Loss:     1.0736 Validation Accuracy: 0.462500\n"
     ]
    },
    {
     "name": "stderr",
     "output_type": "stream",
     "text": [
      "Epoch  2/100: 100%|█████████████████████████| 5/5 [02:29<00:00, 29.90s/batches]\n",
      "Epoch  3/100:   0%|                                 | 0/5 [00:00<?, ?batches/s]"
     ]
    },
    {
     "name": "stdout",
     "output_type": "stream",
     "text": [
      "Epoch  3, CIFAR-10 Batch 0:  Loss:     1.0666 Validation Accuracy: 0.357589\n"
     ]
    },
    {
     "name": "stderr",
     "output_type": "stream",
     "text": [
      "\r",
      "Epoch  3/100:  20%|█████                    | 1/5 [00:31<02:05, 31.49s/batches]"
     ]
    },
    {
     "name": "stdout",
     "output_type": "stream",
     "text": [
      "Epoch  3, CIFAR-10 Batch 1:  Loss:     1.0593 Validation Accuracy: 0.354018\n"
     ]
    },
    {
     "name": "stderr",
     "output_type": "stream",
     "text": [
      "\r",
      "Epoch  3/100:  40%|██████████               | 2/5 [01:02<01:34, 31.49s/batches]"
     ]
    },
    {
     "name": "stdout",
     "output_type": "stream",
     "text": [
      "Epoch  3, CIFAR-10 Batch 2:  Loss:     1.0520 Validation Accuracy: 0.354911\n"
     ]
    },
    {
     "name": "stderr",
     "output_type": "stream",
     "text": [
      "\r",
      "Epoch  3/100:  60%|███████████████          | 3/5 [01:34<01:03, 31.59s/batches]"
     ]
    },
    {
     "name": "stdout",
     "output_type": "stream",
     "text": [
      "Epoch  3, CIFAR-10 Batch 3:  Loss:     1.0459 Validation Accuracy: 0.355804\n"
     ]
    },
    {
     "name": "stderr",
     "output_type": "stream",
     "text": [
      "\r",
      "Epoch  3/100:  80%|████████████████████     | 4/5 [02:06<00:31, 31.57s/batches]"
     ]
    },
    {
     "name": "stdout",
     "output_type": "stream",
     "text": [
      "Epoch  3, CIFAR-10 Batch 4:  Loss:     1.0410 Validation Accuracy: 0.364732\n"
     ]
    },
    {
     "name": "stderr",
     "output_type": "stream",
     "text": [
      "Epoch  3/100: 100%|█████████████████████████| 5/5 [02:30<00:00, 30.17s/batches]\n",
      "Epoch  4/100:   0%|                                 | 0/5 [00:00<?, ?batches/s]"
     ]
    },
    {
     "name": "stdout",
     "output_type": "stream",
     "text": [
      "Epoch  4, CIFAR-10 Batch 0:  Loss:     1.0364 Validation Accuracy: 0.379018\n"
     ]
    },
    {
     "name": "stderr",
     "output_type": "stream",
     "text": [
      "\r",
      "Epoch  4/100:  20%|█████                    | 1/5 [00:31<02:06, 31.64s/batches]"
     ]
    },
    {
     "name": "stdout",
     "output_type": "stream",
     "text": [
      "Epoch  4, CIFAR-10 Batch 1:  Loss:     1.0323 Validation Accuracy: 0.401339\n"
     ]
    },
    {
     "name": "stderr",
     "output_type": "stream",
     "text": [
      "\r",
      "Epoch  4/100:  40%|██████████               | 2/5 [01:03<01:35, 31.71s/batches]"
     ]
    },
    {
     "name": "stdout",
     "output_type": "stream",
     "text": [
      "Epoch  4, CIFAR-10 Batch 2:  Loss:     1.0281 Validation Accuracy: 0.422768\n"
     ]
    },
    {
     "name": "stderr",
     "output_type": "stream",
     "text": [
      "\r",
      "Epoch  4/100:  60%|███████████████          | 3/5 [01:34<01:03, 31.65s/batches]"
     ]
    },
    {
     "name": "stdout",
     "output_type": "stream",
     "text": [
      "Epoch  4, CIFAR-10 Batch 3:  Loss:     1.0239 Validation Accuracy: 0.454911\n"
     ]
    },
    {
     "name": "stderr",
     "output_type": "stream",
     "text": [
      "\r",
      "Epoch  4/100:  80%|████████████████████     | 4/5 [02:06<00:31, 31.61s/batches]"
     ]
    },
    {
     "name": "stdout",
     "output_type": "stream",
     "text": [
      "Epoch  4, CIFAR-10 Batch 4:  Loss:     1.0188 Validation Accuracy: 0.512054\n"
     ]
    },
    {
     "name": "stderr",
     "output_type": "stream",
     "text": [
      "Epoch  4/100: 100%|█████████████████████████| 5/5 [02:30<00:00, 30.19s/batches]\n",
      "Epoch  5/100:   0%|                                 | 0/5 [00:00<?, ?batches/s]"
     ]
    },
    {
     "name": "stdout",
     "output_type": "stream",
     "text": [
      "Epoch  5, CIFAR-10 Batch 0:  Loss:     1.0112 Validation Accuracy: 0.544643\n"
     ]
    },
    {
     "name": "stderr",
     "output_type": "stream",
     "text": [
      "\r",
      "Epoch  5/100:  20%|█████                    | 1/5 [00:32<02:08, 32.00s/batches]"
     ]
    },
    {
     "name": "stdout",
     "output_type": "stream",
     "text": [
      "Epoch  5, CIFAR-10 Batch 1:  Loss:     1.0014 Validation Accuracy: 0.574107\n"
     ]
    },
    {
     "name": "stderr",
     "output_type": "stream",
     "text": [
      "\r",
      "Epoch  5/100:  40%|██████████               | 2/5 [01:04<01:36, 32.08s/batches]"
     ]
    },
    {
     "name": "stdout",
     "output_type": "stream",
     "text": [
      "Epoch  5, CIFAR-10 Batch 2:  Loss:     0.9900 Validation Accuracy: 0.596429\n"
     ]
    },
    {
     "name": "stderr",
     "output_type": "stream",
     "text": [
      "\r",
      "Epoch  5/100:  60%|███████████████          | 3/5 [01:36<01:04, 32.14s/batches]"
     ]
    },
    {
     "name": "stdout",
     "output_type": "stream",
     "text": [
      "Epoch  5, CIFAR-10 Batch 3:  Loss:     0.9772 Validation Accuracy: 0.622768\n"
     ]
    },
    {
     "name": "stderr",
     "output_type": "stream",
     "text": [
      "\r",
      "Epoch  5/100:  80%|████████████████████     | 4/5 [02:16<00:34, 34.04s/batches]"
     ]
    },
    {
     "name": "stdout",
     "output_type": "stream",
     "text": [
      "Epoch  5, CIFAR-10 Batch 4:  Loss:     0.9623 Validation Accuracy: 0.619196\n"
     ]
    },
    {
     "name": "stderr",
     "output_type": "stream",
     "text": [
      "Epoch  5/100: 100%|█████████████████████████| 5/5 [07:25<00:00, 89.08s/batches]\n",
      "Epoch  6/100:   0%|                                 | 0/5 [00:00<?, ?batches/s]"
     ]
    },
    {
     "name": "stdout",
     "output_type": "stream",
     "text": [
      "Epoch  6, CIFAR-10 Batch 0:  Loss:     0.9465 Validation Accuracy: 0.616964\n"
     ]
    },
    {
     "name": "stderr",
     "output_type": "stream",
     "text": [
      "\r",
      "Epoch  6/100:  20%|█████                    | 1/5 [00:32<02:09, 32.38s/batches]"
     ]
    },
    {
     "name": "stdout",
     "output_type": "stream",
     "text": [
      "Epoch  6, CIFAR-10 Batch 1:  Loss:     0.9307 Validation Accuracy: 0.613393\n"
     ]
    },
    {
     "name": "stderr",
     "output_type": "stream",
     "text": [
      "\r",
      "Epoch  6/100:  40%|██████████               | 2/5 [01:04<01:37, 32.49s/batches]"
     ]
    },
    {
     "name": "stdout",
     "output_type": "stream",
     "text": [
      "Epoch  6, CIFAR-10 Batch 2:  Loss:     0.9166 Validation Accuracy: 0.607589\n"
     ]
    },
    {
     "name": "stderr",
     "output_type": "stream",
     "text": [
      "\r",
      "Epoch  6/100:  60%|███████████████          | 3/5 [01:39<01:06, 33.07s/batches]"
     ]
    },
    {
     "name": "stdout",
     "output_type": "stream",
     "text": [
      "Epoch  6, CIFAR-10 Batch 3:  Loss:     0.9037 Validation Accuracy: 0.599107\n"
     ]
    },
    {
     "name": "stderr",
     "output_type": "stream",
     "text": [
      "\r",
      "Epoch  6/100:  80%|████████████████████     | 4/5 [02:12<00:33, 33.20s/batches]"
     ]
    },
    {
     "name": "stdout",
     "output_type": "stream",
     "text": [
      "Epoch  6, CIFAR-10 Batch 4:  Loss:     0.8914 Validation Accuracy: 0.589732\n"
     ]
    },
    {
     "name": "stderr",
     "output_type": "stream",
     "text": [
      "Epoch  6/100: 100%|█████████████████████████| 5/5 [02:37<00:00, 31.51s/batches]\n",
      "Epoch  7/100:   0%|                                 | 0/5 [00:00<?, ?batches/s]"
     ]
    },
    {
     "name": "stdout",
     "output_type": "stream",
     "text": [
      "Epoch  7, CIFAR-10 Batch 0:  Loss:     0.8828 Validation Accuracy: 0.587500\n"
     ]
    },
    {
     "name": "stderr",
     "output_type": "stream",
     "text": [
      "\r",
      "Epoch  7/100:  20%|█████                    | 1/5 [00:33<02:13, 33.27s/batches]"
     ]
    },
    {
     "name": "stdout",
     "output_type": "stream",
     "text": [
      "Epoch  7, CIFAR-10 Batch 1:  Loss:     0.8744 Validation Accuracy: 0.591071\n"
     ]
    },
    {
     "name": "stderr",
     "output_type": "stream",
     "text": [
      "\r",
      "Epoch  7/100:  40%|██████████               | 2/5 [01:05<01:37, 32.55s/batches]"
     ]
    },
    {
     "name": "stdout",
     "output_type": "stream",
     "text": [
      "Epoch  7, CIFAR-10 Batch 2:  Loss:     0.8660 Validation Accuracy: 0.608036\n"
     ]
    },
    {
     "name": "stderr",
     "output_type": "stream",
     "text": [
      "\r",
      "Epoch  7/100:  60%|███████████████          | 3/5 [01:36<01:04, 32.29s/batches]"
     ]
    },
    {
     "name": "stdout",
     "output_type": "stream",
     "text": [
      "Epoch  7, CIFAR-10 Batch 3:  Loss:     0.8610 Validation Accuracy: 0.615625\n"
     ]
    },
    {
     "name": "stderr",
     "output_type": "stream",
     "text": [
      "\r",
      "Epoch  7/100:  80%|████████████████████     | 4/5 [02:08<00:32, 32.16s/batches]"
     ]
    },
    {
     "name": "stdout",
     "output_type": "stream",
     "text": [
      "Epoch  7, CIFAR-10 Batch 4:  Loss:     0.8570 Validation Accuracy: 0.625000\n"
     ]
    },
    {
     "name": "stderr",
     "output_type": "stream",
     "text": [
      "Epoch  7/100: 100%|█████████████████████████| 5/5 [02:33<00:00, 30.70s/batches]\n",
      "Epoch  8/100:   0%|                                 | 0/5 [00:00<?, ?batches/s]"
     ]
    },
    {
     "name": "stdout",
     "output_type": "stream",
     "text": [
      "Epoch  8, CIFAR-10 Batch 0:  Loss:     0.8560 Validation Accuracy: 0.626786\n"
     ]
    },
    {
     "name": "stderr",
     "output_type": "stream",
     "text": [
      "\r",
      "Epoch  8/100:  20%|█████                    | 1/5 [00:31<02:07, 31.98s/batches]"
     ]
    },
    {
     "name": "stdout",
     "output_type": "stream",
     "text": [
      "Epoch  8, CIFAR-10 Batch 1:  Loss:     0.8537 Validation Accuracy: 0.630357\n"
     ]
    },
    {
     "name": "stderr",
     "output_type": "stream",
     "text": [
      "\r",
      "Epoch  8/100:  40%|██████████               | 2/5 [01:03<01:35, 31.98s/batches]"
     ]
    },
    {
     "name": "stdout",
     "output_type": "stream",
     "text": [
      "Epoch  8, CIFAR-10 Batch 2:  Loss:     0.8463 Validation Accuracy: 0.626339\n"
     ]
    },
    {
     "name": "stderr",
     "output_type": "stream",
     "text": [
      "\r",
      "Epoch  8/100:  60%|███████████████          | 3/5 [01:35<01:03, 31.90s/batches]"
     ]
    },
    {
     "name": "stdout",
     "output_type": "stream",
     "text": [
      "Epoch  8, CIFAR-10 Batch 3:  Loss:     0.8410 Validation Accuracy: 0.630804\n"
     ]
    },
    {
     "name": "stderr",
     "output_type": "stream",
     "text": [
      "\r",
      "Epoch  8/100:  80%|████████████████████     | 4/5 [02:07<00:31, 31.88s/batches]"
     ]
    },
    {
     "name": "stdout",
     "output_type": "stream",
     "text": [
      "Epoch  8, CIFAR-10 Batch 4:  Loss:     0.8365 Validation Accuracy: 0.633929\n"
     ]
    },
    {
     "name": "stderr",
     "output_type": "stream",
     "text": [
      "Epoch  8/100: 100%|█████████████████████████| 5/5 [02:32<00:00, 30.45s/batches]\n",
      "Epoch  9/100:   0%|                                 | 0/5 [00:00<?, ?batches/s]"
     ]
    },
    {
     "name": "stdout",
     "output_type": "stream",
     "text": [
      "Epoch  9, CIFAR-10 Batch 0:  Loss:     0.8347 Validation Accuracy: 0.628125\n"
     ]
    },
    {
     "name": "stderr",
     "output_type": "stream",
     "text": [
      "\r",
      "Epoch  9/100:  20%|█████                    | 1/5 [00:31<02:07, 31.83s/batches]"
     ]
    },
    {
     "name": "stdout",
     "output_type": "stream",
     "text": [
      "Epoch  9, CIFAR-10 Batch 1:  Loss:     0.8346 Validation Accuracy: 0.635268\n"
     ]
    },
    {
     "name": "stderr",
     "output_type": "stream",
     "text": [
      "\r",
      "Epoch  9/100:  40%|██████████               | 2/5 [01:06<01:39, 33.04s/batches]"
     ]
    },
    {
     "name": "stdout",
     "output_type": "stream",
     "text": [
      "Epoch  9, CIFAR-10 Batch 2:  Loss:     0.8305 Validation Accuracy: 0.641964\n"
     ]
    },
    {
     "name": "stderr",
     "output_type": "stream",
     "text": [
      "\r",
      "Epoch  9/100:  60%|███████████████          | 3/5 [01:37<01:05, 32.53s/batches]"
     ]
    },
    {
     "name": "stdout",
     "output_type": "stream",
     "text": [
      "Epoch  9, CIFAR-10 Batch 3:  Loss:     0.8257 Validation Accuracy: 0.641071\n"
     ]
    },
    {
     "name": "stderr",
     "output_type": "stream",
     "text": [
      "\r",
      "Epoch  9/100:  80%|████████████████████     | 4/5 [02:09<00:32, 32.50s/batches]"
     ]
    },
    {
     "name": "stdout",
     "output_type": "stream",
     "text": [
      "Epoch  9, CIFAR-10 Batch 4:  Loss:     0.8210 Validation Accuracy: 0.642411\n"
     ]
    },
    {
     "name": "stderr",
     "output_type": "stream",
     "text": [
      "Epoch  9/100: 100%|█████████████████████████| 5/5 [02:34<00:00, 30.98s/batches]\n",
      "Epoch 10/100:   0%|                                 | 0/5 [00:00<?, ?batches/s]"
     ]
    },
    {
     "name": "stdout",
     "output_type": "stream",
     "text": [
      "Epoch 10, CIFAR-10 Batch 0:  Loss:     0.8163 Validation Accuracy: 0.641518\n"
     ]
    },
    {
     "name": "stderr",
     "output_type": "stream",
     "text": [
      "\r",
      "Epoch 10/100:  20%|█████                    | 1/5 [00:32<02:11, 32.77s/batches]"
     ]
    },
    {
     "name": "stdout",
     "output_type": "stream",
     "text": [
      "Epoch 10, CIFAR-10 Batch 1:  Loss:     0.8108 Validation Accuracy: 0.642411\n"
     ]
    },
    {
     "name": "stderr",
     "output_type": "stream",
     "text": [
      "\r",
      "Epoch 10/100:  40%|██████████               | 2/5 [01:06<01:40, 33.38s/batches]"
     ]
    },
    {
     "name": "stdout",
     "output_type": "stream",
     "text": [
      "Epoch 10, CIFAR-10 Batch 2:  Loss:     0.8048 Validation Accuracy: 0.642857\n"
     ]
    },
    {
     "name": "stderr",
     "output_type": "stream",
     "text": [
      "\r",
      "Epoch 10/100:  60%|███████████████          | 3/5 [01:38<01:05, 32.70s/batches]"
     ]
    },
    {
     "name": "stdout",
     "output_type": "stream",
     "text": [
      "Epoch 10, CIFAR-10 Batch 3:  Loss:     0.8017 Validation Accuracy: 0.643304\n"
     ]
    },
    {
     "name": "stderr",
     "output_type": "stream",
     "text": [
      "\r",
      "Epoch 10/100:  80%|████████████████████     | 4/5 [02:09<00:32, 32.28s/batches]"
     ]
    },
    {
     "name": "stdout",
     "output_type": "stream",
     "text": [
      "Epoch 10, CIFAR-10 Batch 4:  Loss:     0.7998 Validation Accuracy: 0.640179\n"
     ]
    },
    {
     "name": "stderr",
     "output_type": "stream",
     "text": [
      "Epoch 10/100: 100%|█████████████████████████| 5/5 [02:34<00:00, 30.95s/batches]\n",
      "Epoch 11/100:   0%|                                 | 0/5 [00:00<?, ?batches/s]"
     ]
    },
    {
     "name": "stdout",
     "output_type": "stream",
     "text": [
      "Epoch 11, CIFAR-10 Batch 0:  Loss:     0.8005 Validation Accuracy: 0.641518\n"
     ]
    },
    {
     "name": "stderr",
     "output_type": "stream",
     "text": [
      "\r",
      "Epoch 11/100:  20%|█████                    | 1/5 [00:33<02:13, 33.27s/batches]"
     ]
    },
    {
     "name": "stdout",
     "output_type": "stream",
     "text": [
      "Epoch 11, CIFAR-10 Batch 1:  Loss:     0.8010 Validation Accuracy: 0.641071\n"
     ]
    },
    {
     "name": "stderr",
     "output_type": "stream",
     "text": [
      "\r",
      "Epoch 11/100:  40%|██████████               | 2/5 [01:04<01:36, 32.30s/batches]"
     ]
    },
    {
     "name": "stdout",
     "output_type": "stream",
     "text": [
      "Epoch 11, CIFAR-10 Batch 2:  Loss:     0.7964 Validation Accuracy: 0.642411\n"
     ]
    },
    {
     "name": "stderr",
     "output_type": "stream",
     "text": [
      "\r",
      "Epoch 11/100:  60%|███████████████          | 3/5 [01:38<01:05, 32.92s/batches]"
     ]
    },
    {
     "name": "stdout",
     "output_type": "stream",
     "text": [
      "Epoch 11, CIFAR-10 Batch 3:  Loss:     0.7936 Validation Accuracy: 0.645982\n"
     ]
    },
    {
     "name": "stderr",
     "output_type": "stream",
     "text": [
      "\r",
      "Epoch 11/100:  80%|████████████████████     | 4/5 [02:10<00:32, 32.52s/batches]"
     ]
    },
    {
     "name": "stdout",
     "output_type": "stream",
     "text": [
      "Epoch 11, CIFAR-10 Batch 4:  Loss:     0.7925 Validation Accuracy: 0.641071\n"
     ]
    },
    {
     "name": "stderr",
     "output_type": "stream",
     "text": [
      "Epoch 11/100: 100%|█████████████████████████| 5/5 [02:35<00:00, 31.02s/batches]\n",
      "Epoch 12/100:   0%|                                 | 0/5 [00:00<?, ?batches/s]"
     ]
    },
    {
     "name": "stdout",
     "output_type": "stream",
     "text": [
      "Epoch 12, CIFAR-10 Batch 0:  Loss:     0.7919 Validation Accuracy: 0.645536\n"
     ]
    },
    {
     "name": "stderr",
     "output_type": "stream",
     "text": [
      "\r",
      "Epoch 12/100:  20%|█████                    | 1/5 [00:30<02:03, 30.86s/batches]"
     ]
    },
    {
     "name": "stdout",
     "output_type": "stream",
     "text": [
      "Epoch 12, CIFAR-10 Batch 1:  Loss:     0.7924 Validation Accuracy: 0.646429\n"
     ]
    },
    {
     "name": "stderr",
     "output_type": "stream",
     "text": [
      "\r",
      "Epoch 12/100:  40%|██████████               | 2/5 [01:02<01:34, 31.35s/batches]"
     ]
    },
    {
     "name": "stdout",
     "output_type": "stream",
     "text": [
      "Epoch 12, CIFAR-10 Batch 2:  Loss:     0.7898 Validation Accuracy: 0.648661\n"
     ]
    },
    {
     "name": "stderr",
     "output_type": "stream",
     "text": [
      "\r",
      "Epoch 12/100:  60%|███████████████          | 3/5 [01:35<01:03, 31.88s/batches]"
     ]
    },
    {
     "name": "stdout",
     "output_type": "stream",
     "text": [
      "Epoch 12, CIFAR-10 Batch 3:  Loss:     0.7870 Validation Accuracy: 0.650446\n"
     ]
    },
    {
     "name": "stderr",
     "output_type": "stream",
     "text": [
      "\r",
      "Epoch 12/100:  80%|████████████████████     | 4/5 [02:06<00:31, 31.67s/batches]"
     ]
    },
    {
     "name": "stdout",
     "output_type": "stream",
     "text": [
      "Epoch 12, CIFAR-10 Batch 4:  Loss:     0.7830 Validation Accuracy: 0.649554\n"
     ]
    },
    {
     "name": "stderr",
     "output_type": "stream",
     "text": [
      "Epoch 12/100: 100%|█████████████████████████| 5/5 [02:30<00:00, 30.15s/batches]\n",
      "Epoch 13/100:   0%|                                 | 0/5 [00:00<?, ?batches/s]"
     ]
    },
    {
     "name": "stdout",
     "output_type": "stream",
     "text": [
      "Epoch 13, CIFAR-10 Batch 0:  Loss:     0.7799 Validation Accuracy: 0.653571\n"
     ]
    },
    {
     "name": "stderr",
     "output_type": "stream",
     "text": [
      "\r",
      "Epoch 13/100:  20%|█████                    | 1/5 [00:31<02:04, 31.12s/batches]"
     ]
    },
    {
     "name": "stdout",
     "output_type": "stream",
     "text": [
      "Epoch 13, CIFAR-10 Batch 1:  Loss:     0.7759 Validation Accuracy: 0.654018\n"
     ]
    },
    {
     "name": "stderr",
     "output_type": "stream",
     "text": [
      "\r",
      "Epoch 13/100:  40%|██████████               | 2/5 [01:02<01:33, 31.12s/batches]"
     ]
    },
    {
     "name": "stdout",
     "output_type": "stream",
     "text": [
      "Epoch 13, CIFAR-10 Batch 2:  Loss:     0.7710 Validation Accuracy: 0.655804\n"
     ]
    },
    {
     "name": "stderr",
     "output_type": "stream",
     "text": [
      "\r",
      "Epoch 13/100:  60%|███████████████          | 3/5 [01:33<01:02, 31.07s/batches]"
     ]
    },
    {
     "name": "stdout",
     "output_type": "stream",
     "text": [
      "Epoch 13, CIFAR-10 Batch 3:  Loss:     0.7688 Validation Accuracy: 0.651786\n"
     ]
    },
    {
     "name": "stderr",
     "output_type": "stream",
     "text": [
      "\r",
      "Epoch 13/100:  80%|████████████████████     | 4/5 [02:05<00:31, 31.39s/batches]"
     ]
    },
    {
     "name": "stdout",
     "output_type": "stream",
     "text": [
      "Epoch 13, CIFAR-10 Batch 4:  Loss:     0.7663 Validation Accuracy: 0.653125\n"
     ]
    },
    {
     "name": "stderr",
     "output_type": "stream",
     "text": [
      "Epoch 13/100: 100%|█████████████████████████| 5/5 [02:29<00:00, 29.92s/batches]\n",
      "Epoch 14/100:   0%|                                 | 0/5 [00:00<?, ?batches/s]"
     ]
    },
    {
     "name": "stdout",
     "output_type": "stream",
     "text": [
      "Epoch 14, CIFAR-10 Batch 0:  Loss:     0.7644 Validation Accuracy: 0.658929\n"
     ]
    },
    {
     "name": "stderr",
     "output_type": "stream",
     "text": [
      "\r",
      "Epoch 14/100:  20%|█████                    | 1/5 [00:31<02:04, 31.11s/batches]"
     ]
    },
    {
     "name": "stdout",
     "output_type": "stream",
     "text": [
      "Epoch 14, CIFAR-10 Batch 1:  Loss:     0.7608 Validation Accuracy: 0.661161\n"
     ]
    },
    {
     "name": "stderr",
     "output_type": "stream",
     "text": [
      "\r",
      "Epoch 14/100:  40%|██████████               | 2/5 [01:02<01:33, 31.16s/batches]"
     ]
    },
    {
     "name": "stdout",
     "output_type": "stream",
     "text": [
      "Epoch 14, CIFAR-10 Batch 2:  Loss:     0.7570 Validation Accuracy: 0.658036\n"
     ]
    },
    {
     "name": "stderr",
     "output_type": "stream",
     "text": [
      "\r",
      "Epoch 14/100:  60%|███████████████          | 3/5 [01:33<01:02, 31.08s/batches]"
     ]
    },
    {
     "name": "stdout",
     "output_type": "stream",
     "text": [
      "Epoch 14, CIFAR-10 Batch 3:  Loss:     0.7562 Validation Accuracy: 0.651339\n"
     ]
    },
    {
     "name": "stderr",
     "output_type": "stream",
     "text": [
      "\r",
      "Epoch 14/100:  80%|████████████████████     | 4/5 [02:03<00:30, 30.99s/batches]"
     ]
    },
    {
     "name": "stdout",
     "output_type": "stream",
     "text": [
      "Epoch 14, CIFAR-10 Batch 4:  Loss:     0.7545 Validation Accuracy: 0.662054\n"
     ]
    },
    {
     "name": "stderr",
     "output_type": "stream",
     "text": [
      "Epoch 14/100: 100%|█████████████████████████| 5/5 [02:27<00:00, 29.59s/batches]\n",
      "Epoch 15/100:   0%|                                 | 0/5 [00:00<?, ?batches/s]"
     ]
    },
    {
     "name": "stdout",
     "output_type": "stream",
     "text": [
      "Epoch 15, CIFAR-10 Batch 0:  Loss:     0.7549 Validation Accuracy: 0.668750\n"
     ]
    },
    {
     "name": "stderr",
     "output_type": "stream",
     "text": [
      "\r",
      "Epoch 15/100:  20%|█████                    | 1/5 [00:32<02:09, 32.27s/batches]"
     ]
    },
    {
     "name": "stdout",
     "output_type": "stream",
     "text": [
      "Epoch 15, CIFAR-10 Batch 1:  Loss:     0.7555 Validation Accuracy: 0.667411\n"
     ]
    },
    {
     "name": "stderr",
     "output_type": "stream",
     "text": [
      "\r",
      "Epoch 15/100:  40%|██████████               | 2/5 [01:03<01:35, 31.69s/batches]"
     ]
    },
    {
     "name": "stdout",
     "output_type": "stream",
     "text": [
      "Epoch 15, CIFAR-10 Batch 2:  Loss:     0.7499 Validation Accuracy: 0.671429\n"
     ]
    },
    {
     "name": "stderr",
     "output_type": "stream",
     "text": [
      "\r",
      "Epoch 15/100:  60%|███████████████          | 3/5 [01:34<01:02, 31.37s/batches]"
     ]
    },
    {
     "name": "stdout",
     "output_type": "stream",
     "text": [
      "Epoch 15, CIFAR-10 Batch 3:  Loss:     0.7469 Validation Accuracy: 0.670089\n"
     ]
    },
    {
     "name": "stderr",
     "output_type": "stream",
     "text": [
      "\r",
      "Epoch 15/100:  80%|████████████████████     | 4/5 [02:04<00:31, 31.25s/batches]"
     ]
    },
    {
     "name": "stdout",
     "output_type": "stream",
     "text": [
      "Epoch 15, CIFAR-10 Batch 4:  Loss:     0.7434 Validation Accuracy: 0.668304\n"
     ]
    },
    {
     "name": "stderr",
     "output_type": "stream",
     "text": [
      "Epoch 15/100: 100%|█████████████████████████| 5/5 [02:30<00:00, 30.09s/batches]\n",
      "Epoch 16/100:   0%|                                 | 0/5 [00:00<?, ?batches/s]"
     ]
    },
    {
     "name": "stdout",
     "output_type": "stream",
     "text": [
      "Epoch 16, CIFAR-10 Batch 0:  Loss:     0.7402 Validation Accuracy: 0.674107\n"
     ]
    },
    {
     "name": "stderr",
     "output_type": "stream",
     "text": [
      "\r",
      "Epoch 16/100:  20%|█████                    | 1/5 [00:30<02:02, 30.69s/batches]"
     ]
    },
    {
     "name": "stdout",
     "output_type": "stream",
     "text": [
      "Epoch 16, CIFAR-10 Batch 1:  Loss:     0.7379 Validation Accuracy: 0.669643\n"
     ]
    },
    {
     "name": "stderr",
     "output_type": "stream",
     "text": [
      "\r",
      "Epoch 16/100:  40%|██████████               | 2/5 [01:02<01:33, 31.14s/batches]"
     ]
    },
    {
     "name": "stdout",
     "output_type": "stream",
     "text": [
      "Epoch 16, CIFAR-10 Batch 2:  Loss:     0.7333 Validation Accuracy: 0.672321\n"
     ]
    },
    {
     "name": "stderr",
     "output_type": "stream",
     "text": [
      "\r",
      "Epoch 16/100:  60%|███████████████          | 3/5 [01:33<01:02, 31.19s/batches]"
     ]
    },
    {
     "name": "stdout",
     "output_type": "stream",
     "text": [
      "Epoch 16, CIFAR-10 Batch 3:  Loss:     0.7304 Validation Accuracy: 0.669196\n"
     ]
    },
    {
     "name": "stderr",
     "output_type": "stream",
     "text": [
      "\r",
      "Epoch 16/100:  80%|████████████████████     | 4/5 [02:04<00:31, 31.16s/batches]"
     ]
    },
    {
     "name": "stdout",
     "output_type": "stream",
     "text": [
      "Epoch 16, CIFAR-10 Batch 4:  Loss:     0.7255 Validation Accuracy: 0.677679\n"
     ]
    },
    {
     "name": "stderr",
     "output_type": "stream",
     "text": [
      "Epoch 16/100: 100%|█████████████████████████| 5/5 [02:28<00:00, 29.73s/batches]\n",
      "Epoch 17/100:   0%|                                 | 0/5 [00:00<?, ?batches/s]"
     ]
    },
    {
     "name": "stdout",
     "output_type": "stream",
     "text": [
      "Epoch 17, CIFAR-10 Batch 0:  Loss:     0.7241 Validation Accuracy: 0.681696\n"
     ]
    },
    {
     "name": "stderr",
     "output_type": "stream",
     "text": [
      "\r",
      "Epoch 17/100:  20%|█████                    | 1/5 [00:31<02:04, 31.14s/batches]"
     ]
    },
    {
     "name": "stdout",
     "output_type": "stream",
     "text": [
      "Epoch 17, CIFAR-10 Batch 1:  Loss:     0.7218 Validation Accuracy: 0.685714\n"
     ]
    },
    {
     "name": "stderr",
     "output_type": "stream",
     "text": [
      "\r",
      "Epoch 17/100:  40%|██████████               | 2/5 [01:01<01:32, 30.99s/batches]"
     ]
    },
    {
     "name": "stdout",
     "output_type": "stream",
     "text": [
      "Epoch 17, CIFAR-10 Batch 2:  Loss:     0.7164 Validation Accuracy: 0.682589\n"
     ]
    },
    {
     "name": "stderr",
     "output_type": "stream",
     "text": [
      "\r",
      "Epoch 17/100:  60%|███████████████          | 3/5 [01:33<01:02, 31.04s/batches]"
     ]
    },
    {
     "name": "stdout",
     "output_type": "stream",
     "text": [
      "Epoch 17, CIFAR-10 Batch 3:  Loss:     0.7166 Validation Accuracy: 0.673661\n"
     ]
    },
    {
     "name": "stderr",
     "output_type": "stream",
     "text": [
      "\r",
      "Epoch 17/100:  80%|████████████████████     | 4/5 [02:04<00:31, 31.04s/batches]"
     ]
    },
    {
     "name": "stdout",
     "output_type": "stream",
     "text": [
      "Epoch 17, CIFAR-10 Batch 4:  Loss:     0.7171 Validation Accuracy: 0.675000\n"
     ]
    },
    {
     "name": "stderr",
     "output_type": "stream",
     "text": [
      "Epoch 17/100: 100%|█████████████████████████| 5/5 [02:28<00:00, 29.66s/batches]\n",
      "Epoch 18/100:   0%|                                 | 0/5 [00:00<?, ?batches/s]"
     ]
    },
    {
     "name": "stdout",
     "output_type": "stream",
     "text": [
      "Epoch 18, CIFAR-10 Batch 0:  Loss:     0.7188 Validation Accuracy: 0.688393\n"
     ]
    },
    {
     "name": "stderr",
     "output_type": "stream",
     "text": [
      "\r",
      "Epoch 18/100:  20%|█████                    | 1/5 [00:31<02:06, 31.69s/batches]"
     ]
    },
    {
     "name": "stdout",
     "output_type": "stream",
     "text": [
      "Epoch 18, CIFAR-10 Batch 1:  Loss:     0.7194 Validation Accuracy: 0.689732\n"
     ]
    },
    {
     "name": "stderr",
     "output_type": "stream",
     "text": [
      "\r",
      "Epoch 18/100:  40%|██████████               | 2/5 [01:04<01:36, 32.30s/batches]"
     ]
    },
    {
     "name": "stdout",
     "output_type": "stream",
     "text": [
      "Epoch 18, CIFAR-10 Batch 2:  Loss:     0.7106 Validation Accuracy: 0.692857\n"
     ]
    },
    {
     "name": "stderr",
     "output_type": "stream",
     "text": [
      "\r",
      "Epoch 18/100:  60%|███████████████          | 3/5 [01:36<01:04, 32.17s/batches]"
     ]
    },
    {
     "name": "stdout",
     "output_type": "stream",
     "text": [
      "Epoch 18, CIFAR-10 Batch 3:  Loss:     0.7077 Validation Accuracy: 0.686607\n"
     ]
    },
    {
     "name": "stderr",
     "output_type": "stream",
     "text": [
      "\r",
      "Epoch 18/100:  80%|████████████████████     | 4/5 [02:07<00:31, 31.98s/batches]"
     ]
    },
    {
     "name": "stdout",
     "output_type": "stream",
     "text": [
      "Epoch 18, CIFAR-10 Batch 4:  Loss:     0.7042 Validation Accuracy: 0.689732\n"
     ]
    },
    {
     "name": "stderr",
     "output_type": "stream",
     "text": [
      "Epoch 18/100: 100%|█████████████████████████| 5/5 [02:34<00:00, 30.82s/batches]\n",
      "Epoch 19/100:   0%|                                 | 0/5 [00:00<?, ?batches/s]"
     ]
    },
    {
     "name": "stdout",
     "output_type": "stream",
     "text": [
      "Epoch 19, CIFAR-10 Batch 0:  Loss:     0.7021 Validation Accuracy: 0.698214\n"
     ]
    },
    {
     "name": "stderr",
     "output_type": "stream",
     "text": [
      "\r",
      "Epoch 19/100:  20%|█████                    | 1/5 [00:35<02:22, 35.50s/batches]"
     ]
    },
    {
     "name": "stdout",
     "output_type": "stream",
     "text": [
      "Epoch 19, CIFAR-10 Batch 1:  Loss:     0.6995 Validation Accuracy: 0.698661\n"
     ]
    },
    {
     "name": "stderr",
     "output_type": "stream",
     "text": [
      "\r",
      "Epoch 19/100:  40%|██████████               | 2/5 [01:11<01:47, 35.92s/batches]"
     ]
    },
    {
     "name": "stdout",
     "output_type": "stream",
     "text": [
      "Epoch 19, CIFAR-10 Batch 2:  Loss:     0.6927 Validation Accuracy: 0.695982\n"
     ]
    },
    {
     "name": "stderr",
     "output_type": "stream",
     "text": [
      "\r",
      "Epoch 19/100:  60%|███████████████          | 3/5 [01:48<01:12, 36.09s/batches]"
     ]
    },
    {
     "name": "stdout",
     "output_type": "stream",
     "text": [
      "Epoch 19, CIFAR-10 Batch 3:  Loss:     0.6909 Validation Accuracy: 0.688393\n"
     ]
    },
    {
     "name": "stderr",
     "output_type": "stream",
     "text": [
      "\r",
      "Epoch 19/100:  80%|████████████████████     | 4/5 [02:25<00:36, 36.28s/batches]"
     ]
    },
    {
     "name": "stdout",
     "output_type": "stream",
     "text": [
      "Epoch 19, CIFAR-10 Batch 4:  Loss:     0.6868 Validation Accuracy: 0.693304\n"
     ]
    },
    {
     "name": "stderr",
     "output_type": "stream",
     "text": [
      "Epoch 19/100: 100%|█████████████████████████| 5/5 [02:53<00:00, 34.79s/batches]\n",
      "Epoch 20/100:   0%|                                 | 0/5 [00:00<?, ?batches/s]"
     ]
    },
    {
     "name": "stdout",
     "output_type": "stream",
     "text": [
      "Epoch 20, CIFAR-10 Batch 0:  Loss:     0.6846 Validation Accuracy: 0.701339\n"
     ]
    },
    {
     "name": "stderr",
     "output_type": "stream",
     "text": [
      "\r",
      "Epoch 20/100:  20%|█████                    | 1/5 [00:37<02:28, 37.15s/batches]"
     ]
    },
    {
     "name": "stdout",
     "output_type": "stream",
     "text": [
      "Epoch 20, CIFAR-10 Batch 1:  Loss:     0.6815 Validation Accuracy: 0.707143\n"
     ]
    },
    {
     "name": "stderr",
     "output_type": "stream",
     "text": [
      "\r",
      "Epoch 20/100:  40%|██████████               | 2/5 [01:14<01:51, 37.14s/batches]"
     ]
    },
    {
     "name": "stdout",
     "output_type": "stream",
     "text": [
      "Epoch 20, CIFAR-10 Batch 2:  Loss:     0.6753 Validation Accuracy: 0.704018\n"
     ]
    },
    {
     "name": "stderr",
     "output_type": "stream",
     "text": [
      "\r",
      "Epoch 20/100:  60%|███████████████          | 3/5 [01:48<01:12, 36.16s/batches]"
     ]
    },
    {
     "name": "stdout",
     "output_type": "stream",
     "text": [
      "Epoch 20, CIFAR-10 Batch 3:  Loss:     0.6745 Validation Accuracy: 0.698661\n"
     ]
    },
    {
     "name": "stderr",
     "output_type": "stream",
     "text": [
      "\r",
      "Epoch 20/100:  80%|████████████████████     | 4/5 [02:21<00:35, 35.35s/batches]"
     ]
    },
    {
     "name": "stdout",
     "output_type": "stream",
     "text": [
      "Epoch 20, CIFAR-10 Batch 4:  Loss:     0.6758 Validation Accuracy: 0.699107\n"
     ]
    },
    {
     "name": "stderr",
     "output_type": "stream",
     "text": [
      "Epoch 20/100: 100%|█████████████████████████| 5/5 [02:46<00:00, 33.28s/batches]\n",
      "Epoch 21/100:   0%|                                 | 0/5 [00:00<?, ?batches/s]"
     ]
    },
    {
     "name": "stdout",
     "output_type": "stream",
     "text": [
      "Epoch 21, CIFAR-10 Batch 0:  Loss:     0.6771 Validation Accuracy: 0.705804\n"
     ]
    },
    {
     "name": "stderr",
     "output_type": "stream",
     "text": [
      "\r",
      "Epoch 21/100:  20%|█████                    | 1/5 [00:32<02:09, 32.40s/batches]"
     ]
    },
    {
     "name": "stdout",
     "output_type": "stream",
     "text": [
      "Epoch 21, CIFAR-10 Batch 1:  Loss:     0.6724 Validation Accuracy: 0.707143\n"
     ]
    },
    {
     "name": "stderr",
     "output_type": "stream",
     "text": [
      "\r",
      "Epoch 21/100:  40%|██████████               | 2/5 [01:04<01:37, 32.46s/batches]"
     ]
    },
    {
     "name": "stdout",
     "output_type": "stream",
     "text": [
      "Epoch 21, CIFAR-10 Batch 2:  Loss:     0.6678 Validation Accuracy: 0.700893\n"
     ]
    },
    {
     "name": "stderr",
     "output_type": "stream",
     "text": [
      "\r",
      "Epoch 21/100:  60%|███████████████          | 3/5 [01:38<01:05, 32.85s/batches]"
     ]
    },
    {
     "name": "stdout",
     "output_type": "stream",
     "text": [
      "Epoch 21, CIFAR-10 Batch 3:  Loss:     0.6685 Validation Accuracy: 0.700893\n"
     ]
    },
    {
     "name": "stderr",
     "output_type": "stream",
     "text": [
      "\r",
      "Epoch 21/100:  80%|████████████████████     | 4/5 [02:09<00:32, 32.45s/batches]"
     ]
    },
    {
     "name": "stdout",
     "output_type": "stream",
     "text": [
      "Epoch 21, CIFAR-10 Batch 4:  Loss:     0.6702 Validation Accuracy: 0.706250\n"
     ]
    },
    {
     "name": "stderr",
     "output_type": "stream",
     "text": [
      "Epoch 21/100: 100%|█████████████████████████| 5/5 [02:34<00:00, 30.82s/batches]\n",
      "Epoch 22/100:   0%|                                 | 0/5 [00:00<?, ?batches/s]"
     ]
    },
    {
     "name": "stdout",
     "output_type": "stream",
     "text": [
      "Epoch 22, CIFAR-10 Batch 0:  Loss:     0.6762 Validation Accuracy: 0.713393\n"
     ]
    },
    {
     "name": "stderr",
     "output_type": "stream",
     "text": [
      "\r",
      "Epoch 22/100:  20%|█████                    | 1/5 [00:31<02:04, 31.05s/batches]"
     ]
    },
    {
     "name": "stdout",
     "output_type": "stream",
     "text": [
      "Epoch 22, CIFAR-10 Batch 1:  Loss:     0.6678 Validation Accuracy: 0.715179\n"
     ]
    },
    {
     "name": "stderr",
     "output_type": "stream",
     "text": [
      "\r",
      "Epoch 22/100:  40%|██████████               | 2/5 [01:02<01:33, 31.12s/batches]"
     ]
    },
    {
     "name": "stdout",
     "output_type": "stream",
     "text": [
      "Epoch 22, CIFAR-10 Batch 2:  Loss:     0.6584 Validation Accuracy: 0.712946\n"
     ]
    },
    {
     "name": "stderr",
     "output_type": "stream",
     "text": [
      "\r",
      "Epoch 22/100:  60%|███████████████          | 3/5 [01:33<01:02, 31.06s/batches]"
     ]
    },
    {
     "name": "stdout",
     "output_type": "stream",
     "text": [
      "Epoch 22, CIFAR-10 Batch 3:  Loss:     0.6580 Validation Accuracy: 0.703571\n"
     ]
    },
    {
     "name": "stderr",
     "output_type": "stream",
     "text": [
      "\r",
      "Epoch 22/100:  80%|████████████████████     | 4/5 [02:04<00:31, 31.01s/batches]"
     ]
    },
    {
     "name": "stdout",
     "output_type": "stream",
     "text": [
      "Epoch 22, CIFAR-10 Batch 4:  Loss:     0.6584 Validation Accuracy: 0.700893\n"
     ]
    },
    {
     "name": "stderr",
     "output_type": "stream",
     "text": [
      "Epoch 22/100: 100%|█████████████████████████| 5/5 [02:27<00:00, 29.58s/batches]\n",
      "Epoch 23/100:   0%|                                 | 0/5 [00:00<?, ?batches/s]"
     ]
    },
    {
     "name": "stdout",
     "output_type": "stream",
     "text": [
      "Epoch 23, CIFAR-10 Batch 0:  Loss:     0.6654 Validation Accuracy: 0.705357\n"
     ]
    },
    {
     "name": "stderr",
     "output_type": "stream",
     "text": [
      "\r",
      "Epoch 23/100:  20%|█████                    | 1/5 [00:30<02:03, 30.90s/batches]"
     ]
    },
    {
     "name": "stdout",
     "output_type": "stream",
     "text": [
      "Epoch 23, CIFAR-10 Batch 1:  Loss:     0.6629 Validation Accuracy: 0.712054\n"
     ]
    },
    {
     "name": "stderr",
     "output_type": "stream",
     "text": [
      "\r",
      "Epoch 23/100:  40%|██████████               | 2/5 [01:02<01:33, 31.04s/batches]"
     ]
    },
    {
     "name": "stdout",
     "output_type": "stream",
     "text": [
      "Epoch 23, CIFAR-10 Batch 2:  Loss:     0.6517 Validation Accuracy: 0.715625\n"
     ]
    },
    {
     "name": "stderr",
     "output_type": "stream",
     "text": [
      "\r",
      "Epoch 23/100:  60%|███████████████          | 3/5 [01:33<01:02, 31.04s/batches]"
     ]
    },
    {
     "name": "stdout",
     "output_type": "stream",
     "text": [
      "Epoch 23, CIFAR-10 Batch 3:  Loss:     0.6493 Validation Accuracy: 0.714732\n"
     ]
    },
    {
     "name": "stderr",
     "output_type": "stream",
     "text": [
      "\r",
      "Epoch 23/100:  80%|████████████████████     | 4/5 [02:04<00:31, 31.05s/batches]"
     ]
    },
    {
     "name": "stdout",
     "output_type": "stream",
     "text": [
      "Epoch 23, CIFAR-10 Batch 4:  Loss:     0.6476 Validation Accuracy: 0.718750\n"
     ]
    },
    {
     "name": "stderr",
     "output_type": "stream",
     "text": [
      "Epoch 23/100: 100%|█████████████████████████| 5/5 [02:28<00:00, 29.64s/batches]\n",
      "Epoch 24/100:   0%|                                 | 0/5 [00:00<?, ?batches/s]"
     ]
    },
    {
     "name": "stdout",
     "output_type": "stream",
     "text": [
      "Epoch 24, CIFAR-10 Batch 0:  Loss:     0.6502 Validation Accuracy: 0.723661\n"
     ]
    },
    {
     "name": "stderr",
     "output_type": "stream",
     "text": [
      "\r",
      "Epoch 24/100:  20%|█████                    | 1/5 [00:30<02:03, 30.85s/batches]"
     ]
    },
    {
     "name": "stdout",
     "output_type": "stream",
     "text": [
      "Epoch 24, CIFAR-10 Batch 1:  Loss:     0.6574 Validation Accuracy: 0.719643\n"
     ]
    },
    {
     "name": "stderr",
     "output_type": "stream",
     "text": [
      "\r",
      "Epoch 24/100:  40%|██████████               | 2/5 [01:01<01:32, 30.94s/batches]"
     ]
    },
    {
     "name": "stdout",
     "output_type": "stream",
     "text": [
      "Epoch 24, CIFAR-10 Batch 2:  Loss:     0.6500 Validation Accuracy: 0.722321\n"
     ]
    },
    {
     "name": "stderr",
     "output_type": "stream",
     "text": [
      "\r",
      "Epoch 24/100:  60%|███████████████          | 3/5 [01:32<01:01, 30.98s/batches]"
     ]
    },
    {
     "name": "stdout",
     "output_type": "stream",
     "text": [
      "Epoch 24, CIFAR-10 Batch 3:  Loss:     0.6442 Validation Accuracy: 0.718304\n"
     ]
    },
    {
     "name": "stderr",
     "output_type": "stream",
     "text": [
      "\r",
      "Epoch 24/100:  80%|████████████████████     | 4/5 [02:04<00:31, 31.03s/batches]"
     ]
    },
    {
     "name": "stdout",
     "output_type": "stream",
     "text": [
      "Epoch 24, CIFAR-10 Batch 4:  Loss:     0.6406 Validation Accuracy: 0.719196\n"
     ]
    },
    {
     "name": "stderr",
     "output_type": "stream",
     "text": [
      "Epoch 24/100: 100%|█████████████████████████| 5/5 [02:29<00:00, 29.97s/batches]\n",
      "Epoch 25/100:   0%|                                 | 0/5 [00:00<?, ?batches/s]"
     ]
    },
    {
     "name": "stdout",
     "output_type": "stream",
     "text": [
      "Epoch 25, CIFAR-10 Batch 0:  Loss:     0.6379 Validation Accuracy: 0.729018\n"
     ]
    },
    {
     "name": "stderr",
     "output_type": "stream",
     "text": [
      "\r",
      "Epoch 25/100:  20%|█████                    | 1/5 [00:31<02:05, 31.45s/batches]"
     ]
    },
    {
     "name": "stdout",
     "output_type": "stream",
     "text": [
      "Epoch 25, CIFAR-10 Batch 1:  Loss:     0.6382 Validation Accuracy: 0.725446\n"
     ]
    },
    {
     "name": "stderr",
     "output_type": "stream",
     "text": [
      "\r",
      "Epoch 25/100:  40%|██████████               | 2/5 [01:04<01:36, 32.25s/batches]"
     ]
    },
    {
     "name": "stdout",
     "output_type": "stream",
     "text": [
      "Epoch 25, CIFAR-10 Batch 2:  Loss:     0.6352 Validation Accuracy: 0.727232\n"
     ]
    },
    {
     "name": "stderr",
     "output_type": "stream",
     "text": [
      "\r",
      "Epoch 25/100:  60%|███████████████          | 3/5 [01:36<01:04, 32.19s/batches]"
     ]
    },
    {
     "name": "stdout",
     "output_type": "stream",
     "text": [
      "Epoch 25, CIFAR-10 Batch 3:  Loss:     0.6331 Validation Accuracy: 0.729018\n"
     ]
    },
    {
     "name": "stderr",
     "output_type": "stream",
     "text": [
      "\r",
      "Epoch 25/100:  80%|████████████████████     | 4/5 [02:07<00:31, 31.89s/batches]"
     ]
    },
    {
     "name": "stdout",
     "output_type": "stream",
     "text": [
      "Epoch 25, CIFAR-10 Batch 4:  Loss:     0.6335 Validation Accuracy: 0.727679\n"
     ]
    },
    {
     "name": "stderr",
     "output_type": "stream",
     "text": [
      "Epoch 25/100: 100%|█████████████████████████| 5/5 [02:31<00:00, 30.31s/batches]\n",
      "Epoch 26/100:   0%|                                 | 0/5 [00:00<?, ?batches/s]"
     ]
    },
    {
     "name": "stdout",
     "output_type": "stream",
     "text": [
      "Epoch 26, CIFAR-10 Batch 0:  Loss:     0.6339 Validation Accuracy: 0.727232\n"
     ]
    },
    {
     "name": "stderr",
     "output_type": "stream",
     "text": [
      "\r",
      "Epoch 26/100:  20%|█████                    | 1/5 [00:32<02:09, 32.40s/batches]"
     ]
    },
    {
     "name": "stdout",
     "output_type": "stream",
     "text": [
      "Epoch 26, CIFAR-10 Batch 1:  Loss:     0.6326 Validation Accuracy: 0.729911\n"
     ]
    },
    {
     "name": "stderr",
     "output_type": "stream",
     "text": [
      "\r",
      "Epoch 26/100:  40%|██████████               | 2/5 [01:03<01:34, 31.66s/batches]"
     ]
    },
    {
     "name": "stdout",
     "output_type": "stream",
     "text": [
      "Epoch 26, CIFAR-10 Batch 2:  Loss:     0.6301 Validation Accuracy: 0.731250\n"
     ]
    },
    {
     "name": "stderr",
     "output_type": "stream",
     "text": [
      "\r",
      "Epoch 26/100:  60%|███████████████          | 3/5 [01:34<01:02, 31.44s/batches]"
     ]
    },
    {
     "name": "stdout",
     "output_type": "stream",
     "text": [
      "Epoch 26, CIFAR-10 Batch 3:  Loss:     0.6293 Validation Accuracy: 0.734821\n"
     ]
    },
    {
     "name": "stderr",
     "output_type": "stream",
     "text": [
      "\r",
      "Epoch 26/100:  80%|████████████████████     | 4/5 [02:07<00:31, 31.82s/batches]"
     ]
    },
    {
     "name": "stdout",
     "output_type": "stream",
     "text": [
      "Epoch 26, CIFAR-10 Batch 4:  Loss:     0.6261 Validation Accuracy: 0.730357\n"
     ]
    },
    {
     "name": "stderr",
     "output_type": "stream",
     "text": [
      "Epoch 26/100: 100%|█████████████████████████| 5/5 [02:31<00:00, 30.26s/batches]\n",
      "Epoch 27/100:   0%|                                 | 0/5 [00:00<?, ?batches/s]"
     ]
    },
    {
     "name": "stdout",
     "output_type": "stream",
     "text": [
      "Epoch 27, CIFAR-10 Batch 0:  Loss:     0.6256 Validation Accuracy: 0.728125\n"
     ]
    },
    {
     "name": "stderr",
     "output_type": "stream",
     "text": [
      "\r",
      "Epoch 27/100:  20%|█████                    | 1/5 [00:31<02:04, 31.07s/batches]"
     ]
    },
    {
     "name": "stdout",
     "output_type": "stream",
     "text": [
      "Epoch 27, CIFAR-10 Batch 1:  Loss:     0.6227 Validation Accuracy: 0.726786\n"
     ]
    },
    {
     "name": "stderr",
     "output_type": "stream",
     "text": [
      "\r",
      "Epoch 27/100:  40%|██████████               | 2/5 [01:02<01:33, 31.04s/batches]"
     ]
    },
    {
     "name": "stdout",
     "output_type": "stream",
     "text": [
      "Epoch 27, CIFAR-10 Batch 2:  Loss:     0.6139 Validation Accuracy: 0.732589\n"
     ]
    },
    {
     "name": "stderr",
     "output_type": "stream",
     "text": [
      "\r",
      "Epoch 27/100:  60%|███████████████          | 3/5 [01:33<01:02, 31.02s/batches]"
     ]
    },
    {
     "name": "stdout",
     "output_type": "stream",
     "text": [
      "Epoch 27, CIFAR-10 Batch 3:  Loss:     0.6113 Validation Accuracy: 0.734821\n"
     ]
    },
    {
     "name": "stderr",
     "output_type": "stream",
     "text": [
      "\r",
      "Epoch 27/100:  80%|████████████████████     | 4/5 [02:04<00:31, 31.02s/batches]"
     ]
    },
    {
     "name": "stdout",
     "output_type": "stream",
     "text": [
      "Epoch 27, CIFAR-10 Batch 4:  Loss:     0.6125 Validation Accuracy: 0.734375\n"
     ]
    },
    {
     "name": "stderr",
     "output_type": "stream",
     "text": [
      "Epoch 27/100: 100%|█████████████████████████| 5/5 [02:27<00:00, 29.60s/batches]\n",
      "Epoch 28/100:   0%|                                 | 0/5 [00:00<?, ?batches/s]"
     ]
    },
    {
     "name": "stdout",
     "output_type": "stream",
     "text": [
      "Epoch 28, CIFAR-10 Batch 0:  Loss:     0.6170 Validation Accuracy: 0.725446\n"
     ]
    },
    {
     "name": "stderr",
     "output_type": "stream",
     "text": [
      "\r",
      "Epoch 28/100:  20%|█████                    | 1/5 [00:31<02:04, 31.07s/batches]"
     ]
    },
    {
     "name": "stdout",
     "output_type": "stream",
     "text": [
      "Epoch 28, CIFAR-10 Batch 1:  Loss:     0.6127 Validation Accuracy: 0.729911\n"
     ]
    },
    {
     "name": "stderr",
     "output_type": "stream",
     "text": [
      "\r",
      "Epoch 28/100:  40%|██████████               | 2/5 [01:02<01:33, 31.14s/batches]"
     ]
    },
    {
     "name": "stdout",
     "output_type": "stream",
     "text": [
      "Epoch 28, CIFAR-10 Batch 2:  Loss:     0.6063 Validation Accuracy: 0.739286\n"
     ]
    },
    {
     "name": "stderr",
     "output_type": "stream",
     "text": [
      "\r",
      "Epoch 28/100:  60%|███████████████          | 3/5 [01:33<01:02, 31.13s/batches]"
     ]
    },
    {
     "name": "stdout",
     "output_type": "stream",
     "text": [
      "Epoch 28, CIFAR-10 Batch 3:  Loss:     0.6082 Validation Accuracy: 0.735714\n"
     ]
    },
    {
     "name": "stderr",
     "output_type": "stream",
     "text": [
      "\r",
      "Epoch 28/100:  80%|████████████████████     | 4/5 [02:04<00:31, 31.06s/batches]"
     ]
    },
    {
     "name": "stdout",
     "output_type": "stream",
     "text": [
      "Epoch 28, CIFAR-10 Batch 4:  Loss:     0.6104 Validation Accuracy: 0.733036\n"
     ]
    },
    {
     "name": "stderr",
     "output_type": "stream",
     "text": [
      "Epoch 28/100: 100%|█████████████████████████| 5/5 [02:28<00:00, 29.67s/batches]\n",
      "Epoch 29/100:   0%|                                 | 0/5 [00:00<?, ?batches/s]"
     ]
    },
    {
     "name": "stdout",
     "output_type": "stream",
     "text": [
      "Epoch 29, CIFAR-10 Batch 0:  Loss:     0.6209 Validation Accuracy: 0.728125\n"
     ]
    },
    {
     "name": "stderr",
     "output_type": "stream",
     "text": [
      "\r",
      "Epoch 29/100:  20%|█████                    | 1/5 [00:30<02:03, 30.92s/batches]"
     ]
    },
    {
     "name": "stdout",
     "output_type": "stream",
     "text": [
      "Epoch 29, CIFAR-10 Batch 1:  Loss:     0.6173 Validation Accuracy: 0.732143\n"
     ]
    },
    {
     "name": "stderr",
     "output_type": "stream",
     "text": [
      "\r",
      "Epoch 29/100:  40%|██████████               | 2/5 [01:01<01:32, 30.97s/batches]"
     ]
    },
    {
     "name": "stdout",
     "output_type": "stream",
     "text": [
      "Epoch 29, CIFAR-10 Batch 2:  Loss:     0.6089 Validation Accuracy: 0.740179\n"
     ]
    },
    {
     "name": "stderr",
     "output_type": "stream",
     "text": [
      "\r",
      "Epoch 29/100:  60%|███████████████          | 3/5 [01:32<01:01, 30.95s/batches]"
     ]
    },
    {
     "name": "stdout",
     "output_type": "stream",
     "text": [
      "Epoch 29, CIFAR-10 Batch 3:  Loss:     0.6119 Validation Accuracy: 0.733929\n"
     ]
    },
    {
     "name": "stderr",
     "output_type": "stream",
     "text": [
      "\r",
      "Epoch 29/100:  80%|████████████████████     | 4/5 [02:03<00:30, 30.95s/batches]"
     ]
    },
    {
     "name": "stdout",
     "output_type": "stream",
     "text": [
      "Epoch 29, CIFAR-10 Batch 4:  Loss:     0.6090 Validation Accuracy: 0.738393\n"
     ]
    },
    {
     "name": "stderr",
     "output_type": "stream",
     "text": [
      "Epoch 29/100: 100%|█████████████████████████| 5/5 [02:27<00:00, 29.56s/batches]\n",
      "Epoch 30/100:   0%|                                 | 0/5 [00:00<?, ?batches/s]"
     ]
    },
    {
     "name": "stdout",
     "output_type": "stream",
     "text": [
      "Epoch 30, CIFAR-10 Batch 0:  Loss:     0.6103 Validation Accuracy: 0.740179\n"
     ]
    },
    {
     "name": "stderr",
     "output_type": "stream",
     "text": [
      "\r",
      "Epoch 30/100:  20%|█████                    | 1/5 [00:31<02:04, 31.17s/batches]"
     ]
    },
    {
     "name": "stdout",
     "output_type": "stream",
     "text": [
      "Epoch 30, CIFAR-10 Batch 1:  Loss:     0.6195 Validation Accuracy: 0.731696\n"
     ]
    },
    {
     "name": "stderr",
     "output_type": "stream",
     "text": [
      "\r",
      "Epoch 30/100:  40%|██████████               | 2/5 [01:02<01:33, 31.12s/batches]"
     ]
    },
    {
     "name": "stdout",
     "output_type": "stream",
     "text": [
      "Epoch 30, CIFAR-10 Batch 2:  Loss:     0.6130 Validation Accuracy: 0.733929\n"
     ]
    },
    {
     "name": "stderr",
     "output_type": "stream",
     "text": [
      "\r",
      "Epoch 30/100:  60%|███████████████          | 3/5 [01:33<01:02, 31.04s/batches]"
     ]
    },
    {
     "name": "stdout",
     "output_type": "stream",
     "text": [
      "Epoch 30, CIFAR-10 Batch 3:  Loss:     0.6041 Validation Accuracy: 0.740625\n"
     ]
    },
    {
     "name": "stderr",
     "output_type": "stream",
     "text": [
      "\r",
      "Epoch 30/100:  80%|████████████████████     | 4/5 [02:04<00:31, 31.01s/batches]"
     ]
    },
    {
     "name": "stdout",
     "output_type": "stream",
     "text": [
      "Epoch 30, CIFAR-10 Batch 4:  Loss:     0.5992 Validation Accuracy: 0.739732\n"
     ]
    },
    {
     "name": "stderr",
     "output_type": "stream",
     "text": [
      "Epoch 30/100: 100%|█████████████████████████| 5/5 [02:27<00:00, 29.58s/batches]\n",
      "Epoch 31/100:   0%|                                 | 0/5 [00:00<?, ?batches/s]"
     ]
    },
    {
     "name": "stdout",
     "output_type": "stream",
     "text": [
      "Epoch 31, CIFAR-10 Batch 0:  Loss:     0.5951 Validation Accuracy: 0.741518\n"
     ]
    },
    {
     "name": "stderr",
     "output_type": "stream",
     "text": [
      "\r",
      "Epoch 31/100:  20%|█████                    | 1/5 [00:30<02:03, 30.95s/batches]"
     ]
    },
    {
     "name": "stdout",
     "output_type": "stream",
     "text": [
      "Epoch 31, CIFAR-10 Batch 1:  Loss:     0.5947 Validation Accuracy: 0.744643\n"
     ]
    },
    {
     "name": "stderr",
     "output_type": "stream",
     "text": [
      "\r",
      "Epoch 31/100:  40%|██████████               | 2/5 [01:01<01:32, 30.79s/batches]"
     ]
    },
    {
     "name": "stdout",
     "output_type": "stream",
     "text": [
      "Epoch 31, CIFAR-10 Batch 2:  Loss:     0.5934 Validation Accuracy: 0.745982\n"
     ]
    },
    {
     "name": "stderr",
     "output_type": "stream",
     "text": [
      "\r",
      "Epoch 31/100:  60%|███████████████          | 3/5 [01:32<01:01, 30.76s/batches]"
     ]
    },
    {
     "name": "stdout",
     "output_type": "stream",
     "text": [
      "Epoch 31, CIFAR-10 Batch 3:  Loss:     0.5917 Validation Accuracy: 0.743750\n"
     ]
    },
    {
     "name": "stderr",
     "output_type": "stream",
     "text": [
      "\r",
      "Epoch 31/100:  80%|████████████████████     | 4/5 [02:03<00:30, 30.85s/batches]"
     ]
    },
    {
     "name": "stdout",
     "output_type": "stream",
     "text": [
      "Epoch 31, CIFAR-10 Batch 4:  Loss:     0.5886 Validation Accuracy: 0.745536\n"
     ]
    },
    {
     "name": "stderr",
     "output_type": "stream",
     "text": [
      "Epoch 31/100: 100%|█████████████████████████| 5/5 [02:27<00:00, 29.49s/batches]\n",
      "Epoch 32/100:   0%|                                 | 0/5 [00:00<?, ?batches/s]"
     ]
    },
    {
     "name": "stdout",
     "output_type": "stream",
     "text": [
      "Epoch 32, CIFAR-10 Batch 0:  Loss:     0.5874 Validation Accuracy: 0.743750\n"
     ]
    },
    {
     "name": "stderr",
     "output_type": "stream",
     "text": [
      "\r",
      "Epoch 32/100:  20%|█████                    | 1/5 [00:30<02:03, 30.93s/batches]"
     ]
    },
    {
     "name": "stdout",
     "output_type": "stream",
     "text": [
      "Epoch 32, CIFAR-10 Batch 1:  Loss:     0.5867 Validation Accuracy: 0.744643\n"
     ]
    },
    {
     "name": "stderr",
     "output_type": "stream",
     "text": [
      "\r",
      "Epoch 32/100:  40%|██████████               | 2/5 [01:01<01:32, 30.84s/batches]"
     ]
    },
    {
     "name": "stdout",
     "output_type": "stream",
     "text": [
      "Epoch 32, CIFAR-10 Batch 2:  Loss:     0.5865 Validation Accuracy: 0.747321\n"
     ]
    },
    {
     "name": "stderr",
     "output_type": "stream",
     "text": [
      "\r",
      "Epoch 32/100:  60%|███████████████          | 3/5 [01:32<01:01, 30.85s/batches]"
     ]
    },
    {
     "name": "stdout",
     "output_type": "stream",
     "text": [
      "Epoch 32, CIFAR-10 Batch 3:  Loss:     0.5891 Validation Accuracy: 0.745089\n"
     ]
    },
    {
     "name": "stderr",
     "output_type": "stream",
     "text": [
      "\r",
      "Epoch 32/100:  80%|████████████████████     | 4/5 [02:03<00:30, 30.81s/batches]"
     ]
    },
    {
     "name": "stdout",
     "output_type": "stream",
     "text": [
      "Epoch 32, CIFAR-10 Batch 4:  Loss:     0.5916 Validation Accuracy: 0.744196\n"
     ]
    },
    {
     "name": "stderr",
     "output_type": "stream",
     "text": [
      "Epoch 32/100: 100%|█████████████████████████| 5/5 [02:27<00:00, 29.42s/batches]\n",
      "Epoch 33/100:   0%|                                 | 0/5 [00:00<?, ?batches/s]"
     ]
    },
    {
     "name": "stdout",
     "output_type": "stream",
     "text": [
      "Epoch 33, CIFAR-10 Batch 0:  Loss:     0.5904 Validation Accuracy: 0.745536\n"
     ]
    },
    {
     "name": "stderr",
     "output_type": "stream",
     "text": [
      "\r",
      "Epoch 33/100:  20%|█████                    | 1/5 [00:30<02:03, 30.83s/batches]"
     ]
    },
    {
     "name": "stdout",
     "output_type": "stream",
     "text": [
      "Epoch 33, CIFAR-10 Batch 1:  Loss:     0.5848 Validation Accuracy: 0.748214\n"
     ]
    },
    {
     "name": "stderr",
     "output_type": "stream",
     "text": [
      "\r",
      "Epoch 33/100:  40%|██████████               | 2/5 [01:01<01:32, 30.81s/batches]"
     ]
    },
    {
     "name": "stdout",
     "output_type": "stream",
     "text": [
      "Epoch 33, CIFAR-10 Batch 2:  Loss:     0.5842 Validation Accuracy: 0.749554\n"
     ]
    },
    {
     "name": "stderr",
     "output_type": "stream",
     "text": [
      "\r",
      "Epoch 33/100:  60%|███████████████          | 3/5 [01:32<01:01, 30.78s/batches]"
     ]
    },
    {
     "name": "stdout",
     "output_type": "stream",
     "text": [
      "Epoch 33, CIFAR-10 Batch 3:  Loss:     0.5840 Validation Accuracy: 0.750000\n"
     ]
    },
    {
     "name": "stderr",
     "output_type": "stream",
     "text": [
      "\r",
      "Epoch 33/100:  80%|████████████████████     | 4/5 [02:03<00:30, 30.75s/batches]"
     ]
    },
    {
     "name": "stdout",
     "output_type": "stream",
     "text": [
      "Epoch 33, CIFAR-10 Batch 4:  Loss:     0.5836 Validation Accuracy: 0.747768\n"
     ]
    },
    {
     "name": "stderr",
     "output_type": "stream",
     "text": [
      "Epoch 33/100: 100%|█████████████████████████| 5/5 [02:26<00:00, 29.38s/batches]\n",
      "Epoch 34/100:   0%|                                 | 0/5 [00:00<?, ?batches/s]"
     ]
    },
    {
     "name": "stdout",
     "output_type": "stream",
     "text": [
      "Epoch 34, CIFAR-10 Batch 0:  Loss:     0.5894 Validation Accuracy: 0.743750\n"
     ]
    },
    {
     "name": "stderr",
     "output_type": "stream",
     "text": [
      "\r",
      "Epoch 34/100:  20%|█████                    | 1/5 [00:30<02:03, 30.79s/batches]"
     ]
    },
    {
     "name": "stdout",
     "output_type": "stream",
     "text": [
      "Epoch 34, CIFAR-10 Batch 1:  Loss:     0.5851 Validation Accuracy: 0.746875\n"
     ]
    },
    {
     "name": "stderr",
     "output_type": "stream",
     "text": [
      "\r",
      "Epoch 34/100:  40%|██████████               | 2/5 [01:01<01:32, 30.86s/batches]"
     ]
    },
    {
     "name": "stdout",
     "output_type": "stream",
     "text": [
      "Epoch 34, CIFAR-10 Batch 2:  Loss:     0.5788 Validation Accuracy: 0.747768\n"
     ]
    },
    {
     "name": "stderr",
     "output_type": "stream",
     "text": [
      "\r",
      "Epoch 34/100:  60%|███████████████          | 3/5 [01:32<01:01, 30.89s/batches]"
     ]
    },
    {
     "name": "stdout",
     "output_type": "stream",
     "text": [
      "Epoch 34, CIFAR-10 Batch 3:  Loss:     0.5828 Validation Accuracy: 0.748214\n"
     ]
    },
    {
     "name": "stderr",
     "output_type": "stream",
     "text": [
      "\r",
      "Epoch 34/100:  80%|████████████████████     | 4/5 [02:03<00:30, 30.88s/batches]"
     ]
    },
    {
     "name": "stdout",
     "output_type": "stream",
     "text": [
      "Epoch 34, CIFAR-10 Batch 4:  Loss:     0.5776 Validation Accuracy: 0.746875\n"
     ]
    },
    {
     "name": "stderr",
     "output_type": "stream",
     "text": [
      "Epoch 34/100: 100%|█████████████████████████| 5/5 [02:27<00:00, 29.54s/batches]\n",
      "Epoch 35/100:   0%|                                 | 0/5 [00:00<?, ?batches/s]"
     ]
    },
    {
     "name": "stdout",
     "output_type": "stream",
     "text": [
      "Epoch 35, CIFAR-10 Batch 0:  Loss:     0.5849 Validation Accuracy: 0.747768\n"
     ]
    },
    {
     "name": "stderr",
     "output_type": "stream",
     "text": [
      "\r",
      "Epoch 35/100:  20%|█████                    | 1/5 [00:31<02:04, 31.05s/batches]"
     ]
    },
    {
     "name": "stdout",
     "output_type": "stream",
     "text": [
      "Epoch 35, CIFAR-10 Batch 1:  Loss:     0.5943 Validation Accuracy: 0.737054\n"
     ]
    },
    {
     "name": "stderr",
     "output_type": "stream",
     "text": [
      "\r",
      "Epoch 35/100:  40%|██████████               | 2/5 [01:02<01:33, 31.15s/batches]"
     ]
    },
    {
     "name": "stdout",
     "output_type": "stream",
     "text": [
      "Epoch 35, CIFAR-10 Batch 2:  Loss:     0.5830 Validation Accuracy: 0.747321\n"
     ]
    },
    {
     "name": "stderr",
     "output_type": "stream",
     "text": [
      "\r",
      "Epoch 35/100:  60%|███████████████          | 3/5 [01:36<01:04, 32.07s/batches]"
     ]
    },
    {
     "name": "stdout",
     "output_type": "stream",
     "text": [
      "Epoch 35, CIFAR-10 Batch 3:  Loss:     0.5826 Validation Accuracy: 0.750000\n"
     ]
    },
    {
     "name": "stderr",
     "output_type": "stream",
     "text": [
      "\r",
      "Epoch 35/100:  80%|████████████████████     | 4/5 [02:09<00:32, 32.28s/batches]"
     ]
    },
    {
     "name": "stdout",
     "output_type": "stream",
     "text": [
      "Epoch 35, CIFAR-10 Batch 4:  Loss:     0.5831 Validation Accuracy: 0.748661\n"
     ]
    },
    {
     "name": "stderr",
     "output_type": "stream",
     "text": [
      "Epoch 35/100: 100%|█████████████████████████| 5/5 [02:34<00:00, 30.96s/batches]\n",
      "Epoch 36/100:   0%|                                 | 0/5 [00:00<?, ?batches/s]"
     ]
    },
    {
     "name": "stdout",
     "output_type": "stream",
     "text": [
      "Epoch 36, CIFAR-10 Batch 0:  Loss:     0.5780 Validation Accuracy: 0.752232\n"
     ]
    },
    {
     "name": "stderr",
     "output_type": "stream",
     "text": [
      "\r",
      "Epoch 36/100:  20%|█████                    | 1/5 [00:31<02:04, 31.12s/batches]"
     ]
    },
    {
     "name": "stdout",
     "output_type": "stream",
     "text": [
      "Epoch 36, CIFAR-10 Batch 1:  Loss:     0.5780 Validation Accuracy: 0.751786\n"
     ]
    },
    {
     "name": "stderr",
     "output_type": "stream",
     "text": [
      "\r",
      "Epoch 36/100:  40%|██████████               | 2/5 [01:03<01:35, 31.76s/batches]"
     ]
    },
    {
     "name": "stdout",
     "output_type": "stream",
     "text": [
      "Epoch 36, CIFAR-10 Batch 2:  Loss:     0.5770 Validation Accuracy: 0.753571\n"
     ]
    },
    {
     "name": "stderr",
     "output_type": "stream",
     "text": [
      "\r",
      "Epoch 36/100:  60%|███████████████          | 3/5 [01:36<01:04, 32.10s/batches]"
     ]
    },
    {
     "name": "stdout",
     "output_type": "stream",
     "text": [
      "Epoch 36, CIFAR-10 Batch 3:  Loss:     0.5723 Validation Accuracy: 0.750893\n"
     ]
    },
    {
     "name": "stderr",
     "output_type": "stream",
     "text": [
      "\r",
      "Epoch 36/100:  80%|████████████████████     | 4/5 [02:07<00:31, 31.82s/batches]"
     ]
    },
    {
     "name": "stdout",
     "output_type": "stream",
     "text": [
      "Epoch 36, CIFAR-10 Batch 4:  Loss:     0.5637 Validation Accuracy: 0.753125\n"
     ]
    },
    {
     "name": "stderr",
     "output_type": "stream",
     "text": [
      "Epoch 36/100: 100%|█████████████████████████| 5/5 [02:32<00:00, 30.54s/batches]\n",
      "Epoch 37/100:   0%|                                 | 0/5 [00:00<?, ?batches/s]"
     ]
    },
    {
     "name": "stdout",
     "output_type": "stream",
     "text": [
      "Epoch 37, CIFAR-10 Batch 0:  Loss:     0.5603 Validation Accuracy: 0.753125\n"
     ]
    },
    {
     "name": "stderr",
     "output_type": "stream",
     "text": [
      "\r",
      "Epoch 37/100:  20%|█████                    | 1/5 [00:30<02:03, 30.84s/batches]"
     ]
    },
    {
     "name": "stdout",
     "output_type": "stream",
     "text": [
      "Epoch 37, CIFAR-10 Batch 1:  Loss:     0.5589 Validation Accuracy: 0.754464\n"
     ]
    },
    {
     "name": "stderr",
     "output_type": "stream",
     "text": [
      "\r",
      "Epoch 37/100:  40%|██████████               | 2/5 [01:01<01:32, 30.73s/batches]"
     ]
    },
    {
     "name": "stdout",
     "output_type": "stream",
     "text": [
      "Epoch 37, CIFAR-10 Batch 2:  Loss:     0.5577 Validation Accuracy: 0.753571\n"
     ]
    },
    {
     "name": "stderr",
     "output_type": "stream",
     "text": [
      "\r",
      "Epoch 37/100:  60%|███████████████          | 3/5 [01:32<01:01, 30.72s/batches]"
     ]
    },
    {
     "name": "stdout",
     "output_type": "stream",
     "text": [
      "Epoch 37, CIFAR-10 Batch 3:  Loss:     0.5585 Validation Accuracy: 0.753125\n"
     ]
    },
    {
     "name": "stderr",
     "output_type": "stream",
     "text": [
      "\r",
      "Epoch 37/100:  80%|████████████████████     | 4/5 [02:03<00:30, 30.79s/batches]"
     ]
    },
    {
     "name": "stdout",
     "output_type": "stream",
     "text": [
      "Epoch 37, CIFAR-10 Batch 4:  Loss:     0.5632 Validation Accuracy: 0.751339\n"
     ]
    },
    {
     "name": "stderr",
     "output_type": "stream",
     "text": [
      "Epoch 37/100: 100%|█████████████████████████| 5/5 [02:28<00:00, 29.68s/batches]\n",
      "Epoch 38/100:   0%|                                 | 0/5 [00:00<?, ?batches/s]"
     ]
    },
    {
     "name": "stdout",
     "output_type": "stream",
     "text": [
      "Epoch 38, CIFAR-10 Batch 0:  Loss:     0.5634 Validation Accuracy: 0.753571\n"
     ]
    },
    {
     "name": "stderr",
     "output_type": "stream",
     "text": [
      "\r",
      "Epoch 38/100:  20%|█████                    | 1/5 [00:31<02:04, 31.10s/batches]"
     ]
    },
    {
     "name": "stdout",
     "output_type": "stream",
     "text": [
      "Epoch 38, CIFAR-10 Batch 1:  Loss:     0.5576 Validation Accuracy: 0.756250\n"
     ]
    },
    {
     "name": "stderr",
     "output_type": "stream",
     "text": [
      "\r",
      "Epoch 38/100:  40%|██████████               | 2/5 [01:03<01:35, 31.72s/batches]"
     ]
    },
    {
     "name": "stdout",
     "output_type": "stream",
     "text": [
      "Epoch 38, CIFAR-10 Batch 2:  Loss:     0.5575 Validation Accuracy: 0.752679\n"
     ]
    },
    {
     "name": "stderr",
     "output_type": "stream",
     "text": [
      "\r",
      "Epoch 38/100:  60%|███████████████          | 3/5 [01:34<01:02, 31.41s/batches]"
     ]
    },
    {
     "name": "stdout",
     "output_type": "stream",
     "text": [
      "Epoch 38, CIFAR-10 Batch 3:  Loss:     0.5585 Validation Accuracy: 0.758036\n"
     ]
    },
    {
     "name": "stderr",
     "output_type": "stream",
     "text": [
      "\r",
      "Epoch 38/100:  80%|████████████████████     | 4/5 [02:06<00:31, 31.66s/batches]"
     ]
    },
    {
     "name": "stdout",
     "output_type": "stream",
     "text": [
      "Epoch 38, CIFAR-10 Batch 4:  Loss:     0.5566 Validation Accuracy: 0.757589\n"
     ]
    },
    {
     "name": "stderr",
     "output_type": "stream",
     "text": [
      "Epoch 38/100: 100%|█████████████████████████| 5/5 [02:31<00:00, 30.27s/batches]\n",
      "Epoch 39/100:   0%|                                 | 0/5 [00:00<?, ?batches/s]"
     ]
    },
    {
     "name": "stdout",
     "output_type": "stream",
     "text": [
      "Epoch 39, CIFAR-10 Batch 0:  Loss:     0.5644 Validation Accuracy: 0.758482\n"
     ]
    },
    {
     "name": "stderr",
     "output_type": "stream",
     "text": [
      "\r",
      "Epoch 39/100:  20%|█████                    | 1/5 [00:32<02:10, 32.51s/batches]"
     ]
    },
    {
     "name": "stdout",
     "output_type": "stream",
     "text": [
      "Epoch 39, CIFAR-10 Batch 1:  Loss:     0.5656 Validation Accuracy: 0.753571\n"
     ]
    },
    {
     "name": "stderr",
     "output_type": "stream",
     "text": [
      "\r",
      "Epoch 39/100:  40%|██████████               | 2/5 [01:04<01:36, 32.07s/batches]"
     ]
    },
    {
     "name": "stdout",
     "output_type": "stream",
     "text": [
      "Epoch 39, CIFAR-10 Batch 2:  Loss:     0.5565 Validation Accuracy: 0.758036\n"
     ]
    },
    {
     "name": "stderr",
     "output_type": "stream",
     "text": [
      "\r",
      "Epoch 39/100:  60%|███████████████          | 3/5 [01:36<01:04, 32.22s/batches]"
     ]
    },
    {
     "name": "stdout",
     "output_type": "stream",
     "text": [
      "Epoch 39, CIFAR-10 Batch 3:  Loss:     0.5568 Validation Accuracy: 0.756696\n"
     ]
    },
    {
     "name": "stderr",
     "output_type": "stream",
     "text": [
      "\r",
      "Epoch 39/100:  80%|████████████████████     | 4/5 [02:09<00:32, 32.28s/batches]"
     ]
    },
    {
     "name": "stdout",
     "output_type": "stream",
     "text": [
      "Epoch 39, CIFAR-10 Batch 4:  Loss:     0.5563 Validation Accuracy: 0.757589\n"
     ]
    },
    {
     "name": "stderr",
     "output_type": "stream",
     "text": [
      "Epoch 39/100: 100%|█████████████████████████| 5/5 [02:32<00:00, 30.58s/batches]\n",
      "Epoch 40/100:   0%|                                 | 0/5 [00:00<?, ?batches/s]"
     ]
    },
    {
     "name": "stdout",
     "output_type": "stream",
     "text": [
      "Epoch 40, CIFAR-10 Batch 0:  Loss:     0.5540 Validation Accuracy: 0.757143\n"
     ]
    },
    {
     "name": "stderr",
     "output_type": "stream",
     "text": [
      "\r",
      "Epoch 40/100:  20%|█████                    | 1/5 [00:32<02:08, 32.14s/batches]"
     ]
    },
    {
     "name": "stdout",
     "output_type": "stream",
     "text": [
      "Epoch 40, CIFAR-10 Batch 1:  Loss:     0.5593 Validation Accuracy: 0.759821\n"
     ]
    },
    {
     "name": "stderr",
     "output_type": "stream",
     "text": [
      "\r",
      "Epoch 40/100:  40%|██████████               | 2/5 [01:03<01:34, 31.59s/batches]"
     ]
    },
    {
     "name": "stdout",
     "output_type": "stream",
     "text": [
      "Epoch 40, CIFAR-10 Batch 2:  Loss:     0.5591 Validation Accuracy: 0.755804\n"
     ]
    },
    {
     "name": "stderr",
     "output_type": "stream",
     "text": [
      "\r",
      "Epoch 40/100:  60%|███████████████          | 3/5 [01:34<01:03, 31.66s/batches]"
     ]
    },
    {
     "name": "stdout",
     "output_type": "stream",
     "text": [
      "Epoch 40, CIFAR-10 Batch 3:  Loss:     0.5542 Validation Accuracy: 0.765625\n"
     ]
    },
    {
     "name": "stderr",
     "output_type": "stream",
     "text": [
      "\r",
      "Epoch 40/100:  80%|████████████████████     | 4/5 [02:05<00:31, 31.44s/batches]"
     ]
    },
    {
     "name": "stdout",
     "output_type": "stream",
     "text": [
      "Epoch 40, CIFAR-10 Batch 4:  Loss:     0.5513 Validation Accuracy: 0.762054\n"
     ]
    },
    {
     "name": "stderr",
     "output_type": "stream",
     "text": [
      "Epoch 40/100: 100%|█████████████████████████| 5/5 [02:31<00:00, 30.25s/batches]\n",
      "Epoch 41/100:   0%|                                 | 0/5 [00:00<?, ?batches/s]"
     ]
    },
    {
     "name": "stdout",
     "output_type": "stream",
     "text": [
      "Epoch 41, CIFAR-10 Batch 0:  Loss:     0.5503 Validation Accuracy: 0.758929\n"
     ]
    },
    {
     "name": "stderr",
     "output_type": "stream",
     "text": [
      "\r",
      "Epoch 41/100:  20%|█████                    | 1/5 [00:32<02:11, 32.78s/batches]"
     ]
    },
    {
     "name": "stdout",
     "output_type": "stream",
     "text": [
      "Epoch 41, CIFAR-10 Batch 1:  Loss:     0.5505 Validation Accuracy: 0.759821\n"
     ]
    },
    {
     "name": "stderr",
     "output_type": "stream",
     "text": [
      "\r",
      "Epoch 41/100:  40%|██████████               | 2/5 [01:04<01:36, 32.05s/batches]"
     ]
    },
    {
     "name": "stdout",
     "output_type": "stream",
     "text": [
      "Epoch 41, CIFAR-10 Batch 2:  Loss:     0.5509 Validation Accuracy: 0.762054\n"
     ]
    },
    {
     "name": "stderr",
     "output_type": "stream",
     "text": [
      "\r",
      "Epoch 41/100:  60%|███████████████          | 3/5 [01:36<01:04, 32.20s/batches]"
     ]
    },
    {
     "name": "stdout",
     "output_type": "stream",
     "text": [
      "Epoch 41, CIFAR-10 Batch 3:  Loss:     0.5519 Validation Accuracy: 0.758929\n"
     ]
    },
    {
     "name": "stderr",
     "output_type": "stream",
     "text": [
      "\r",
      "Epoch 41/100:  80%|████████████████████     | 4/5 [02:07<00:31, 31.85s/batches]"
     ]
    },
    {
     "name": "stdout",
     "output_type": "stream",
     "text": [
      "Epoch 41, CIFAR-10 Batch 4:  Loss:     0.5486 Validation Accuracy: 0.766071\n"
     ]
    },
    {
     "name": "stderr",
     "output_type": "stream",
     "text": [
      "Epoch 41/100: 100%|█████████████████████████| 5/5 [02:31<00:00, 30.26s/batches]\n",
      "Epoch 42/100:   0%|                                 | 0/5 [00:00<?, ?batches/s]"
     ]
    },
    {
     "name": "stdout",
     "output_type": "stream",
     "text": [
      "Epoch 42, CIFAR-10 Batch 0:  Loss:     0.5464 Validation Accuracy: 0.763839\n"
     ]
    },
    {
     "name": "stderr",
     "output_type": "stream",
     "text": [
      "\r",
      "Epoch 42/100:  20%|█████                    | 1/5 [00:31<02:06, 31.72s/batches]"
     ]
    },
    {
     "name": "stdout",
     "output_type": "stream",
     "text": [
      "Epoch 42, CIFAR-10 Batch 1:  Loss:     0.5428 Validation Accuracy: 0.763393\n"
     ]
    },
    {
     "name": "stderr",
     "output_type": "stream",
     "text": [
      "\r",
      "Epoch 42/100:  40%|██████████               | 2/5 [01:02<01:33, 31.18s/batches]"
     ]
    },
    {
     "name": "stdout",
     "output_type": "stream",
     "text": [
      "Epoch 42, CIFAR-10 Batch 2:  Loss:     0.5396 Validation Accuracy: 0.764286\n"
     ]
    },
    {
     "name": "stderr",
     "output_type": "stream",
     "text": [
      "\r",
      "Epoch 42/100:  60%|███████████████          | 3/5 [01:34<01:02, 31.40s/batches]"
     ]
    },
    {
     "name": "stdout",
     "output_type": "stream",
     "text": [
      "Epoch 42, CIFAR-10 Batch 3:  Loss:     0.5389 Validation Accuracy: 0.763839\n"
     ]
    },
    {
     "name": "stderr",
     "output_type": "stream",
     "text": [
      "\r",
      "Epoch 42/100:  80%|████████████████████     | 4/5 [02:06<00:31, 31.65s/batches]"
     ]
    },
    {
     "name": "stdout",
     "output_type": "stream",
     "text": [
      "Epoch 42, CIFAR-10 Batch 4:  Loss:     0.5395 Validation Accuracy: 0.762054\n"
     ]
    },
    {
     "name": "stderr",
     "output_type": "stream",
     "text": [
      "Epoch 42/100: 100%|█████████████████████████| 5/5 [02:31<00:00, 30.39s/batches]\n",
      "Epoch 43/100:   0%|                                 | 0/5 [00:00<?, ?batches/s]"
     ]
    },
    {
     "name": "stdout",
     "output_type": "stream",
     "text": [
      "Epoch 43, CIFAR-10 Batch 0:  Loss:     0.5411 Validation Accuracy: 0.762946\n"
     ]
    },
    {
     "name": "stderr",
     "output_type": "stream",
     "text": [
      "\r",
      "Epoch 43/100:  20%|█████                    | 1/5 [00:33<02:12, 33.19s/batches]"
     ]
    },
    {
     "name": "stdout",
     "output_type": "stream",
     "text": [
      "Epoch 43, CIFAR-10 Batch 1:  Loss:     0.5398 Validation Accuracy: 0.765179\n"
     ]
    },
    {
     "name": "stderr",
     "output_type": "stream",
     "text": [
      "\r",
      "Epoch 43/100:  40%|██████████               | 2/5 [01:04<01:36, 32.23s/batches]"
     ]
    },
    {
     "name": "stdout",
     "output_type": "stream",
     "text": [
      "Epoch 43, CIFAR-10 Batch 2:  Loss:     0.5353 Validation Accuracy: 0.764732\n"
     ]
    },
    {
     "name": "stderr",
     "output_type": "stream",
     "text": [
      "\r",
      "Epoch 43/100:  60%|███████████████          | 3/5 [01:36<01:04, 32.06s/batches]"
     ]
    },
    {
     "name": "stdout",
     "output_type": "stream",
     "text": [
      "Epoch 43, CIFAR-10 Batch 3:  Loss:     0.5375 Validation Accuracy: 0.764286\n"
     ]
    },
    {
     "name": "stderr",
     "output_type": "stream",
     "text": [
      "\r",
      "Epoch 43/100:  80%|████████████████████     | 4/5 [02:07<00:31, 31.75s/batches]"
     ]
    },
    {
     "name": "stdout",
     "output_type": "stream",
     "text": [
      "Epoch 43, CIFAR-10 Batch 4:  Loss:     0.5379 Validation Accuracy: 0.765625\n"
     ]
    },
    {
     "name": "stderr",
     "output_type": "stream",
     "text": [
      "Epoch 43/100: 100%|█████████████████████████| 5/5 [02:32<00:00, 30.49s/batches]\n",
      "Epoch 44/100:   0%|                                 | 0/5 [00:00<?, ?batches/s]"
     ]
    },
    {
     "name": "stdout",
     "output_type": "stream",
     "text": [
      "Epoch 44, CIFAR-10 Batch 0:  Loss:     0.5445 Validation Accuracy: 0.761161\n"
     ]
    },
    {
     "name": "stderr",
     "output_type": "stream",
     "text": [
      "\r",
      "Epoch 44/100:  20%|█████                    | 1/5 [00:30<02:03, 30.92s/batches]"
     ]
    },
    {
     "name": "stdout",
     "output_type": "stream",
     "text": [
      "Epoch 44, CIFAR-10 Batch 1:  Loss:     0.5495 Validation Accuracy: 0.759375\n"
     ]
    },
    {
     "name": "stderr",
     "output_type": "stream",
     "text": [
      "\r",
      "Epoch 44/100:  40%|██████████               | 2/5 [01:03<01:34, 31.56s/batches]"
     ]
    },
    {
     "name": "stdout",
     "output_type": "stream",
     "text": [
      "Epoch 44, CIFAR-10 Batch 2:  Loss:     0.5411 Validation Accuracy: 0.767857\n"
     ]
    },
    {
     "name": "stderr",
     "output_type": "stream",
     "text": [
      "\r",
      "Epoch 44/100:  60%|███████████████          | 3/5 [01:34<01:03, 31.63s/batches]"
     ]
    },
    {
     "name": "stdout",
     "output_type": "stream",
     "text": [
      "Epoch 44, CIFAR-10 Batch 3:  Loss:     0.5431 Validation Accuracy: 0.767411\n"
     ]
    },
    {
     "name": "stderr",
     "output_type": "stream",
     "text": [
      "\r",
      "Epoch 44/100:  80%|████████████████████     | 4/5 [02:05<00:31, 31.48s/batches]"
     ]
    },
    {
     "name": "stdout",
     "output_type": "stream",
     "text": [
      "Epoch 44, CIFAR-10 Batch 4:  Loss:     0.5404 Validation Accuracy: 0.766964\n"
     ]
    },
    {
     "name": "stderr",
     "output_type": "stream",
     "text": [
      "Epoch 44/100: 100%|█████████████████████████| 5/5 [02:31<00:00, 30.26s/batches]\n",
      "Epoch 45/100:   0%|                                 | 0/5 [00:00<?, ?batches/s]"
     ]
    },
    {
     "name": "stdout",
     "output_type": "stream",
     "text": [
      "Epoch 45, CIFAR-10 Batch 0:  Loss:     0.5356 Validation Accuracy: 0.770089\n"
     ]
    },
    {
     "name": "stderr",
     "output_type": "stream",
     "text": [
      "\r",
      "Epoch 45/100:  20%|█████                    | 1/5 [00:33<02:14, 33.71s/batches]"
     ]
    },
    {
     "name": "stdout",
     "output_type": "stream",
     "text": [
      "Epoch 45, CIFAR-10 Batch 1:  Loss:     0.5399 Validation Accuracy: 0.766071\n"
     ]
    },
    {
     "name": "stderr",
     "output_type": "stream",
     "text": [
      "\r",
      "Epoch 45/100:  40%|██████████               | 2/5 [01:13<01:50, 36.88s/batches]"
     ]
    },
    {
     "name": "stdout",
     "output_type": "stream",
     "text": [
      "Epoch 45, CIFAR-10 Batch 2:  Loss:     0.5402 Validation Accuracy: 0.766071\n"
     ]
    },
    {
     "name": "stderr",
     "output_type": "stream",
     "text": [
      "\r",
      "Epoch 45/100:  60%|███████████████          | 3/5 [01:50<01:13, 36.93s/batches]"
     ]
    },
    {
     "name": "stdout",
     "output_type": "stream",
     "text": [
      "Epoch 45, CIFAR-10 Batch 3:  Loss:     0.5340 Validation Accuracy: 0.766518\n"
     ]
    },
    {
     "name": "stderr",
     "output_type": "stream",
     "text": [
      "\r",
      "Epoch 45/100:  80%|████████████████████     | 4/5 [02:24<00:36, 36.13s/batches]"
     ]
    },
    {
     "name": "stdout",
     "output_type": "stream",
     "text": [
      "Epoch 45, CIFAR-10 Batch 4:  Loss:     0.5308 Validation Accuracy: 0.770982\n"
     ]
    },
    {
     "name": "stderr",
     "output_type": "stream",
     "text": [
      "Epoch 45/100: 100%|█████████████████████████| 5/5 [02:52<00:00, 34.44s/batches]\n",
      "Epoch 46/100:   0%|                                 | 0/5 [00:00<?, ?batches/s]"
     ]
    },
    {
     "name": "stdout",
     "output_type": "stream",
     "text": [
      "Epoch 46, CIFAR-10 Batch 0:  Loss:     0.5306 Validation Accuracy: 0.770089\n"
     ]
    },
    {
     "name": "stderr",
     "output_type": "stream",
     "text": [
      "\r",
      "Epoch 46/100:  20%|█████                    | 1/5 [00:34<02:19, 34.80s/batches]"
     ]
    },
    {
     "name": "stdout",
     "output_type": "stream",
     "text": [
      "Epoch 46, CIFAR-10 Batch 1:  Loss:     0.5299 Validation Accuracy: 0.770089\n"
     ]
    },
    {
     "name": "stderr",
     "output_type": "stream",
     "text": [
      "\r",
      "Epoch 46/100:  40%|██████████               | 2/5 [01:09<01:43, 34.62s/batches]"
     ]
    },
    {
     "name": "stdout",
     "output_type": "stream",
     "text": [
      "Epoch 46, CIFAR-10 Batch 2:  Loss:     0.5308 Validation Accuracy: 0.768304\n"
     ]
    },
    {
     "name": "stderr",
     "output_type": "stream",
     "text": [
      "\r",
      "Epoch 46/100:  60%|███████████████          | 3/5 [01:44<01:09, 34.85s/batches]"
     ]
    },
    {
     "name": "stdout",
     "output_type": "stream",
     "text": [
      "Epoch 46, CIFAR-10 Batch 3:  Loss:     0.5316 Validation Accuracy: 0.766071\n"
     ]
    },
    {
     "name": "stderr",
     "output_type": "stream",
     "text": [
      "\r",
      "Epoch 46/100:  80%|████████████████████     | 4/5 [02:18<00:34, 34.58s/batches]"
     ]
    },
    {
     "name": "stdout",
     "output_type": "stream",
     "text": [
      "Epoch 46, CIFAR-10 Batch 4:  Loss:     0.5322 Validation Accuracy: 0.765179\n"
     ]
    },
    {
     "name": "stderr",
     "output_type": "stream",
     "text": [
      "Epoch 46/100: 100%|█████████████████████████| 5/5 [02:45<00:00, 33.18s/batches]\n",
      "Epoch 47/100:   0%|                                 | 0/5 [00:00<?, ?batches/s]"
     ]
    },
    {
     "name": "stdout",
     "output_type": "stream",
     "text": [
      "Epoch 47, CIFAR-10 Batch 0:  Loss:     0.5312 Validation Accuracy: 0.769643\n"
     ]
    },
    {
     "name": "stderr",
     "output_type": "stream",
     "text": [
      "\r",
      "Epoch 47/100:  20%|█████                    | 1/5 [00:35<02:21, 35.43s/batches]"
     ]
    },
    {
     "name": "stdout",
     "output_type": "stream",
     "text": [
      "Epoch 47, CIFAR-10 Batch 1:  Loss:     0.5247 Validation Accuracy: 0.771875\n"
     ]
    },
    {
     "name": "stderr",
     "output_type": "stream",
     "text": [
      "\r",
      "Epoch 47/100:  40%|██████████               | 2/5 [01:10<01:45, 35.22s/batches]"
     ]
    },
    {
     "name": "stdout",
     "output_type": "stream",
     "text": [
      "Epoch 47, CIFAR-10 Batch 2:  Loss:     0.5219 Validation Accuracy: 0.776339\n"
     ]
    },
    {
     "name": "stderr",
     "output_type": "stream",
     "text": [
      "\r",
      "Epoch 47/100:  60%|███████████████          | 3/5 [01:44<01:09, 34.85s/batches]"
     ]
    },
    {
     "name": "stdout",
     "output_type": "stream",
     "text": [
      "Epoch 47, CIFAR-10 Batch 3:  Loss:     0.5233 Validation Accuracy: 0.774107\n"
     ]
    },
    {
     "name": "stderr",
     "output_type": "stream",
     "text": [
      "\r",
      "Epoch 47/100:  80%|████████████████████     | 4/5 [02:18<00:34, 34.67s/batches]"
     ]
    },
    {
     "name": "stdout",
     "output_type": "stream",
     "text": [
      "Epoch 47, CIFAR-10 Batch 4:  Loss:     0.5209 Validation Accuracy: 0.771429\n"
     ]
    },
    {
     "name": "stderr",
     "output_type": "stream",
     "text": [
      "Epoch 47/100: 100%|█████████████████████████| 5/5 [02:43<00:00, 32.80s/batches]\n",
      "Epoch 48/100:   0%|                                 | 0/5 [00:00<?, ?batches/s]"
     ]
    },
    {
     "name": "stdout",
     "output_type": "stream",
     "text": [
      "Epoch 48, CIFAR-10 Batch 0:  Loss:     0.5251 Validation Accuracy: 0.768750\n"
     ]
    },
    {
     "name": "stderr",
     "output_type": "stream",
     "text": [
      "\r",
      "Epoch 48/100:  20%|█████                    | 1/5 [00:32<02:10, 32.68s/batches]"
     ]
    },
    {
     "name": "stdout",
     "output_type": "stream",
     "text": [
      "Epoch 48, CIFAR-10 Batch 1:  Loss:     0.5284 Validation Accuracy: 0.767411\n"
     ]
    },
    {
     "name": "stderr",
     "output_type": "stream",
     "text": [
      "\r",
      "Epoch 48/100:  40%|██████████               | 2/5 [01:04<01:37, 32.46s/batches]"
     ]
    },
    {
     "name": "stdout",
     "output_type": "stream",
     "text": [
      "Epoch 48, CIFAR-10 Batch 2:  Loss:     0.5242 Validation Accuracy: 0.768750\n"
     ]
    },
    {
     "name": "stderr",
     "output_type": "stream",
     "text": [
      "\r",
      "Epoch 48/100:  60%|███████████████          | 3/5 [01:37<01:04, 32.47s/batches]"
     ]
    },
    {
     "name": "stdout",
     "output_type": "stream",
     "text": [
      "Epoch 48, CIFAR-10 Batch 3:  Loss:     0.5241 Validation Accuracy: 0.776339\n"
     ]
    },
    {
     "name": "stderr",
     "output_type": "stream",
     "text": [
      "\r",
      "Epoch 48/100:  80%|████████████████████     | 4/5 [02:10<00:32, 32.57s/batches]"
     ]
    },
    {
     "name": "stdout",
     "output_type": "stream",
     "text": [
      "Epoch 48, CIFAR-10 Batch 4:  Loss:     0.5221 Validation Accuracy: 0.777232\n"
     ]
    },
    {
     "name": "stderr",
     "output_type": "stream",
     "text": [
      "Epoch 48/100: 100%|█████████████████████████| 5/5 [02:36<00:00, 31.22s/batches]\n",
      "Epoch 49/100:   0%|                                 | 0/5 [00:00<?, ?batches/s]"
     ]
    },
    {
     "name": "stdout",
     "output_type": "stream",
     "text": [
      "Epoch 49, CIFAR-10 Batch 0:  Loss:     0.5195 Validation Accuracy: 0.772768\n"
     ]
    },
    {
     "name": "stderr",
     "output_type": "stream",
     "text": [
      "\r",
      "Epoch 49/100:  20%|█████                    | 1/5 [00:32<02:10, 32.61s/batches]"
     ]
    },
    {
     "name": "stdout",
     "output_type": "stream",
     "text": [
      "Epoch 49, CIFAR-10 Batch 1:  Loss:     0.5206 Validation Accuracy: 0.767857\n"
     ]
    },
    {
     "name": "stderr",
     "output_type": "stream",
     "text": [
      "\r",
      "Epoch 49/100:  40%|██████████               | 2/5 [01:05<01:38, 32.69s/batches]"
     ]
    },
    {
     "name": "stdout",
     "output_type": "stream",
     "text": [
      "Epoch 49, CIFAR-10 Batch 2:  Loss:     0.5192 Validation Accuracy: 0.769196\n"
     ]
    },
    {
     "name": "stderr",
     "output_type": "stream",
     "text": [
      "\r",
      "Epoch 49/100:  60%|███████████████          | 3/5 [01:37<01:05, 32.59s/batches]"
     ]
    },
    {
     "name": "stdout",
     "output_type": "stream",
     "text": [
      "Epoch 49, CIFAR-10 Batch 3:  Loss:     0.5169 Validation Accuracy: 0.770089\n"
     ]
    },
    {
     "name": "stderr",
     "output_type": "stream",
     "text": [
      "\r",
      "Epoch 49/100:  80%|████████████████████     | 4/5 [02:10<00:32, 32.54s/batches]"
     ]
    },
    {
     "name": "stdout",
     "output_type": "stream",
     "text": [
      "Epoch 49, CIFAR-10 Batch 4:  Loss:     0.5124 Validation Accuracy: 0.775893\n"
     ]
    },
    {
     "name": "stderr",
     "output_type": "stream",
     "text": [
      "Epoch 49/100: 100%|█████████████████████████| 5/5 [02:35<00:00, 31.11s/batches]\n",
      "Epoch 50/100:   0%|                                 | 0/5 [00:00<?, ?batches/s]"
     ]
    },
    {
     "name": "stdout",
     "output_type": "stream",
     "text": [
      "Epoch 50, CIFAR-10 Batch 0:  Loss:     0.5114 Validation Accuracy: 0.775446\n"
     ]
    },
    {
     "name": "stderr",
     "output_type": "stream",
     "text": [
      "\r",
      "Epoch 50/100:  20%|█████                    | 1/5 [00:32<02:09, 32.37s/batches]"
     ]
    },
    {
     "name": "stdout",
     "output_type": "stream",
     "text": [
      "Epoch 50, CIFAR-10 Batch 1:  Loss:     0.5124 Validation Accuracy: 0.774107\n"
     ]
    },
    {
     "name": "stderr",
     "output_type": "stream",
     "text": [
      "\r",
      "Epoch 50/100:  40%|██████████               | 2/5 [01:05<01:37, 32.54s/batches]"
     ]
    },
    {
     "name": "stdout",
     "output_type": "stream",
     "text": [
      "Epoch 50, CIFAR-10 Batch 2:  Loss:     0.5118 Validation Accuracy: 0.773661\n"
     ]
    },
    {
     "name": "stderr",
     "output_type": "stream",
     "text": [
      "\r",
      "Epoch 50/100:  60%|███████████████          | 3/5 [01:37<01:04, 32.47s/batches]"
     ]
    },
    {
     "name": "stdout",
     "output_type": "stream",
     "text": [
      "Epoch 50, CIFAR-10 Batch 3:  Loss:     0.5142 Validation Accuracy: 0.774554\n"
     ]
    },
    {
     "name": "stderr",
     "output_type": "stream",
     "text": [
      "\r",
      "Epoch 50/100:  80%|████████████████████     | 4/5 [02:09<00:32, 32.44s/batches]"
     ]
    },
    {
     "name": "stdout",
     "output_type": "stream",
     "text": [
      "Epoch 50, CIFAR-10 Batch 4:  Loss:     0.5151 Validation Accuracy: 0.773661\n"
     ]
    },
    {
     "name": "stderr",
     "output_type": "stream",
     "text": [
      "Epoch 50/100: 100%|█████████████████████████| 5/5 [02:35<00:00, 31.03s/batches]\n",
      "Epoch 51/100:   0%|                                 | 0/5 [00:00<?, ?batches/s]"
     ]
    },
    {
     "name": "stdout",
     "output_type": "stream",
     "text": [
      "Epoch 51, CIFAR-10 Batch 0:  Loss:     0.5147 Validation Accuracy: 0.775000\n"
     ]
    },
    {
     "name": "stderr",
     "output_type": "stream",
     "text": [
      "\r",
      "Epoch 51/100:  20%|█████                    | 1/5 [00:32<02:08, 32.15s/batches]"
     ]
    },
    {
     "name": "stdout",
     "output_type": "stream",
     "text": [
      "Epoch 51, CIFAR-10 Batch 1:  Loss:     0.5116 Validation Accuracy: 0.775893\n"
     ]
    },
    {
     "name": "stderr",
     "output_type": "stream",
     "text": [
      "\r",
      "Epoch 51/100:  40%|██████████               | 2/5 [01:04<01:36, 32.26s/batches]"
     ]
    },
    {
     "name": "stdout",
     "output_type": "stream",
     "text": [
      "Epoch 51, CIFAR-10 Batch 2:  Loss:     0.5088 Validation Accuracy: 0.780804\n"
     ]
    },
    {
     "name": "stderr",
     "output_type": "stream",
     "text": [
      "\r",
      "Epoch 51/100:  60%|███████████████          | 3/5 [01:36<01:04, 32.26s/batches]"
     ]
    },
    {
     "name": "stdout",
     "output_type": "stream",
     "text": [
      "Epoch 51, CIFAR-10 Batch 3:  Loss:     0.5074 Validation Accuracy: 0.783036\n"
     ]
    },
    {
     "name": "stderr",
     "output_type": "stream",
     "text": [
      "\r",
      "Epoch 51/100:  80%|████████████████████     | 4/5 [02:09<00:32, 32.35s/batches]"
     ]
    },
    {
     "name": "stdout",
     "output_type": "stream",
     "text": [
      "Epoch 51, CIFAR-10 Batch 4:  Loss:     0.5037 Validation Accuracy: 0.779911\n"
     ]
    },
    {
     "name": "stderr",
     "output_type": "stream",
     "text": [
      "Epoch 51/100: 100%|█████████████████████████| 5/5 [02:35<00:00, 31.11s/batches]\n",
      "Epoch 52/100:   0%|                                 | 0/5 [00:00<?, ?batches/s]"
     ]
    },
    {
     "name": "stdout",
     "output_type": "stream",
     "text": [
      "Epoch 52, CIFAR-10 Batch 0:  Loss:     0.5048 Validation Accuracy: 0.773214\n"
     ]
    },
    {
     "name": "stderr",
     "output_type": "stream",
     "text": [
      "\r",
      "Epoch 52/100:  20%|█████                    | 1/5 [00:32<02:10, 32.73s/batches]"
     ]
    },
    {
     "name": "stdout",
     "output_type": "stream",
     "text": [
      "Epoch 52, CIFAR-10 Batch 1:  Loss:     0.5041 Validation Accuracy: 0.773214\n"
     ]
    },
    {
     "name": "stderr",
     "output_type": "stream",
     "text": [
      "\r",
      "Epoch 52/100:  40%|██████████               | 2/5 [01:05<01:38, 32.67s/batches]"
     ]
    },
    {
     "name": "stdout",
     "output_type": "stream",
     "text": [
      "Epoch 52, CIFAR-10 Batch 2:  Loss:     0.5018 Validation Accuracy: 0.778571\n"
     ]
    },
    {
     "name": "stderr",
     "output_type": "stream",
     "text": [
      "\r",
      "Epoch 52/100:  60%|███████████████          | 3/5 [01:37<01:05, 32.59s/batches]"
     ]
    },
    {
     "name": "stdout",
     "output_type": "stream",
     "text": [
      "Epoch 52, CIFAR-10 Batch 3:  Loss:     0.5046 Validation Accuracy: 0.776786\n"
     ]
    },
    {
     "name": "stderr",
     "output_type": "stream",
     "text": [
      "\r",
      "Epoch 52/100:  80%|████████████████████     | 4/5 [02:10<00:32, 32.65s/batches]"
     ]
    },
    {
     "name": "stdout",
     "output_type": "stream",
     "text": [
      "Epoch 52, CIFAR-10 Batch 4:  Loss:     0.5048 Validation Accuracy: 0.775446\n"
     ]
    },
    {
     "name": "stderr",
     "output_type": "stream",
     "text": [
      "Epoch 52/100: 100%|█████████████████████████| 5/5 [02:36<00:00, 31.26s/batches]\n",
      "Epoch 53/100:   0%|                                 | 0/5 [00:00<?, ?batches/s]"
     ]
    },
    {
     "name": "stdout",
     "output_type": "stream",
     "text": [
      "Epoch 53, CIFAR-10 Batch 0:  Loss:     0.5096 Validation Accuracy: 0.775893\n"
     ]
    },
    {
     "name": "stderr",
     "output_type": "stream",
     "text": [
      "\r",
      "Epoch 53/100:  20%|█████                    | 1/5 [00:32<02:09, 32.49s/batches]"
     ]
    },
    {
     "name": "stdout",
     "output_type": "stream",
     "text": [
      "Epoch 53, CIFAR-10 Batch 1:  Loss:     0.5116 Validation Accuracy: 0.775000\n"
     ]
    },
    {
     "name": "stderr",
     "output_type": "stream",
     "text": [
      "\r",
      "Epoch 53/100:  40%|██████████               | 2/5 [01:05<01:37, 32.58s/batches]"
     ]
    },
    {
     "name": "stdout",
     "output_type": "stream",
     "text": [
      "Epoch 53, CIFAR-10 Batch 2:  Loss:     0.5063 Validation Accuracy: 0.784821\n"
     ]
    },
    {
     "name": "stderr",
     "output_type": "stream",
     "text": [
      "\r",
      "Epoch 53/100:  60%|███████████████          | 3/5 [01:38<01:05, 32.73s/batches]"
     ]
    },
    {
     "name": "stdout",
     "output_type": "stream",
     "text": [
      "Epoch 53, CIFAR-10 Batch 3:  Loss:     0.5055 Validation Accuracy: 0.789286\n"
     ]
    },
    {
     "name": "stderr",
     "output_type": "stream",
     "text": [
      "\r",
      "Epoch 53/100:  80%|████████████████████     | 4/5 [02:08<00:32, 32.24s/batches]"
     ]
    },
    {
     "name": "stdout",
     "output_type": "stream",
     "text": [
      "Epoch 53, CIFAR-10 Batch 4:  Loss:     0.5008 Validation Accuracy: 0.786161\n"
     ]
    },
    {
     "name": "stderr",
     "output_type": "stream",
     "text": [
      "Epoch 53/100: 100%|█████████████████████████| 5/5 [02:34<00:00, 30.89s/batches]\n",
      "Epoch 54/100:   0%|                                 | 0/5 [00:00<?, ?batches/s]"
     ]
    },
    {
     "name": "stdout",
     "output_type": "stream",
     "text": [
      "Epoch 54, CIFAR-10 Batch 0:  Loss:     0.4985 Validation Accuracy: 0.784375\n"
     ]
    },
    {
     "name": "stderr",
     "output_type": "stream",
     "text": [
      "\r",
      "Epoch 54/100:  20%|█████                    | 1/5 [00:32<02:09, 32.45s/batches]"
     ]
    },
    {
     "name": "stdout",
     "output_type": "stream",
     "text": [
      "Epoch 54, CIFAR-10 Batch 1:  Loss:     0.5003 Validation Accuracy: 0.778571\n"
     ]
    },
    {
     "name": "stderr",
     "output_type": "stream",
     "text": [
      "\r",
      "Epoch 54/100:  40%|██████████               | 2/5 [01:03<01:34, 31.65s/batches]"
     ]
    },
    {
     "name": "stdout",
     "output_type": "stream",
     "text": [
      "Epoch 54, CIFAR-10 Batch 2:  Loss:     0.4986 Validation Accuracy: 0.779464\n"
     ]
    },
    {
     "name": "stderr",
     "output_type": "stream",
     "text": [
      "\r",
      "Epoch 54/100:  60%|███████████████          | 3/5 [01:36<01:04, 32.12s/batches]"
     ]
    },
    {
     "name": "stdout",
     "output_type": "stream",
     "text": [
      "Epoch 54, CIFAR-10 Batch 3:  Loss:     0.4950 Validation Accuracy: 0.779911\n"
     ]
    },
    {
     "name": "stderr",
     "output_type": "stream",
     "text": [
      "\r",
      "Epoch 54/100:  80%|████████████████████     | 4/5 [02:08<00:32, 32.20s/batches]"
     ]
    },
    {
     "name": "stdout",
     "output_type": "stream",
     "text": [
      "Epoch 54, CIFAR-10 Batch 4:  Loss:     0.4923 Validation Accuracy: 0.782589\n"
     ]
    },
    {
     "name": "stderr",
     "output_type": "stream",
     "text": [
      "Epoch 54/100: 100%|█████████████████████████| 5/5 [02:34<00:00, 30.91s/batches]\n",
      "Epoch 55/100:   0%|                                 | 0/5 [00:00<?, ?batches/s]"
     ]
    },
    {
     "name": "stdout",
     "output_type": "stream",
     "text": [
      "Epoch 55, CIFAR-10 Batch 0:  Loss:     0.4921 Validation Accuracy: 0.786161\n"
     ]
    },
    {
     "name": "stderr",
     "output_type": "stream",
     "text": [
      "\r",
      "Epoch 55/100:  20%|█████                    | 1/5 [00:32<02:10, 32.72s/batches]"
     ]
    },
    {
     "name": "stdout",
     "output_type": "stream",
     "text": [
      "Epoch 55, CIFAR-10 Batch 1:  Loss:     0.4944 Validation Accuracy: 0.782589\n"
     ]
    },
    {
     "name": "stderr",
     "output_type": "stream",
     "text": [
      "\r",
      "Epoch 55/100:  40%|██████████               | 2/5 [01:04<01:36, 32.17s/batches]"
     ]
    },
    {
     "name": "stdout",
     "output_type": "stream",
     "text": [
      "Epoch 55, CIFAR-10 Batch 2:  Loss:     0.4939 Validation Accuracy: 0.785268\n"
     ]
    },
    {
     "name": "stderr",
     "output_type": "stream",
     "text": [
      "\r",
      "Epoch 55/100:  60%|███████████████          | 3/5 [01:35<01:03, 31.74s/batches]"
     ]
    },
    {
     "name": "stdout",
     "output_type": "stream",
     "text": [
      "Epoch 55, CIFAR-10 Batch 3:  Loss:     0.4974 Validation Accuracy: 0.784821\n"
     ]
    },
    {
     "name": "stderr",
     "output_type": "stream",
     "text": [
      "\r",
      "Epoch 55/100:  80%|████████████████████     | 4/5 [02:07<00:31, 31.92s/batches]"
     ]
    },
    {
     "name": "stdout",
     "output_type": "stream",
     "text": [
      "Epoch 55, CIFAR-10 Batch 4:  Loss:     0.4997 Validation Accuracy: 0.780804\n"
     ]
    },
    {
     "name": "stderr",
     "output_type": "stream",
     "text": [
      "Epoch 55/100: 100%|█████████████████████████| 5/5 [02:32<00:00, 30.58s/batches]\n",
      "Epoch 56/100:   0%|                                 | 0/5 [00:00<?, ?batches/s]"
     ]
    },
    {
     "name": "stdout",
     "output_type": "stream",
     "text": [
      "Epoch 56, CIFAR-10 Batch 0:  Loss:     0.5013 Validation Accuracy: 0.779018\n"
     ]
    },
    {
     "name": "stderr",
     "output_type": "stream",
     "text": [
      "\r",
      "Epoch 56/100:  20%|█████                    | 1/5 [00:30<02:02, 30.65s/batches]"
     ]
    },
    {
     "name": "stdout",
     "output_type": "stream",
     "text": [
      "Epoch 56, CIFAR-10 Batch 1:  Loss:     0.4995 Validation Accuracy: 0.781250\n"
     ]
    },
    {
     "name": "stderr",
     "output_type": "stream",
     "text": [
      "\r",
      "Epoch 56/100:  40%|██████████               | 2/5 [01:03<01:34, 31.52s/batches]"
     ]
    },
    {
     "name": "stdout",
     "output_type": "stream",
     "text": [
      "Epoch 56, CIFAR-10 Batch 2:  Loss:     0.4945 Validation Accuracy: 0.786161\n"
     ]
    },
    {
     "name": "stderr",
     "output_type": "stream",
     "text": [
      "\r",
      "Epoch 56/100:  60%|███████████████          | 3/5 [01:35<01:03, 31.68s/batches]"
     ]
    },
    {
     "name": "stdout",
     "output_type": "stream",
     "text": [
      "Epoch 56, CIFAR-10 Batch 3:  Loss:     0.4936 Validation Accuracy: 0.792411\n"
     ]
    },
    {
     "name": "stderr",
     "output_type": "stream",
     "text": [
      "\r",
      "Epoch 56/100:  80%|████████████████████     | 4/5 [02:07<00:31, 31.81s/batches]"
     ]
    },
    {
     "name": "stdout",
     "output_type": "stream",
     "text": [
      "Epoch 56, CIFAR-10 Batch 4:  Loss:     0.4892 Validation Accuracy: 0.791964\n"
     ]
    },
    {
     "name": "stderr",
     "output_type": "stream",
     "text": [
      "Epoch 56/100: 100%|█████████████████████████| 5/5 [02:31<00:00, 30.22s/batches]\n",
      "Epoch 57/100:   0%|                                 | 0/5 [00:00<?, ?batches/s]"
     ]
    },
    {
     "name": "stdout",
     "output_type": "stream",
     "text": [
      "Epoch 57, CIFAR-10 Batch 0:  Loss:     0.4904 Validation Accuracy: 0.786161\n"
     ]
    },
    {
     "name": "stderr",
     "output_type": "stream",
     "text": [
      "\r",
      "Epoch 57/100:  20%|█████                    | 1/5 [00:32<02:09, 32.48s/batches]"
     ]
    },
    {
     "name": "stdout",
     "output_type": "stream",
     "text": [
      "Epoch 57, CIFAR-10 Batch 1:  Loss:     0.4950 Validation Accuracy: 0.784375\n"
     ]
    },
    {
     "name": "stderr",
     "output_type": "stream",
     "text": [
      "\r",
      "Epoch 57/100:  40%|██████████               | 2/5 [01:04<01:37, 32.47s/batches]"
     ]
    },
    {
     "name": "stdout",
     "output_type": "stream",
     "text": [
      "Epoch 57, CIFAR-10 Batch 2:  Loss:     0.4885 Validation Accuracy: 0.783929\n"
     ]
    },
    {
     "name": "stderr",
     "output_type": "stream",
     "text": [
      "\r",
      "Epoch 57/100:  60%|███████████████          | 3/5 [01:36<01:04, 32.24s/batches]"
     ]
    },
    {
     "name": "stdout",
     "output_type": "stream",
     "text": [
      "Epoch 57, CIFAR-10 Batch 3:  Loss:     0.4900 Validation Accuracy: 0.781696\n"
     ]
    },
    {
     "name": "stderr",
     "output_type": "stream",
     "text": [
      "\r",
      "Epoch 57/100:  80%|████████████████████     | 4/5 [02:09<00:32, 32.31s/batches]"
     ]
    },
    {
     "name": "stdout",
     "output_type": "stream",
     "text": [
      "Epoch 57, CIFAR-10 Batch 4:  Loss:     0.4856 Validation Accuracy: 0.785714\n"
     ]
    },
    {
     "name": "stderr",
     "output_type": "stream",
     "text": [
      "Epoch 57/100: 100%|█████████████████████████| 5/5 [02:34<00:00, 30.99s/batches]\n",
      "Epoch 58/100:   0%|                                 | 0/5 [00:00<?, ?batches/s]"
     ]
    },
    {
     "name": "stdout",
     "output_type": "stream",
     "text": [
      "Epoch 58, CIFAR-10 Batch 0:  Loss:     0.4841 Validation Accuracy: 0.785714\n"
     ]
    },
    {
     "name": "stderr",
     "output_type": "stream",
     "text": [
      "\r",
      "Epoch 58/100:  20%|█████                    | 1/5 [00:31<02:05, 31.35s/batches]"
     ]
    },
    {
     "name": "stdout",
     "output_type": "stream",
     "text": [
      "Epoch 58, CIFAR-10 Batch 1:  Loss:     0.4873 Validation Accuracy: 0.784375\n"
     ]
    },
    {
     "name": "stderr",
     "output_type": "stream",
     "text": [
      "\r",
      "Epoch 58/100:  40%|██████████               | 2/5 [01:02<01:34, 31.46s/batches]"
     ]
    },
    {
     "name": "stdout",
     "output_type": "stream",
     "text": [
      "Epoch 58, CIFAR-10 Batch 2:  Loss:     0.4815 Validation Accuracy: 0.786161\n"
     ]
    },
    {
     "name": "stderr",
     "output_type": "stream",
     "text": [
      "\r",
      "Epoch 58/100:  60%|███████████████          | 3/5 [01:34<01:03, 31.55s/batches]"
     ]
    },
    {
     "name": "stdout",
     "output_type": "stream",
     "text": [
      "Epoch 58, CIFAR-10 Batch 3:  Loss:     0.4811 Validation Accuracy: 0.792411\n"
     ]
    },
    {
     "name": "stderr",
     "output_type": "stream",
     "text": [
      "\r",
      "Epoch 58/100:  80%|████████████████████     | 4/5 [02:06<00:31, 31.64s/batches]"
     ]
    },
    {
     "name": "stdout",
     "output_type": "stream",
     "text": [
      "Epoch 58, CIFAR-10 Batch 4:  Loss:     0.4803 Validation Accuracy: 0.791964\n"
     ]
    },
    {
     "name": "stderr",
     "output_type": "stream",
     "text": [
      "Epoch 58/100: 100%|█████████████████████████| 5/5 [02:30<00:00, 30.08s/batches]\n",
      "Epoch 59/100:   0%|                                 | 0/5 [00:00<?, ?batches/s]"
     ]
    },
    {
     "name": "stdout",
     "output_type": "stream",
     "text": [
      "Epoch 59, CIFAR-10 Batch 0:  Loss:     0.4822 Validation Accuracy: 0.786161\n"
     ]
    },
    {
     "name": "stderr",
     "output_type": "stream",
     "text": [
      "\r",
      "Epoch 59/100:  20%|█████                    | 1/5 [00:32<02:10, 32.67s/batches]"
     ]
    },
    {
     "name": "stdout",
     "output_type": "stream",
     "text": [
      "Epoch 59, CIFAR-10 Batch 1:  Loss:     0.4847 Validation Accuracy: 0.783929\n"
     ]
    },
    {
     "name": "stderr",
     "output_type": "stream",
     "text": [
      "\r",
      "Epoch 59/100:  40%|██████████               | 2/5 [01:03<01:35, 31.85s/batches]"
     ]
    },
    {
     "name": "stdout",
     "output_type": "stream",
     "text": [
      "Epoch 59, CIFAR-10 Batch 2:  Loss:     0.4841 Validation Accuracy: 0.789732\n"
     ]
    },
    {
     "name": "stderr",
     "output_type": "stream",
     "text": [
      "\r",
      "Epoch 59/100:  60%|███████████████          | 3/5 [01:35<01:03, 31.97s/batches]"
     ]
    },
    {
     "name": "stdout",
     "output_type": "stream",
     "text": [
      "Epoch 59, CIFAR-10 Batch 3:  Loss:     0.4868 Validation Accuracy: 0.787946\n"
     ]
    },
    {
     "name": "stderr",
     "output_type": "stream",
     "text": [
      "\r",
      "Epoch 59/100:  80%|████████████████████     | 4/5 [02:07<00:31, 31.76s/batches]"
     ]
    },
    {
     "name": "stdout",
     "output_type": "stream",
     "text": [
      "Epoch 59, CIFAR-10 Batch 4:  Loss:     0.4845 Validation Accuracy: 0.789286\n"
     ]
    },
    {
     "name": "stderr",
     "output_type": "stream",
     "text": [
      "Epoch 59/100: 100%|█████████████████████████| 5/5 [02:32<00:00, 30.47s/batches]\n",
      "Epoch 60/100:   0%|                                 | 0/5 [00:00<?, ?batches/s]"
     ]
    },
    {
     "name": "stdout",
     "output_type": "stream",
     "text": [
      "Epoch 60, CIFAR-10 Batch 0:  Loss:     0.4824 Validation Accuracy: 0.790625\n"
     ]
    },
    {
     "name": "stderr",
     "output_type": "stream",
     "text": [
      "\r",
      "Epoch 60/100:  20%|█████                    | 1/5 [00:30<02:02, 30.75s/batches]"
     ]
    },
    {
     "name": "stdout",
     "output_type": "stream",
     "text": [
      "Epoch 60, CIFAR-10 Batch 1:  Loss:     0.4802 Validation Accuracy: 0.792857\n"
     ]
    },
    {
     "name": "stderr",
     "output_type": "stream",
     "text": [
      "\r",
      "Epoch 60/100:  40%|██████████               | 2/5 [01:02<01:34, 31.47s/batches]"
     ]
    },
    {
     "name": "stdout",
     "output_type": "stream",
     "text": [
      "Epoch 60, CIFAR-10 Batch 2:  Loss:     0.4764 Validation Accuracy: 0.796875\n"
     ]
    },
    {
     "name": "stderr",
     "output_type": "stream",
     "text": [
      "\r",
      "Epoch 60/100:  60%|███████████████          | 3/5 [01:33<01:02, 31.26s/batches]"
     ]
    },
    {
     "name": "stdout",
     "output_type": "stream",
     "text": [
      "Epoch 60, CIFAR-10 Batch 3:  Loss:     0.4765 Validation Accuracy: 0.794643\n"
     ]
    },
    {
     "name": "stderr",
     "output_type": "stream",
     "text": [
      "\r",
      "Epoch 60/100:  80%|████████████████████     | 4/5 [02:04<00:31, 31.16s/batches]"
     ]
    },
    {
     "name": "stdout",
     "output_type": "stream",
     "text": [
      "Epoch 60, CIFAR-10 Batch 4:  Loss:     0.4743 Validation Accuracy: 0.795536\n"
     ]
    },
    {
     "name": "stderr",
     "output_type": "stream",
     "text": [
      "Epoch 60/100: 100%|█████████████████████████| 5/5 [02:29<00:00, 29.87s/batches]\n",
      "Epoch 61/100:   0%|                                 | 0/5 [00:00<?, ?batches/s]"
     ]
    },
    {
     "name": "stdout",
     "output_type": "stream",
     "text": [
      "Epoch 61, CIFAR-10 Batch 0:  Loss:     0.4761 Validation Accuracy: 0.791071\n"
     ]
    },
    {
     "name": "stderr",
     "output_type": "stream",
     "text": [
      "\r",
      "Epoch 61/100:  20%|█████                    | 1/5 [00:32<02:10, 32.50s/batches]"
     ]
    },
    {
     "name": "stdout",
     "output_type": "stream",
     "text": [
      "Epoch 61, CIFAR-10 Batch 1:  Loss:     0.4789 Validation Accuracy: 0.785714\n"
     ]
    },
    {
     "name": "stderr",
     "output_type": "stream",
     "text": [
      "\r",
      "Epoch 61/100:  40%|██████████               | 2/5 [01:03<01:35, 31.88s/batches]"
     ]
    },
    {
     "name": "stdout",
     "output_type": "stream",
     "text": [
      "Epoch 61, CIFAR-10 Batch 2:  Loss:     0.4737 Validation Accuracy: 0.790179\n"
     ]
    },
    {
     "name": "stderr",
     "output_type": "stream",
     "text": [
      "\r",
      "Epoch 61/100:  60%|███████████████          | 3/5 [01:36<01:04, 32.02s/batches]"
     ]
    },
    {
     "name": "stdout",
     "output_type": "stream",
     "text": [
      "Epoch 61, CIFAR-10 Batch 3:  Loss:     0.4729 Validation Accuracy: 0.791964\n"
     ]
    },
    {
     "name": "stderr",
     "output_type": "stream",
     "text": [
      "\r",
      "Epoch 61/100:  80%|████████████████████     | 4/5 [02:06<00:31, 31.73s/batches]"
     ]
    },
    {
     "name": "stdout",
     "output_type": "stream",
     "text": [
      "Epoch 61, CIFAR-10 Batch 4:  Loss:     0.4708 Validation Accuracy: 0.791964\n"
     ]
    },
    {
     "name": "stderr",
     "output_type": "stream",
     "text": [
      "Epoch 61/100: 100%|█████████████████████████| 5/5 [02:32<00:00, 30.50s/batches]\n",
      "Epoch 62/100:   0%|                                 | 0/5 [00:00<?, ?batches/s]"
     ]
    },
    {
     "name": "stdout",
     "output_type": "stream",
     "text": [
      "Epoch 62, CIFAR-10 Batch 0:  Loss:     0.4726 Validation Accuracy: 0.791964\n"
     ]
    },
    {
     "name": "stderr",
     "output_type": "stream",
     "text": [
      "\r",
      "Epoch 62/100:  20%|█████                    | 1/5 [00:31<02:06, 31.61s/batches]"
     ]
    },
    {
     "name": "stdout",
     "output_type": "stream",
     "text": [
      "Epoch 62, CIFAR-10 Batch 1:  Loss:     0.4764 Validation Accuracy: 0.787946\n"
     ]
    },
    {
     "name": "stderr",
     "output_type": "stream",
     "text": [
      "\r",
      "Epoch 62/100:  40%|██████████               | 2/5 [01:03<01:35, 31.97s/batches]"
     ]
    },
    {
     "name": "stdout",
     "output_type": "stream",
     "text": [
      "Epoch 62, CIFAR-10 Batch 2:  Loss:     0.4748 Validation Accuracy: 0.789286\n"
     ]
    },
    {
     "name": "stderr",
     "output_type": "stream",
     "text": [
      "\r",
      "Epoch 62/100:  60%|███████████████          | 3/5 [01:36<01:04, 32.05s/batches]"
     ]
    },
    {
     "name": "stdout",
     "output_type": "stream",
     "text": [
      "Epoch 62, CIFAR-10 Batch 3:  Loss:     0.4747 Validation Accuracy: 0.791071\n"
     ]
    },
    {
     "name": "stderr",
     "output_type": "stream",
     "text": [
      "\r",
      "Epoch 62/100:  80%|████████████████████     | 4/5 [02:06<00:31, 31.74s/batches]"
     ]
    },
    {
     "name": "stdout",
     "output_type": "stream",
     "text": [
      "Epoch 62, CIFAR-10 Batch 4:  Loss:     0.4722 Validation Accuracy: 0.790179\n"
     ]
    },
    {
     "name": "stderr",
     "output_type": "stream",
     "text": [
      "Epoch 62/100: 100%|█████████████████████████| 5/5 [02:32<00:00, 30.58s/batches]\n",
      "Epoch 63/100:   0%|                                 | 0/5 [00:00<?, ?batches/s]"
     ]
    },
    {
     "name": "stdout",
     "output_type": "stream",
     "text": [
      "Epoch 63, CIFAR-10 Batch 0:  Loss:     0.4707 Validation Accuracy: 0.792857\n"
     ]
    },
    {
     "name": "stderr",
     "output_type": "stream",
     "text": [
      "\r",
      "Epoch 63/100:  20%|█████                    | 1/5 [00:30<02:03, 30.79s/batches]"
     ]
    },
    {
     "name": "stdout",
     "output_type": "stream",
     "text": [
      "Epoch 63, CIFAR-10 Batch 1:  Loss:     0.4706 Validation Accuracy: 0.791964\n"
     ]
    },
    {
     "name": "stderr",
     "output_type": "stream",
     "text": [
      "\r",
      "Epoch 63/100:  40%|██████████               | 2/5 [01:03<01:34, 31.64s/batches]"
     ]
    },
    {
     "name": "stdout",
     "output_type": "stream",
     "text": [
      "Epoch 63, CIFAR-10 Batch 2:  Loss:     0.4665 Validation Accuracy: 0.797768\n"
     ]
    },
    {
     "name": "stderr",
     "output_type": "stream",
     "text": [
      "\r",
      "Epoch 63/100:  60%|███████████████          | 3/5 [01:35<01:03, 31.78s/batches]"
     ]
    },
    {
     "name": "stdout",
     "output_type": "stream",
     "text": [
      "Epoch 63, CIFAR-10 Batch 3:  Loss:     0.4671 Validation Accuracy: 0.794643\n"
     ]
    },
    {
     "name": "stderr",
     "output_type": "stream",
     "text": [
      "\r",
      "Epoch 63/100:  80%|████████████████████     | 4/5 [02:05<00:31, 31.49s/batches]"
     ]
    },
    {
     "name": "stdout",
     "output_type": "stream",
     "text": [
      "Epoch 63, CIFAR-10 Batch 4:  Loss:     0.4705 Validation Accuracy: 0.792857\n"
     ]
    },
    {
     "name": "stderr",
     "output_type": "stream",
     "text": [
      "Epoch 63/100: 100%|█████████████████████████| 5/5 [02:29<00:00, 29.95s/batches]\n",
      "Epoch 64/100:   0%|                                 | 0/5 [00:00<?, ?batches/s]"
     ]
    },
    {
     "name": "stdout",
     "output_type": "stream",
     "text": [
      "Epoch 64, CIFAR-10 Batch 0:  Loss:     0.4746 Validation Accuracy: 0.789286\n"
     ]
    },
    {
     "name": "stderr",
     "output_type": "stream",
     "text": [
      "\r",
      "Epoch 64/100:  20%|█████                    | 1/5 [00:32<02:09, 32.34s/batches]"
     ]
    },
    {
     "name": "stdout",
     "output_type": "stream",
     "text": [
      "Epoch 64, CIFAR-10 Batch 1:  Loss:     0.4749 Validation Accuracy: 0.790625\n"
     ]
    },
    {
     "name": "stderr",
     "output_type": "stream",
     "text": [
      "\r",
      "Epoch 64/100:  40%|██████████               | 2/5 [01:03<01:34, 31.58s/batches]"
     ]
    },
    {
     "name": "stdout",
     "output_type": "stream",
     "text": [
      "Epoch 64, CIFAR-10 Batch 2:  Loss:     0.4708 Validation Accuracy: 0.797321\n"
     ]
    },
    {
     "name": "stderr",
     "output_type": "stream",
     "text": [
      "\r",
      "Epoch 64/100:  60%|███████████████          | 3/5 [01:35<01:03, 31.78s/batches]"
     ]
    },
    {
     "name": "stdout",
     "output_type": "stream",
     "text": [
      "Epoch 64, CIFAR-10 Batch 3:  Loss:     0.4698 Validation Accuracy: 0.795982\n"
     ]
    },
    {
     "name": "stderr",
     "output_type": "stream",
     "text": [
      "\r",
      "Epoch 64/100:  80%|████████████████████     | 4/5 [02:06<00:31, 31.74s/batches]"
     ]
    },
    {
     "name": "stdout",
     "output_type": "stream",
     "text": [
      "Epoch 64, CIFAR-10 Batch 4:  Loss:     0.4671 Validation Accuracy: 0.796429\n"
     ]
    },
    {
     "name": "stderr",
     "output_type": "stream",
     "text": [
      "Epoch 64/100: 100%|█████████████████████████| 5/5 [02:31<00:00, 30.22s/batches]\n",
      "Epoch 65/100:   0%|                                 | 0/5 [00:00<?, ?batches/s]"
     ]
    },
    {
     "name": "stdout",
     "output_type": "stream",
     "text": [
      "Epoch 65, CIFAR-10 Batch 0:  Loss:     0.4697 Validation Accuracy: 0.791071\n"
     ]
    },
    {
     "name": "stderr",
     "output_type": "stream",
     "text": [
      "\r",
      "Epoch 65/100:  20%|█████                    | 1/5 [00:32<02:09, 32.38s/batches]"
     ]
    },
    {
     "name": "stdout",
     "output_type": "stream",
     "text": [
      "Epoch 65, CIFAR-10 Batch 1:  Loss:     0.4689 Validation Accuracy: 0.792411\n"
     ]
    },
    {
     "name": "stderr",
     "output_type": "stream",
     "text": [
      "\r",
      "Epoch 65/100:  40%|██████████               | 2/5 [01:03<01:35, 31.72s/batches]"
     ]
    },
    {
     "name": "stdout",
     "output_type": "stream",
     "text": [
      "Epoch 65, CIFAR-10 Batch 2:  Loss:     0.4657 Validation Accuracy: 0.795536\n"
     ]
    },
    {
     "name": "stderr",
     "output_type": "stream",
     "text": [
      "\r",
      "Epoch 65/100:  60%|███████████████          | 3/5 [01:35<01:03, 31.97s/batches]"
     ]
    },
    {
     "name": "stdout",
     "output_type": "stream",
     "text": [
      "Epoch 65, CIFAR-10 Batch 3:  Loss:     0.4665 Validation Accuracy: 0.793304\n"
     ]
    },
    {
     "name": "stderr",
     "output_type": "stream",
     "text": [
      "\r",
      "Epoch 65/100:  80%|████████████████████     | 4/5 [02:06<00:31, 31.75s/batches]"
     ]
    },
    {
     "name": "stdout",
     "output_type": "stream",
     "text": [
      "Epoch 65, CIFAR-10 Batch 4:  Loss:     0.4595 Validation Accuracy: 0.800893\n"
     ]
    },
    {
     "name": "stderr",
     "output_type": "stream",
     "text": [
      "Epoch 65/100: 100%|█████████████████████████| 5/5 [02:30<00:00, 30.19s/batches]\n",
      "Epoch 66/100:   0%|                                 | 0/5 [00:00<?, ?batches/s]"
     ]
    },
    {
     "name": "stdout",
     "output_type": "stream",
     "text": [
      "Epoch 66, CIFAR-10 Batch 0:  Loss:     0.4636 Validation Accuracy: 0.791518\n"
     ]
    },
    {
     "name": "stderr",
     "output_type": "stream",
     "text": [
      "\r",
      "Epoch 66/100:  20%|█████                    | 1/5 [00:32<02:11, 32.83s/batches]"
     ]
    },
    {
     "name": "stdout",
     "output_type": "stream",
     "text": [
      "Epoch 66, CIFAR-10 Batch 1:  Loss:     0.4660 Validation Accuracy: 0.788393\n"
     ]
    },
    {
     "name": "stderr",
     "output_type": "stream",
     "text": [
      "\r",
      "Epoch 66/100:  40%|██████████               | 2/5 [01:05<01:37, 32.53s/batches]"
     ]
    },
    {
     "name": "stdout",
     "output_type": "stream",
     "text": [
      "Epoch 66, CIFAR-10 Batch 2:  Loss:     0.4579 Validation Accuracy: 0.797321\n"
     ]
    },
    {
     "name": "stderr",
     "output_type": "stream",
     "text": [
      "\r",
      "Epoch 66/100:  60%|███████████████          | 3/5 [01:35<01:03, 31.99s/batches]"
     ]
    },
    {
     "name": "stdout",
     "output_type": "stream",
     "text": [
      "Epoch 66, CIFAR-10 Batch 3:  Loss:     0.4617 Validation Accuracy: 0.792857\n"
     ]
    },
    {
     "name": "stderr",
     "output_type": "stream",
     "text": [
      "\r",
      "Epoch 66/100:  80%|████████████████████     | 4/5 [02:08<00:32, 32.05s/batches]"
     ]
    },
    {
     "name": "stdout",
     "output_type": "stream",
     "text": [
      "Epoch 66, CIFAR-10 Batch 4:  Loss:     0.4619 Validation Accuracy: 0.795982\n"
     ]
    },
    {
     "name": "stderr",
     "output_type": "stream",
     "text": [
      "Epoch 66/100: 100%|█████████████████████████| 5/5 [02:32<00:00, 30.55s/batches]\n",
      "Epoch 67/100:   0%|                                 | 0/5 [00:00<?, ?batches/s]"
     ]
    },
    {
     "name": "stdout",
     "output_type": "stream",
     "text": [
      "Epoch 67, CIFAR-10 Batch 0:  Loss:     0.4625 Validation Accuracy: 0.791071\n"
     ]
    },
    {
     "name": "stderr",
     "output_type": "stream",
     "text": [
      "\r",
      "Epoch 67/100:  20%|█████                    | 1/5 [00:30<02:03, 30.85s/batches]"
     ]
    },
    {
     "name": "stdout",
     "output_type": "stream",
     "text": [
      "Epoch 67, CIFAR-10 Batch 1:  Loss:     0.4685 Validation Accuracy: 0.786161\n"
     ]
    },
    {
     "name": "stderr",
     "output_type": "stream",
     "text": [
      "\r",
      "Epoch 67/100:  40%|██████████               | 2/5 [01:03<01:35, 31.73s/batches]"
     ]
    },
    {
     "name": "stdout",
     "output_type": "stream",
     "text": [
      "Epoch 67, CIFAR-10 Batch 2:  Loss:     0.4650 Validation Accuracy: 0.790625\n"
     ]
    },
    {
     "name": "stderr",
     "output_type": "stream",
     "text": [
      "\r",
      "Epoch 67/100:  60%|███████████████          | 3/5 [01:34<01:02, 31.42s/batches]"
     ]
    },
    {
     "name": "stdout",
     "output_type": "stream",
     "text": [
      "Epoch 67, CIFAR-10 Batch 3:  Loss:     0.4611 Validation Accuracy: 0.796875\n"
     ]
    },
    {
     "name": "stderr",
     "output_type": "stream",
     "text": [
      "\r",
      "Epoch 67/100:  80%|████████████████████     | 4/5 [02:06<00:31, 31.71s/batches]"
     ]
    },
    {
     "name": "stdout",
     "output_type": "stream",
     "text": [
      "Epoch 67, CIFAR-10 Batch 4:  Loss:     0.4598 Validation Accuracy: 0.795089\n"
     ]
    },
    {
     "name": "stderr",
     "output_type": "stream",
     "text": [
      "Epoch 67/100: 100%|█████████████████████████| 5/5 [02:31<00:00, 30.25s/batches]\n",
      "Epoch 68/100:   0%|                                 | 0/5 [00:00<?, ?batches/s]"
     ]
    },
    {
     "name": "stdout",
     "output_type": "stream",
     "text": [
      "Epoch 68, CIFAR-10 Batch 0:  Loss:     0.4584 Validation Accuracy: 0.793750\n"
     ]
    },
    {
     "name": "stderr",
     "output_type": "stream",
     "text": [
      "\r",
      "Epoch 68/100:  20%|█████                    | 1/5 [00:31<02:06, 31.63s/batches]"
     ]
    },
    {
     "name": "stdout",
     "output_type": "stream",
     "text": [
      "Epoch 68, CIFAR-10 Batch 1:  Loss:     0.4580 Validation Accuracy: 0.797768\n"
     ]
    },
    {
     "name": "stderr",
     "output_type": "stream",
     "text": [
      "\r",
      "Epoch 68/100:  40%|██████████               | 2/5 [01:02<01:33, 31.24s/batches]"
     ]
    },
    {
     "name": "stdout",
     "output_type": "stream",
     "text": [
      "Epoch 68, CIFAR-10 Batch 2:  Loss:     0.4600 Validation Accuracy: 0.796875\n"
     ]
    },
    {
     "name": "stderr",
     "output_type": "stream",
     "text": [
      "\r",
      "Epoch 68/100:  60%|███████████████          | 3/5 [01:34<01:03, 31.58s/batches]"
     ]
    },
    {
     "name": "stdout",
     "output_type": "stream",
     "text": [
      "Epoch 68, CIFAR-10 Batch 3:  Loss:     0.4589 Validation Accuracy: 0.798214\n"
     ]
    },
    {
     "name": "stderr",
     "output_type": "stream",
     "text": [
      "\r",
      "Epoch 68/100:  80%|████████████████████     | 4/5 [02:05<00:31, 31.36s/batches]"
     ]
    },
    {
     "name": "stdout",
     "output_type": "stream",
     "text": [
      "Epoch 68, CIFAR-10 Batch 4:  Loss:     0.4564 Validation Accuracy: 0.800000\n"
     ]
    },
    {
     "name": "stderr",
     "output_type": "stream",
     "text": [
      "Epoch 68/100: 100%|█████████████████████████| 5/5 [02:30<00:00, 30.18s/batches]\n",
      "Epoch 69/100:   0%|                                 | 0/5 [00:00<?, ?batches/s]"
     ]
    },
    {
     "name": "stdout",
     "output_type": "stream",
     "text": [
      "Epoch 69, CIFAR-10 Batch 0:  Loss:     0.4567 Validation Accuracy: 0.795089\n"
     ]
    },
    {
     "name": "stderr",
     "output_type": "stream",
     "text": [
      "\r",
      "Epoch 69/100:  20%|█████                    | 1/5 [00:32<02:09, 32.38s/batches]"
     ]
    },
    {
     "name": "stdout",
     "output_type": "stream",
     "text": [
      "Epoch 69, CIFAR-10 Batch 1:  Loss:     0.4531 Validation Accuracy: 0.801786\n"
     ]
    },
    {
     "name": "stderr",
     "output_type": "stream",
     "text": [
      "\r",
      "Epoch 69/100:  40%|██████████               | 2/5 [01:04<01:37, 32.49s/batches]"
     ]
    },
    {
     "name": "stdout",
     "output_type": "stream",
     "text": [
      "Epoch 69, CIFAR-10 Batch 2:  Loss:     0.4546 Validation Accuracy: 0.795089\n"
     ]
    },
    {
     "name": "stderr",
     "output_type": "stream",
     "text": [
      "\r",
      "Epoch 69/100:  60%|███████████████          | 3/5 [01:37<01:04, 32.45s/batches]"
     ]
    },
    {
     "name": "stdout",
     "output_type": "stream",
     "text": [
      "Epoch 69, CIFAR-10 Batch 3:  Loss:     0.4594 Validation Accuracy: 0.793304\n"
     ]
    },
    {
     "name": "stderr",
     "output_type": "stream",
     "text": [
      "\r",
      "Epoch 69/100:  80%|████████████████████     | 4/5 [02:09<00:32, 32.41s/batches]"
     ]
    },
    {
     "name": "stdout",
     "output_type": "stream",
     "text": [
      "Epoch 69, CIFAR-10 Batch 4:  Loss:     0.4565 Validation Accuracy: 0.793304\n"
     ]
    },
    {
     "name": "stderr",
     "output_type": "stream",
     "text": [
      "Epoch 69/100: 100%|█████████████████████████| 5/5 [02:34<00:00, 30.84s/batches]\n",
      "Epoch 70/100:   0%|                                 | 0/5 [00:00<?, ?batches/s]"
     ]
    },
    {
     "name": "stdout",
     "output_type": "stream",
     "text": [
      "Epoch 70, CIFAR-10 Batch 0:  Loss:     0.4535 Validation Accuracy: 0.797768\n"
     ]
    },
    {
     "name": "stderr",
     "output_type": "stream",
     "text": [
      "\r",
      "Epoch 70/100:  20%|█████                    | 1/5 [00:30<02:03, 30.76s/batches]"
     ]
    },
    {
     "name": "stdout",
     "output_type": "stream",
     "text": [
      "Epoch 70, CIFAR-10 Batch 1:  Loss:     0.4543 Validation Accuracy: 0.795536\n"
     ]
    },
    {
     "name": "stderr",
     "output_type": "stream",
     "text": [
      "\r",
      "Epoch 70/100:  40%|██████████               | 2/5 [01:02<01:34, 31.46s/batches]"
     ]
    },
    {
     "name": "stdout",
     "output_type": "stream",
     "text": [
      "Epoch 70, CIFAR-10 Batch 2:  Loss:     0.4460 Validation Accuracy: 0.800893\n"
     ]
    },
    {
     "name": "stderr",
     "output_type": "stream",
     "text": [
      "\r",
      "Epoch 70/100:  60%|███████████████          | 3/5 [01:35<01:03, 31.79s/batches]"
     ]
    },
    {
     "name": "stdout",
     "output_type": "stream",
     "text": [
      "Epoch 70, CIFAR-10 Batch 3:  Loss:     0.4467 Validation Accuracy: 0.803571\n"
     ]
    },
    {
     "name": "stderr",
     "output_type": "stream",
     "text": [
      "\r",
      "Epoch 70/100:  80%|████████████████████     | 4/5 [02:07<00:31, 31.81s/batches]"
     ]
    },
    {
     "name": "stdout",
     "output_type": "stream",
     "text": [
      "Epoch 70, CIFAR-10 Batch 4:  Loss:     0.4467 Validation Accuracy: 0.801786\n"
     ]
    },
    {
     "name": "stderr",
     "output_type": "stream",
     "text": [
      "Epoch 70/100: 100%|█████████████████████████| 5/5 [02:32<00:00, 30.54s/batches]\n",
      "Epoch 71/100:   0%|                                 | 0/5 [00:00<?, ?batches/s]"
     ]
    },
    {
     "name": "stdout",
     "output_type": "stream",
     "text": [
      "Epoch 71, CIFAR-10 Batch 0:  Loss:     0.4510 Validation Accuracy: 0.796875\n"
     ]
    },
    {
     "name": "stderr",
     "output_type": "stream",
     "text": [
      "\r",
      "Epoch 71/100:  20%|█████                    | 1/5 [00:32<02:09, 32.41s/batches]"
     ]
    },
    {
     "name": "stdout",
     "output_type": "stream",
     "text": [
      "Epoch 71, CIFAR-10 Batch 1:  Loss:     0.4534 Validation Accuracy: 0.793750\n"
     ]
    },
    {
     "name": "stderr",
     "output_type": "stream",
     "text": [
      "\r",
      "Epoch 71/100:  40%|██████████               | 2/5 [01:04<01:37, 32.34s/batches]"
     ]
    },
    {
     "name": "stdout",
     "output_type": "stream",
     "text": [
      "Epoch 71, CIFAR-10 Batch 2:  Loss:     0.4479 Validation Accuracy: 0.801339\n"
     ]
    },
    {
     "name": "stderr",
     "output_type": "stream",
     "text": [
      "\r",
      "Epoch 71/100:  60%|███████████████          | 3/5 [01:36<01:04, 32.27s/batches]"
     ]
    },
    {
     "name": "stdout",
     "output_type": "stream",
     "text": [
      "Epoch 71, CIFAR-10 Batch 3:  Loss:     0.4478 Validation Accuracy: 0.800893\n"
     ]
    },
    {
     "name": "stderr",
     "output_type": "stream",
     "text": [
      "\r",
      "Epoch 71/100:  80%|████████████████████     | 4/5 [02:08<00:32, 32.04s/batches]"
     ]
    },
    {
     "name": "stdout",
     "output_type": "stream",
     "text": [
      "Epoch 71, CIFAR-10 Batch 4:  Loss:     0.4466 Validation Accuracy: 0.800893\n"
     ]
    },
    {
     "name": "stderr",
     "output_type": "stream",
     "text": [
      "Epoch 71/100: 100%|█████████████████████████| 5/5 [02:33<00:00, 30.67s/batches]\n",
      "Epoch 72/100:   0%|                                 | 0/5 [00:00<?, ?batches/s]"
     ]
    },
    {
     "name": "stdout",
     "output_type": "stream",
     "text": [
      "Epoch 72, CIFAR-10 Batch 0:  Loss:     0.4454 Validation Accuracy: 0.804464\n"
     ]
    },
    {
     "name": "stderr",
     "output_type": "stream",
     "text": [
      "\r",
      "Epoch 72/100:  20%|█████                    | 1/5 [00:32<02:08, 32.13s/batches]"
     ]
    },
    {
     "name": "stdout",
     "output_type": "stream",
     "text": [
      "Epoch 72, CIFAR-10 Batch 1:  Loss:     0.4534 Validation Accuracy: 0.796429\n"
     ]
    },
    {
     "name": "stderr",
     "output_type": "stream",
     "text": [
      "\r",
      "Epoch 72/100:  40%|██████████               | 2/5 [01:03<01:35, 31.67s/batches]"
     ]
    },
    {
     "name": "stdout",
     "output_type": "stream",
     "text": [
      "Epoch 72, CIFAR-10 Batch 2:  Loss:     0.4555 Validation Accuracy: 0.794643\n"
     ]
    },
    {
     "name": "stderr",
     "output_type": "stream",
     "text": [
      "\r",
      "Epoch 72/100:  60%|███████████████          | 3/5 [01:35<01:03, 31.85s/batches]"
     ]
    },
    {
     "name": "stdout",
     "output_type": "stream",
     "text": [
      "Epoch 72, CIFAR-10 Batch 3:  Loss:     0.4506 Validation Accuracy: 0.802232\n"
     ]
    },
    {
     "name": "stderr",
     "output_type": "stream",
     "text": [
      "\r",
      "Epoch 72/100:  80%|████████████████████     | 4/5 [02:07<00:31, 31.92s/batches]"
     ]
    },
    {
     "name": "stdout",
     "output_type": "stream",
     "text": [
      "Epoch 72, CIFAR-10 Batch 4:  Loss:     0.4497 Validation Accuracy: 0.802679\n"
     ]
    },
    {
     "name": "stderr",
     "output_type": "stream",
     "text": [
      "Epoch 72/100: 100%|█████████████████████████| 5/5 [02:31<00:00, 30.32s/batches]\n",
      "Epoch 73/100:   0%|                                 | 0/5 [00:00<?, ?batches/s]"
     ]
    },
    {
     "name": "stdout",
     "output_type": "stream",
     "text": [
      "Epoch 73, CIFAR-10 Batch 0:  Loss:     0.4500 Validation Accuracy: 0.800893\n"
     ]
    },
    {
     "name": "stderr",
     "output_type": "stream",
     "text": [
      "\r",
      "Epoch 73/100:  20%|█████                    | 1/5 [00:32<02:08, 32.23s/batches]"
     ]
    },
    {
     "name": "stdout",
     "output_type": "stream",
     "text": [
      "Epoch 73, CIFAR-10 Batch 1:  Loss:     0.4478 Validation Accuracy: 0.801786\n"
     ]
    },
    {
     "name": "stderr",
     "output_type": "stream",
     "text": [
      "\r",
      "Epoch 73/100:  40%|██████████               | 2/5 [01:03<01:35, 31.83s/batches]"
     ]
    },
    {
     "name": "stdout",
     "output_type": "stream",
     "text": [
      "Epoch 73, CIFAR-10 Batch 2:  Loss:     0.4473 Validation Accuracy: 0.802679\n"
     ]
    },
    {
     "name": "stderr",
     "output_type": "stream",
     "text": [
      "\r",
      "Epoch 73/100:  60%|███████████████          | 3/5 [01:36<01:04, 32.24s/batches]"
     ]
    },
    {
     "name": "stdout",
     "output_type": "stream",
     "text": [
      "Epoch 73, CIFAR-10 Batch 3:  Loss:     0.4490 Validation Accuracy: 0.798214\n"
     ]
    },
    {
     "name": "stderr",
     "output_type": "stream",
     "text": [
      "\r",
      "Epoch 73/100:  80%|████████████████████     | 4/5 [02:10<00:32, 32.51s/batches]"
     ]
    },
    {
     "name": "stdout",
     "output_type": "stream",
     "text": [
      "Epoch 73, CIFAR-10 Batch 4:  Loss:     0.4436 Validation Accuracy: 0.801339\n"
     ]
    },
    {
     "name": "stderr",
     "output_type": "stream",
     "text": [
      "Epoch 73/100: 100%|█████████████████████████| 5/5 [02:37<00:00, 31.60s/batches]\n",
      "Epoch 74/100:   0%|                                 | 0/5 [00:00<?, ?batches/s]"
     ]
    },
    {
     "name": "stdout",
     "output_type": "stream",
     "text": [
      "Epoch 74, CIFAR-10 Batch 0:  Loss:     0.4383 Validation Accuracy: 0.806696\n"
     ]
    },
    {
     "name": "stderr",
     "output_type": "stream",
     "text": [
      "\r",
      "Epoch 74/100:  20%|█████                    | 1/5 [00:35<02:20, 35.01s/batches]"
     ]
    },
    {
     "name": "stdout",
     "output_type": "stream",
     "text": [
      "Epoch 74, CIFAR-10 Batch 1:  Loss:     0.4398 Validation Accuracy: 0.801786\n"
     ]
    },
    {
     "name": "stderr",
     "output_type": "stream",
     "text": [
      "\r",
      "Epoch 74/100:  40%|██████████               | 2/5 [01:12<01:49, 36.42s/batches]"
     ]
    },
    {
     "name": "stdout",
     "output_type": "stream",
     "text": [
      "Epoch 74, CIFAR-10 Batch 2:  Loss:     0.4404 Validation Accuracy: 0.804018\n"
     ]
    },
    {
     "name": "stderr",
     "output_type": "stream",
     "text": [
      "\r",
      "Epoch 74/100:  60%|███████████████          | 3/5 [01:51<01:14, 37.11s/batches]"
     ]
    },
    {
     "name": "stdout",
     "output_type": "stream",
     "text": [
      "Epoch 74, CIFAR-10 Batch 3:  Loss:     0.4433 Validation Accuracy: 0.807143\n"
     ]
    },
    {
     "name": "stderr",
     "output_type": "stream",
     "text": [
      "\r",
      "Epoch 74/100:  80%|████████████████████     | 4/5 [02:26<00:36, 36.64s/batches]"
     ]
    },
    {
     "name": "stdout",
     "output_type": "stream",
     "text": [
      "Epoch 74, CIFAR-10 Batch 4:  Loss:     0.4444 Validation Accuracy: 0.808929\n"
     ]
    },
    {
     "name": "stderr",
     "output_type": "stream",
     "text": [
      "Epoch 74/100: 100%|█████████████████████████| 5/5 [02:52<00:00, 34.40s/batches]\n",
      "Epoch 75/100:   0%|                                 | 0/5 [00:00<?, ?batches/s]"
     ]
    },
    {
     "name": "stdout",
     "output_type": "stream",
     "text": [
      "Epoch 75, CIFAR-10 Batch 0:  Loss:     0.4437 Validation Accuracy: 0.809821\n"
     ]
    },
    {
     "name": "stderr",
     "output_type": "stream",
     "text": [
      "\r",
      "Epoch 75/100:  20%|█████                    | 1/5 [00:35<02:23, 35.82s/batches]"
     ]
    },
    {
     "name": "stdout",
     "output_type": "stream",
     "text": [
      "Epoch 75, CIFAR-10 Batch 1:  Loss:     0.4410 Validation Accuracy: 0.807143\n"
     ]
    },
    {
     "name": "stderr",
     "output_type": "stream",
     "text": [
      "\r",
      "Epoch 75/100:  40%|██████████               | 2/5 [01:14<01:51, 37.22s/batches]"
     ]
    },
    {
     "name": "stdout",
     "output_type": "stream",
     "text": [
      "Epoch 75, CIFAR-10 Batch 2:  Loss:     0.4384 Validation Accuracy: 0.805804\n"
     ]
    },
    {
     "name": "stderr",
     "output_type": "stream",
     "text": [
      "\r",
      "Epoch 75/100:  60%|███████████████          | 3/5 [01:53<01:15, 37.75s/batches]"
     ]
    },
    {
     "name": "stdout",
     "output_type": "stream",
     "text": [
      "Epoch 75, CIFAR-10 Batch 3:  Loss:     0.4378 Validation Accuracy: 0.804464\n"
     ]
    },
    {
     "name": "stderr",
     "output_type": "stream",
     "text": [
      "\r",
      "Epoch 75/100:  80%|████████████████████     | 4/5 [02:27<00:36, 36.83s/batches]"
     ]
    },
    {
     "name": "stdout",
     "output_type": "stream",
     "text": [
      "Epoch 75, CIFAR-10 Batch 4:  Loss:     0.4339 Validation Accuracy: 0.810714\n"
     ]
    },
    {
     "name": "stderr",
     "output_type": "stream",
     "text": [
      "Epoch 75/100: 100%|█████████████████████████| 5/5 [02:53<00:00, 34.67s/batches]\n",
      "Epoch 76/100:   0%|                                 | 0/5 [00:00<?, ?batches/s]"
     ]
    },
    {
     "name": "stdout",
     "output_type": "stream",
     "text": [
      "Epoch 76, CIFAR-10 Batch 0:  Loss:     0.4375 Validation Accuracy: 0.803571\n"
     ]
    },
    {
     "name": "stderr",
     "output_type": "stream",
     "text": [
      "\r",
      "Epoch 76/100:  20%|█████                    | 1/5 [00:32<02:11, 32.89s/batches]"
     ]
    },
    {
     "name": "stdout",
     "output_type": "stream",
     "text": [
      "Epoch 76, CIFAR-10 Batch 1:  Loss:     0.4409 Validation Accuracy: 0.798214\n"
     ]
    },
    {
     "name": "stderr",
     "output_type": "stream",
     "text": [
      "\r",
      "Epoch 76/100:  40%|██████████               | 2/5 [01:06<01:39, 33.20s/batches]"
     ]
    },
    {
     "name": "stdout",
     "output_type": "stream",
     "text": [
      "Epoch 76, CIFAR-10 Batch 2:  Loss:     0.4367 Validation Accuracy: 0.808036\n"
     ]
    },
    {
     "name": "stderr",
     "output_type": "stream",
     "text": [
      "\r",
      "Epoch 76/100:  60%|███████████████          | 3/5 [01:39<01:06, 33.30s/batches]"
     ]
    },
    {
     "name": "stdout",
     "output_type": "stream",
     "text": [
      "Epoch 76, CIFAR-10 Batch 3:  Loss:     0.4401 Validation Accuracy: 0.803125\n"
     ]
    },
    {
     "name": "stderr",
     "output_type": "stream",
     "text": [
      "\r",
      "Epoch 76/100:  80%|████████████████████     | 4/5 [02:13<00:33, 33.28s/batches]"
     ]
    },
    {
     "name": "stdout",
     "output_type": "stream",
     "text": [
      "Epoch 76, CIFAR-10 Batch 4:  Loss:     0.4387 Validation Accuracy: 0.806696\n"
     ]
    },
    {
     "name": "stderr",
     "output_type": "stream",
     "text": [
      "Epoch 76/100: 100%|█████████████████████████| 5/5 [02:39<00:00, 31.80s/batches]\n",
      "Epoch 77/100:   0%|                                 | 0/5 [00:00<?, ?batches/s]"
     ]
    },
    {
     "name": "stdout",
     "output_type": "stream",
     "text": [
      "Epoch 77, CIFAR-10 Batch 0:  Loss:     0.4373 Validation Accuracy: 0.803125\n"
     ]
    },
    {
     "name": "stderr",
     "output_type": "stream",
     "text": [
      "\r",
      "Epoch 77/100:  20%|█████                    | 1/5 [00:32<02:10, 32.65s/batches]"
     ]
    },
    {
     "name": "stdout",
     "output_type": "stream",
     "text": [
      "Epoch 77, CIFAR-10 Batch 1:  Loss:     0.4383 Validation Accuracy: 0.803571\n"
     ]
    },
    {
     "name": "stderr",
     "output_type": "stream",
     "text": [
      "\r",
      "Epoch 77/100:  40%|██████████               | 2/5 [01:05<01:38, 32.75s/batches]"
     ]
    },
    {
     "name": "stdout",
     "output_type": "stream",
     "text": [
      "Epoch 77, CIFAR-10 Batch 2:  Loss:     0.4348 Validation Accuracy: 0.805357\n"
     ]
    },
    {
     "name": "stderr",
     "output_type": "stream",
     "text": [
      "\r",
      "Epoch 77/100:  60%|███████████████          | 3/5 [01:38<01:05, 32.72s/batches]"
     ]
    },
    {
     "name": "stdout",
     "output_type": "stream",
     "text": [
      "Epoch 77, CIFAR-10 Batch 3:  Loss:     0.4375 Validation Accuracy: 0.804464\n"
     ]
    },
    {
     "name": "stderr",
     "output_type": "stream",
     "text": [
      "\r",
      "Epoch 77/100:  80%|████████████████████     | 4/5 [02:10<00:32, 32.62s/batches]"
     ]
    },
    {
     "name": "stdout",
     "output_type": "stream",
     "text": [
      "Epoch 77, CIFAR-10 Batch 4:  Loss:     0.4369 Validation Accuracy: 0.800893\n"
     ]
    },
    {
     "name": "stderr",
     "output_type": "stream",
     "text": [
      "Epoch 77/100: 100%|█████████████████████████| 5/5 [02:35<00:00, 31.15s/batches]\n",
      "Epoch 78/100:   0%|                                 | 0/5 [00:00<?, ?batches/s]"
     ]
    },
    {
     "name": "stdout",
     "output_type": "stream",
     "text": [
      "Epoch 78, CIFAR-10 Batch 0:  Loss:     0.4388 Validation Accuracy: 0.808482\n"
     ]
    },
    {
     "name": "stderr",
     "output_type": "stream",
     "text": [
      "\r",
      "Epoch 78/100:  20%|█████                    | 1/5 [00:33<02:13, 33.36s/batches]"
     ]
    },
    {
     "name": "stdout",
     "output_type": "stream",
     "text": [
      "Epoch 78, CIFAR-10 Batch 1:  Loss:     0.4464 Validation Accuracy: 0.802679\n"
     ]
    },
    {
     "name": "stderr",
     "output_type": "stream",
     "text": [
      "\r",
      "Epoch 78/100:  40%|██████████               | 2/5 [01:06<01:39, 33.06s/batches]"
     ]
    },
    {
     "name": "stdout",
     "output_type": "stream",
     "text": [
      "Epoch 78, CIFAR-10 Batch 2:  Loss:     0.4427 Validation Accuracy: 0.803571\n"
     ]
    },
    {
     "name": "stderr",
     "output_type": "stream",
     "text": [
      "\r",
      "Epoch 78/100:  60%|███████████████          | 3/5 [01:39<01:06, 33.20s/batches]"
     ]
    },
    {
     "name": "stdout",
     "output_type": "stream",
     "text": [
      "Epoch 78, CIFAR-10 Batch 3:  Loss:     0.4400 Validation Accuracy: 0.805804\n"
     ]
    },
    {
     "name": "stderr",
     "output_type": "stream",
     "text": [
      "\r",
      "Epoch 78/100:  80%|████████████████████     | 4/5 [02:11<00:32, 32.98s/batches]"
     ]
    },
    {
     "name": "stdout",
     "output_type": "stream",
     "text": [
      "Epoch 78, CIFAR-10 Batch 4:  Loss:     0.4351 Validation Accuracy: 0.805804\n"
     ]
    },
    {
     "name": "stderr",
     "output_type": "stream",
     "text": [
      "Epoch 78/100: 100%|█████████████████████████| 5/5 [02:37<00:00, 31.53s/batches]\n",
      "Epoch 79/100:   0%|                                 | 0/5 [00:00<?, ?batches/s]"
     ]
    },
    {
     "name": "stdout",
     "output_type": "stream",
     "text": [
      "Epoch 79, CIFAR-10 Batch 0:  Loss:     0.4282 Validation Accuracy: 0.810268\n"
     ]
    },
    {
     "name": "stderr",
     "output_type": "stream",
     "text": [
      "\r",
      "Epoch 79/100:  20%|█████                    | 1/5 [00:32<02:09, 32.38s/batches]"
     ]
    },
    {
     "name": "stdout",
     "output_type": "stream",
     "text": [
      "Epoch 79, CIFAR-10 Batch 1:  Loss:     0.4260 Validation Accuracy: 0.809375\n"
     ]
    },
    {
     "name": "stderr",
     "output_type": "stream",
     "text": [
      "\r",
      "Epoch 79/100:  40%|██████████               | 2/5 [01:05<01:38, 32.90s/batches]"
     ]
    },
    {
     "name": "stdout",
     "output_type": "stream",
     "text": [
      "Epoch 79, CIFAR-10 Batch 2:  Loss:     0.4253 Validation Accuracy: 0.808036\n"
     ]
    },
    {
     "name": "stderr",
     "output_type": "stream",
     "text": [
      "\r",
      "Epoch 79/100:  60%|███████████████          | 3/5 [01:39<01:06, 33.01s/batches]"
     ]
    },
    {
     "name": "stdout",
     "output_type": "stream",
     "text": [
      "Epoch 79, CIFAR-10 Batch 3:  Loss:     0.4237 Validation Accuracy: 0.808482\n"
     ]
    },
    {
     "name": "stderr",
     "output_type": "stream",
     "text": [
      "\r",
      "Epoch 79/100:  80%|████████████████████     | 4/5 [02:14<00:33, 33.59s/batches]"
     ]
    },
    {
     "name": "stdout",
     "output_type": "stream",
     "text": [
      "Epoch 79, CIFAR-10 Batch 4:  Loss:     0.4229 Validation Accuracy: 0.810714\n"
     ]
    },
    {
     "name": "stderr",
     "output_type": "stream",
     "text": [
      "Epoch 79/100: 100%|█████████████████████████| 5/5 [02:41<00:00, 32.22s/batches]\n",
      "Epoch 80/100:   0%|                                 | 0/5 [00:00<?, ?batches/s]"
     ]
    },
    {
     "name": "stdout",
     "output_type": "stream",
     "text": [
      "Epoch 80, CIFAR-10 Batch 0:  Loss:     0.4248 Validation Accuracy: 0.812054\n"
     ]
    },
    {
     "name": "stderr",
     "output_type": "stream",
     "text": [
      "\r",
      "Epoch 80/100:  20%|█████                    | 1/5 [00:32<02:10, 32.66s/batches]"
     ]
    },
    {
     "name": "stdout",
     "output_type": "stream",
     "text": [
      "Epoch 80, CIFAR-10 Batch 1:  Loss:     0.4283 Validation Accuracy: 0.811161\n"
     ]
    },
    {
     "name": "stderr",
     "output_type": "stream",
     "text": [
      "\r",
      "Epoch 80/100:  40%|██████████               | 2/5 [01:07<01:40, 33.59s/batches]"
     ]
    },
    {
     "name": "stdout",
     "output_type": "stream",
     "text": [
      "Epoch 80, CIFAR-10 Batch 2:  Loss:     0.4324 Validation Accuracy: 0.811607\n"
     ]
    },
    {
     "name": "stderr",
     "output_type": "stream",
     "text": [
      "\r",
      "Epoch 80/100:  60%|███████████████          | 3/5 [01:40<01:07, 33.56s/batches]"
     ]
    },
    {
     "name": "stdout",
     "output_type": "stream",
     "text": [
      "Epoch 80, CIFAR-10 Batch 3:  Loss:     0.4370 Validation Accuracy: 0.809375\n"
     ]
    },
    {
     "name": "stderr",
     "output_type": "stream",
     "text": [
      "\r",
      "Epoch 80/100:  80%|████████████████████     | 4/5 [02:14<00:33, 33.63s/batches]"
     ]
    },
    {
     "name": "stdout",
     "output_type": "stream",
     "text": [
      "Epoch 80, CIFAR-10 Batch 4:  Loss:     0.4323 Validation Accuracy: 0.812500\n"
     ]
    },
    {
     "name": "stderr",
     "output_type": "stream",
     "text": [
      "Epoch 80/100: 100%|█████████████████████████| 5/5 [02:40<00:00, 32.18s/batches]\n",
      "Epoch 81/100:   0%|                                 | 0/5 [00:00<?, ?batches/s]"
     ]
    },
    {
     "name": "stdout",
     "output_type": "stream",
     "text": [
      "Epoch 81, CIFAR-10 Batch 0:  Loss:     0.4303 Validation Accuracy: 0.808036\n"
     ]
    },
    {
     "name": "stderr",
     "output_type": "stream",
     "text": [
      "\r",
      "Epoch 81/100:  20%|█████                    | 1/5 [00:33<02:13, 33.37s/batches]"
     ]
    },
    {
     "name": "stdout",
     "output_type": "stream",
     "text": [
      "Epoch 81, CIFAR-10 Batch 1:  Loss:     0.4273 Validation Accuracy: 0.810714\n"
     ]
    },
    {
     "name": "stderr",
     "output_type": "stream",
     "text": [
      "\r",
      "Epoch 81/100:  40%|██████████               | 2/5 [01:06<01:40, 33.35s/batches]"
     ]
    },
    {
     "name": "stdout",
     "output_type": "stream",
     "text": [
      "Epoch 81, CIFAR-10 Batch 2:  Loss:     0.4248 Validation Accuracy: 0.809821\n"
     ]
    },
    {
     "name": "stderr",
     "output_type": "stream",
     "text": [
      "\r",
      "Epoch 81/100:  60%|███████████████          | 3/5 [01:39<01:06, 33.06s/batches]"
     ]
    },
    {
     "name": "stdout",
     "output_type": "stream",
     "text": [
      "Epoch 81, CIFAR-10 Batch 3:  Loss:     0.4259 Validation Accuracy: 0.805804\n"
     ]
    },
    {
     "name": "stderr",
     "output_type": "stream",
     "text": [
      "\r",
      "Epoch 81/100:  80%|████████████████████     | 4/5 [02:12<00:33, 33.23s/batches]"
     ]
    },
    {
     "name": "stdout",
     "output_type": "stream",
     "text": [
      "Epoch 81, CIFAR-10 Batch 4:  Loss:     0.4240 Validation Accuracy: 0.807143\n"
     ]
    },
    {
     "name": "stderr",
     "output_type": "stream",
     "text": [
      "Epoch 81/100: 100%|█████████████████████████| 5/5 [02:38<00:00, 31.76s/batches]\n",
      "Epoch 82/100:   0%|                                 | 0/5 [00:00<?, ?batches/s]"
     ]
    },
    {
     "name": "stdout",
     "output_type": "stream",
     "text": [
      "Epoch 82, CIFAR-10 Batch 0:  Loss:     0.4257 Validation Accuracy: 0.803571\n"
     ]
    },
    {
     "name": "stderr",
     "output_type": "stream",
     "text": [
      "\r",
      "Epoch 82/100:  20%|█████                    | 1/5 [00:32<02:10, 32.53s/batches]"
     ]
    },
    {
     "name": "stdout",
     "output_type": "stream",
     "text": [
      "Epoch 82, CIFAR-10 Batch 1:  Loss:     0.4297 Validation Accuracy: 0.806696\n"
     ]
    },
    {
     "name": "stderr",
     "output_type": "stream",
     "text": [
      "\r",
      "Epoch 82/100:  40%|██████████               | 2/5 [01:05<01:38, 32.87s/batches]"
     ]
    },
    {
     "name": "stdout",
     "output_type": "stream",
     "text": [
      "Epoch 82, CIFAR-10 Batch 2:  Loss:     0.4230 Validation Accuracy: 0.808929\n"
     ]
    },
    {
     "name": "stderr",
     "output_type": "stream",
     "text": [
      "\r",
      "Epoch 82/100:  60%|███████████████          | 3/5 [01:41<01:07, 33.84s/batches]"
     ]
    },
    {
     "name": "stdout",
     "output_type": "stream",
     "text": [
      "Epoch 82, CIFAR-10 Batch 3:  Loss:     0.4263 Validation Accuracy: 0.812054\n"
     ]
    },
    {
     "name": "stderr",
     "output_type": "stream",
     "text": [
      "\r",
      "Epoch 82/100:  80%|████████████████████     | 4/5 [02:16<00:34, 34.06s/batches]"
     ]
    },
    {
     "name": "stdout",
     "output_type": "stream",
     "text": [
      "Epoch 82, CIFAR-10 Batch 4:  Loss:     0.4297 Validation Accuracy: 0.805357\n"
     ]
    },
    {
     "name": "stderr",
     "output_type": "stream",
     "text": [
      "Epoch 82/100: 100%|█████████████████████████| 5/5 [02:42<00:00, 32.52s/batches]\n",
      "Epoch 83/100:   0%|                                 | 0/5 [00:00<?, ?batches/s]"
     ]
    },
    {
     "name": "stdout",
     "output_type": "stream",
     "text": [
      "Epoch 83, CIFAR-10 Batch 0:  Loss:     0.4305 Validation Accuracy: 0.809375\n"
     ]
    },
    {
     "name": "stderr",
     "output_type": "stream",
     "text": [
      "\r",
      "Epoch 83/100:  20%|█████                    | 1/5 [00:34<02:16, 34.02s/batches]"
     ]
    },
    {
     "name": "stdout",
     "output_type": "stream",
     "text": [
      "Epoch 83, CIFAR-10 Batch 1:  Loss:     0.4276 Validation Accuracy: 0.812054\n"
     ]
    },
    {
     "name": "stderr",
     "output_type": "stream",
     "text": [
      "\r",
      "Epoch 83/100:  40%|██████████               | 2/5 [01:07<01:40, 33.60s/batches]"
     ]
    },
    {
     "name": "stdout",
     "output_type": "stream",
     "text": [
      "Epoch 83, CIFAR-10 Batch 2:  Loss:     0.4214 Validation Accuracy: 0.814732\n"
     ]
    },
    {
     "name": "stderr",
     "output_type": "stream",
     "text": [
      "\r",
      "Epoch 83/100:  60%|███████████████          | 3/5 [01:41<01:07, 33.74s/batches]"
     ]
    },
    {
     "name": "stdout",
     "output_type": "stream",
     "text": [
      "Epoch 83, CIFAR-10 Batch 3:  Loss:     0.4196 Validation Accuracy: 0.812500\n"
     ]
    },
    {
     "name": "stderr",
     "output_type": "stream",
     "text": [
      "\r",
      "Epoch 83/100:  80%|████████████████████     | 4/5 [02:14<00:33, 33.65s/batches]"
     ]
    },
    {
     "name": "stdout",
     "output_type": "stream",
     "text": [
      "Epoch 83, CIFAR-10 Batch 4:  Loss:     0.4153 Validation Accuracy: 0.812946\n"
     ]
    },
    {
     "name": "stderr",
     "output_type": "stream",
     "text": [
      "Epoch 83/100: 100%|█████████████████████████| 5/5 [02:40<00:00, 32.13s/batches]\n",
      "Epoch 84/100:   0%|                                 | 0/5 [00:00<?, ?batches/s]"
     ]
    },
    {
     "name": "stdout",
     "output_type": "stream",
     "text": [
      "Epoch 84, CIFAR-10 Batch 0:  Loss:     0.4145 Validation Accuracy: 0.812054\n"
     ]
    },
    {
     "name": "stderr",
     "output_type": "stream",
     "text": [
      "\r",
      "Epoch 84/100:  20%|█████                    | 1/5 [00:34<02:17, 34.44s/batches]"
     ]
    },
    {
     "name": "stdout",
     "output_type": "stream",
     "text": [
      "Epoch 84, CIFAR-10 Batch 1:  Loss:     0.4179 Validation Accuracy: 0.808929\n"
     ]
    },
    {
     "name": "stderr",
     "output_type": "stream",
     "text": [
      "\r",
      "Epoch 84/100:  40%|██████████               | 2/5 [01:08<01:43, 34.49s/batches]"
     ]
    },
    {
     "name": "stdout",
     "output_type": "stream",
     "text": [
      "Epoch 84, CIFAR-10 Batch 2:  Loss:     0.4155 Validation Accuracy: 0.810714\n"
     ]
    },
    {
     "name": "stderr",
     "output_type": "stream",
     "text": [
      "\r",
      "Epoch 84/100:  60%|███████████████          | 3/5 [01:42<01:08, 34.20s/batches]"
     ]
    },
    {
     "name": "stdout",
     "output_type": "stream",
     "text": [
      "Epoch 84, CIFAR-10 Batch 3:  Loss:     0.4130 Validation Accuracy: 0.812500\n"
     ]
    },
    {
     "name": "stderr",
     "output_type": "stream",
     "text": [
      "\r",
      "Epoch 84/100:  80%|████████████████████     | 4/5 [02:15<00:33, 33.87s/batches]"
     ]
    },
    {
     "name": "stdout",
     "output_type": "stream",
     "text": [
      "Epoch 84, CIFAR-10 Batch 4:  Loss:     0.4144 Validation Accuracy: 0.812946\n"
     ]
    },
    {
     "name": "stderr",
     "output_type": "stream",
     "text": [
      "Epoch 84/100: 100%|█████████████████████████| 5/5 [02:41<00:00, 32.35s/batches]\n",
      "Epoch 85/100:   0%|                                 | 0/5 [00:00<?, ?batches/s]"
     ]
    },
    {
     "name": "stdout",
     "output_type": "stream",
     "text": [
      "Epoch 85, CIFAR-10 Batch 0:  Loss:     0.4168 Validation Accuracy: 0.814286\n"
     ]
    },
    {
     "name": "stderr",
     "output_type": "stream",
     "text": [
      "\r",
      "Epoch 85/100:  20%|█████                    | 1/5 [00:36<02:25, 36.41s/batches]"
     ]
    },
    {
     "name": "stdout",
     "output_type": "stream",
     "text": [
      "Epoch 85, CIFAR-10 Batch 1:  Loss:     0.4212 Validation Accuracy: 0.812500\n"
     ]
    },
    {
     "name": "stderr",
     "output_type": "stream",
     "text": [
      "\r",
      "Epoch 85/100:  40%|██████████               | 2/5 [01:11<01:47, 35.81s/batches]"
     ]
    },
    {
     "name": "stdout",
     "output_type": "stream",
     "text": [
      "Epoch 85, CIFAR-10 Batch 2:  Loss:     0.4220 Validation Accuracy: 0.807143\n"
     ]
    },
    {
     "name": "stderr",
     "output_type": "stream",
     "text": [
      "\r",
      "Epoch 85/100:  60%|███████████████          | 3/5 [01:45<01:10, 35.17s/batches]"
     ]
    },
    {
     "name": "stdout",
     "output_type": "stream",
     "text": [
      "Epoch 85, CIFAR-10 Batch 3:  Loss:     0.4209 Validation Accuracy: 0.807589\n"
     ]
    },
    {
     "name": "stderr",
     "output_type": "stream",
     "text": [
      "\r",
      "Epoch 85/100:  80%|████████████████████     | 4/5 [02:19<00:34, 34.88s/batches]"
     ]
    },
    {
     "name": "stdout",
     "output_type": "stream",
     "text": [
      "Epoch 85, CIFAR-10 Batch 4:  Loss:     0.4183 Validation Accuracy: 0.809821\n"
     ]
    },
    {
     "name": "stderr",
     "output_type": "stream",
     "text": [
      "Epoch 85/100: 100%|█████████████████████████| 5/5 [02:45<00:00, 33.17s/batches]\n",
      "Epoch 86/100:   0%|                                 | 0/5 [00:00<?, ?batches/s]"
     ]
    },
    {
     "name": "stdout",
     "output_type": "stream",
     "text": [
      "Epoch 86, CIFAR-10 Batch 0:  Loss:     0.4190 Validation Accuracy: 0.814286\n"
     ]
    },
    {
     "name": "stderr",
     "output_type": "stream",
     "text": [
      "\r",
      "Epoch 86/100:  20%|█████                    | 1/5 [00:33<02:14, 33.53s/batches]"
     ]
    },
    {
     "name": "stdout",
     "output_type": "stream",
     "text": [
      "Epoch 86, CIFAR-10 Batch 1:  Loss:     0.4229 Validation Accuracy: 0.812054\n"
     ]
    },
    {
     "name": "stderr",
     "output_type": "stream",
     "text": [
      "\r",
      "Epoch 86/100:  40%|██████████               | 2/5 [01:07<01:40, 33.56s/batches]"
     ]
    },
    {
     "name": "stdout",
     "output_type": "stream",
     "text": [
      "Epoch 86, CIFAR-10 Batch 2:  Loss:     0.4184 Validation Accuracy: 0.809375\n"
     ]
    },
    {
     "name": "stderr",
     "output_type": "stream",
     "text": [
      "\r",
      "Epoch 86/100:  60%|███████████████          | 3/5 [01:41<01:07, 33.77s/batches]"
     ]
    },
    {
     "name": "stdout",
     "output_type": "stream",
     "text": [
      "Epoch 86, CIFAR-10 Batch 3:  Loss:     0.4194 Validation Accuracy: 0.810268\n"
     ]
    },
    {
     "name": "stderr",
     "output_type": "stream",
     "text": [
      "\r",
      "Epoch 86/100:  80%|████████████████████     | 4/5 [02:14<00:33, 33.68s/batches]"
     ]
    },
    {
     "name": "stdout",
     "output_type": "stream",
     "text": [
      "Epoch 86, CIFAR-10 Batch 4:  Loss:     0.4204 Validation Accuracy: 0.809375\n"
     ]
    },
    {
     "name": "stderr",
     "output_type": "stream",
     "text": [
      "Epoch 86/100: 100%|█████████████████████████| 5/5 [02:41<00:00, 32.24s/batches]\n",
      "Epoch 87/100:   0%|                                 | 0/5 [00:00<?, ?batches/s]"
     ]
    },
    {
     "name": "stdout",
     "output_type": "stream",
     "text": [
      "Epoch 87, CIFAR-10 Batch 0:  Loss:     0.4153 Validation Accuracy: 0.812946\n"
     ]
    },
    {
     "name": "stderr",
     "output_type": "stream",
     "text": [
      "\r",
      "Epoch 87/100:  20%|█████                    | 1/5 [00:34<02:16, 34.10s/batches]"
     ]
    },
    {
     "name": "stdout",
     "output_type": "stream",
     "text": [
      "Epoch 87, CIFAR-10 Batch 1:  Loss:     0.4164 Validation Accuracy: 0.815179\n"
     ]
    },
    {
     "name": "stderr",
     "output_type": "stream",
     "text": [
      "\r",
      "Epoch 87/100:  40%|██████████               | 2/5 [01:09<01:44, 34.85s/batches]"
     ]
    },
    {
     "name": "stdout",
     "output_type": "stream",
     "text": [
      "Epoch 87, CIFAR-10 Batch 2:  Loss:     0.4146 Validation Accuracy: 0.814732\n"
     ]
    },
    {
     "name": "stderr",
     "output_type": "stream",
     "text": [
      "\r",
      "Epoch 87/100:  60%|███████████████          | 3/5 [01:46<01:10, 35.46s/batches]"
     ]
    },
    {
     "name": "stdout",
     "output_type": "stream",
     "text": [
      "Epoch 87, CIFAR-10 Batch 3:  Loss:     0.4150 Validation Accuracy: 0.813393\n"
     ]
    },
    {
     "name": "stderr",
     "output_type": "stream",
     "text": [
      "\r",
      "Epoch 87/100:  80%|████████████████████     | 4/5 [02:22<00:35, 35.67s/batches]"
     ]
    },
    {
     "name": "stdout",
     "output_type": "stream",
     "text": [
      "Epoch 87, CIFAR-10 Batch 4:  Loss:     0.4175 Validation Accuracy: 0.810714\n"
     ]
    },
    {
     "name": "stderr",
     "output_type": "stream",
     "text": [
      "Epoch 87/100: 100%|█████████████████████████| 5/5 [02:49<00:00, 34.00s/batches]\n",
      "Epoch 88/100:   0%|                                 | 0/5 [00:00<?, ?batches/s]"
     ]
    },
    {
     "name": "stdout",
     "output_type": "stream",
     "text": [
      "Epoch 88, CIFAR-10 Batch 0:  Loss:     0.4183 Validation Accuracy: 0.805804\n"
     ]
    },
    {
     "name": "stderr",
     "output_type": "stream",
     "text": [
      "\r",
      "Epoch 88/100:  20%|█████                    | 1/5 [00:34<02:18, 34.57s/batches]"
     ]
    },
    {
     "name": "stdout",
     "output_type": "stream",
     "text": [
      "Epoch 88, CIFAR-10 Batch 1:  Loss:     0.4125 Validation Accuracy: 0.810714\n"
     ]
    },
    {
     "name": "stderr",
     "output_type": "stream",
     "text": [
      "\r",
      "Epoch 88/100:  40%|██████████               | 2/5 [01:09<01:44, 34.74s/batches]"
     ]
    },
    {
     "name": "stdout",
     "output_type": "stream",
     "text": [
      "Epoch 88, CIFAR-10 Batch 2:  Loss:     0.4093 Validation Accuracy: 0.810714\n"
     ]
    },
    {
     "name": "stderr",
     "output_type": "stream",
     "text": [
      "\r",
      "Epoch 88/100:  60%|███████████████          | 3/5 [01:44<01:09, 34.72s/batches]"
     ]
    },
    {
     "name": "stdout",
     "output_type": "stream",
     "text": [
      "Epoch 88, CIFAR-10 Batch 3:  Loss:     0.4094 Validation Accuracy: 0.809375\n"
     ]
    },
    {
     "name": "stderr",
     "output_type": "stream",
     "text": [
      "\r",
      "Epoch 88/100:  80%|████████████████████     | 4/5 [02:18<00:34, 34.52s/batches]"
     ]
    },
    {
     "name": "stdout",
     "output_type": "stream",
     "text": [
      "Epoch 88, CIFAR-10 Batch 4:  Loss:     0.4137 Validation Accuracy: 0.815179\n"
     ]
    },
    {
     "name": "stderr",
     "output_type": "stream",
     "text": [
      "Epoch 88/100: 100%|█████████████████████████| 5/5 [02:44<00:00, 32.96s/batches]\n",
      "Epoch 89/100:   0%|                                 | 0/5 [00:00<?, ?batches/s]"
     ]
    },
    {
     "name": "stdout",
     "output_type": "stream",
     "text": [
      "Epoch 89, CIFAR-10 Batch 0:  Loss:     0.4193 Validation Accuracy: 0.804911\n"
     ]
    },
    {
     "name": "stderr",
     "output_type": "stream",
     "text": [
      "\r",
      "Epoch 89/100:  20%|█████                    | 1/5 [00:33<02:15, 33.92s/batches]"
     ]
    },
    {
     "name": "stdout",
     "output_type": "stream",
     "text": [
      "Epoch 89, CIFAR-10 Batch 1:  Loss:     0.4141 Validation Accuracy: 0.812054\n"
     ]
    },
    {
     "name": "stderr",
     "output_type": "stream",
     "text": [
      "\r",
      "Epoch 89/100:  40%|██████████               | 2/5 [01:07<01:41, 33.90s/batches]"
     ]
    },
    {
     "name": "stdout",
     "output_type": "stream",
     "text": [
      "Epoch 89, CIFAR-10 Batch 2:  Loss:     0.4157 Validation Accuracy: 0.805804\n"
     ]
    },
    {
     "name": "stderr",
     "output_type": "stream",
     "text": [
      "\r",
      "Epoch 89/100:  60%|███████████████          | 3/5 [01:42<01:08, 34.14s/batches]"
     ]
    },
    {
     "name": "stdout",
     "output_type": "stream",
     "text": [
      "Epoch 89, CIFAR-10 Batch 3:  Loss:     0.4205 Validation Accuracy: 0.804018\n"
     ]
    },
    {
     "name": "stderr",
     "output_type": "stream",
     "text": [
      "\r",
      "Epoch 89/100:  80%|████████████████████     | 4/5 [02:16<00:34, 34.22s/batches]"
     ]
    },
    {
     "name": "stdout",
     "output_type": "stream",
     "text": [
      "Epoch 89, CIFAR-10 Batch 4:  Loss:     0.4134 Validation Accuracy: 0.812054\n"
     ]
    },
    {
     "name": "stderr",
     "output_type": "stream",
     "text": [
      "Epoch 89/100: 100%|█████████████████████████| 5/5 [02:44<00:00, 32.88s/batches]\n",
      "Epoch 90/100:   0%|                                 | 0/5 [00:00<?, ?batches/s]"
     ]
    },
    {
     "name": "stdout",
     "output_type": "stream",
     "text": [
      "Epoch 90, CIFAR-10 Batch 0:  Loss:     0.4147 Validation Accuracy: 0.814732\n"
     ]
    },
    {
     "name": "stderr",
     "output_type": "stream",
     "text": [
      "\r",
      "Epoch 90/100:  20%|█████                    | 1/5 [00:34<02:16, 34.23s/batches]"
     ]
    },
    {
     "name": "stdout",
     "output_type": "stream",
     "text": [
      "Epoch 90, CIFAR-10 Batch 1:  Loss:     0.4209 Validation Accuracy: 0.807589\n"
     ]
    },
    {
     "name": "stderr",
     "output_type": "stream",
     "text": [
      "\r",
      "Epoch 90/100:  40%|██████████               | 2/5 [01:08<01:42, 34.06s/batches]"
     ]
    },
    {
     "name": "stdout",
     "output_type": "stream",
     "text": [
      "Epoch 90, CIFAR-10 Batch 2:  Loss:     0.4116 Validation Accuracy: 0.813839\n"
     ]
    },
    {
     "name": "stderr",
     "output_type": "stream",
     "text": [
      "\r",
      "Epoch 90/100:  60%|███████████████          | 3/5 [01:41<01:07, 33.85s/batches]"
     ]
    },
    {
     "name": "stdout",
     "output_type": "stream",
     "text": [
      "Epoch 90, CIFAR-10 Batch 3:  Loss:     0.4110 Validation Accuracy: 0.809375\n"
     ]
    },
    {
     "name": "stderr",
     "output_type": "stream",
     "text": [
      "\r",
      "Epoch 90/100:  80%|████████████████████     | 4/5 [02:16<00:34, 34.20s/batches]"
     ]
    },
    {
     "name": "stdout",
     "output_type": "stream",
     "text": [
      "Epoch 90, CIFAR-10 Batch 4:  Loss:     0.4119 Validation Accuracy: 0.806696\n"
     ]
    },
    {
     "name": "stderr",
     "output_type": "stream",
     "text": [
      "Epoch 90/100: 100%|█████████████████████████| 5/5 [02:44<00:00, 32.83s/batches]\n",
      "Epoch 91/100:   0%|                                 | 0/5 [00:00<?, ?batches/s]"
     ]
    },
    {
     "name": "stdout",
     "output_type": "stream",
     "text": [
      "Epoch 91, CIFAR-10 Batch 0:  Loss:     0.4092 Validation Accuracy: 0.810714\n"
     ]
    },
    {
     "name": "stderr",
     "output_type": "stream",
     "text": [
      "\r",
      "Epoch 91/100:  20%|█████                    | 1/5 [00:36<02:26, 36.53s/batches]"
     ]
    },
    {
     "name": "stdout",
     "output_type": "stream",
     "text": [
      "Epoch 91, CIFAR-10 Batch 1:  Loss:     0.4090 Validation Accuracy: 0.815625\n"
     ]
    },
    {
     "name": "stderr",
     "output_type": "stream",
     "text": [
      "\r",
      "Epoch 91/100:  40%|██████████               | 2/5 [01:12<01:48, 36.31s/batches]"
     ]
    },
    {
     "name": "stdout",
     "output_type": "stream",
     "text": [
      "Epoch 91, CIFAR-10 Batch 2:  Loss:     0.4090 Validation Accuracy: 0.815179\n"
     ]
    },
    {
     "name": "stderr",
     "output_type": "stream",
     "text": [
      "\r",
      "Epoch 91/100:  60%|███████████████          | 3/5 [01:47<01:11, 35.68s/batches]"
     ]
    },
    {
     "name": "stdout",
     "output_type": "stream",
     "text": [
      "Epoch 91, CIFAR-10 Batch 3:  Loss:     0.4067 Validation Accuracy: 0.814286\n"
     ]
    },
    {
     "name": "stderr",
     "output_type": "stream",
     "text": [
      "\r",
      "Epoch 91/100:  80%|████████████████████     | 4/5 [02:22<00:35, 35.70s/batches]"
     ]
    },
    {
     "name": "stdout",
     "output_type": "stream",
     "text": [
      "Epoch 91, CIFAR-10 Batch 4:  Loss:     0.4021 Validation Accuracy: 0.814732\n"
     ]
    },
    {
     "name": "stderr",
     "output_type": "stream",
     "text": [
      "Epoch 91/100: 100%|█████████████████████████| 5/5 [02:49<00:00, 33.85s/batches]\n",
      "Epoch 92/100:   0%|                                 | 0/5 [00:00<?, ?batches/s]"
     ]
    },
    {
     "name": "stdout",
     "output_type": "stream",
     "text": [
      "Epoch 92, CIFAR-10 Batch 0:  Loss:     0.4001 Validation Accuracy: 0.814732\n"
     ]
    },
    {
     "name": "stderr",
     "output_type": "stream",
     "text": [
      "\r",
      "Epoch 92/100:  20%|█████                    | 1/5 [00:34<02:17, 34.40s/batches]"
     ]
    },
    {
     "name": "stdout",
     "output_type": "stream",
     "text": [
      "Epoch 92, CIFAR-10 Batch 1:  Loss:     0.4041 Validation Accuracy: 0.809821\n"
     ]
    },
    {
     "name": "stderr",
     "output_type": "stream",
     "text": [
      "\r",
      "Epoch 92/100:  40%|██████████               | 2/5 [01:09<01:44, 34.75s/batches]"
     ]
    },
    {
     "name": "stdout",
     "output_type": "stream",
     "text": [
      "Epoch 92, CIFAR-10 Batch 2:  Loss:     0.4078 Validation Accuracy: 0.809375\n"
     ]
    },
    {
     "name": "stderr",
     "output_type": "stream",
     "text": [
      "\r",
      "Epoch 92/100:  60%|███████████████          | 3/5 [01:43<01:09, 34.66s/batches]"
     ]
    },
    {
     "name": "stdout",
     "output_type": "stream",
     "text": [
      "Epoch 92, CIFAR-10 Batch 3:  Loss:     0.4037 Validation Accuracy: 0.811161\n"
     ]
    },
    {
     "name": "stderr",
     "output_type": "stream",
     "text": [
      "\r",
      "Epoch 92/100:  80%|████████████████████     | 4/5 [02:18<00:34, 34.52s/batches]"
     ]
    },
    {
     "name": "stdout",
     "output_type": "stream",
     "text": [
      "Epoch 92, CIFAR-10 Batch 4:  Loss:     0.4019 Validation Accuracy: 0.813839\n"
     ]
    },
    {
     "name": "stderr",
     "output_type": "stream",
     "text": [
      "Epoch 92/100: 100%|█████████████████████████| 5/5 [02:46<00:00, 33.21s/batches]\n",
      "Epoch 93/100:   0%|                                 | 0/5 [00:00<?, ?batches/s]"
     ]
    },
    {
     "name": "stdout",
     "output_type": "stream",
     "text": [
      "Epoch 93, CIFAR-10 Batch 0:  Loss:     0.4041 Validation Accuracy: 0.816964\n"
     ]
    },
    {
     "name": "stderr",
     "output_type": "stream",
     "text": [
      "\r",
      "Epoch 93/100:  20%|█████                    | 1/5 [00:34<02:18, 34.65s/batches]"
     ]
    },
    {
     "name": "stdout",
     "output_type": "stream",
     "text": [
      "Epoch 93, CIFAR-10 Batch 1:  Loss:     0.4077 Validation Accuracy: 0.812946\n"
     ]
    },
    {
     "name": "stderr",
     "output_type": "stream",
     "text": [
      "\r",
      "Epoch 93/100:  40%|██████████               | 2/5 [01:10<01:46, 35.48s/batches]"
     ]
    },
    {
     "name": "stdout",
     "output_type": "stream",
     "text": [
      "Epoch 93, CIFAR-10 Batch 2:  Loss:     0.4144 Validation Accuracy: 0.809375\n"
     ]
    },
    {
     "name": "stderr",
     "output_type": "stream",
     "text": [
      "\r",
      "Epoch 93/100:  60%|███████████████          | 3/5 [01:49<01:12, 36.37s/batches]"
     ]
    },
    {
     "name": "stdout",
     "output_type": "stream",
     "text": [
      "Epoch 93, CIFAR-10 Batch 3:  Loss:     0.4167 Validation Accuracy: 0.808929\n"
     ]
    },
    {
     "name": "stderr",
     "output_type": "stream",
     "text": [
      "\r",
      "Epoch 93/100:  80%|████████████████████     | 4/5 [02:24<00:36, 36.14s/batches]"
     ]
    },
    {
     "name": "stdout",
     "output_type": "stream",
     "text": [
      "Epoch 93, CIFAR-10 Batch 4:  Loss:     0.4075 Validation Accuracy: 0.810268\n"
     ]
    },
    {
     "name": "stderr",
     "output_type": "stream",
     "text": [
      "Epoch 93/100: 100%|█████████████████████████| 5/5 [02:50<00:00, 34.04s/batches]\n",
      "Epoch 94/100:   0%|                                 | 0/5 [00:00<?, ?batches/s]"
     ]
    },
    {
     "name": "stdout",
     "output_type": "stream",
     "text": [
      "Epoch 94, CIFAR-10 Batch 0:  Loss:     0.4011 Validation Accuracy: 0.815179\n"
     ]
    },
    {
     "name": "stderr",
     "output_type": "stream",
     "text": [
      "\r",
      "Epoch 94/100:  20%|█████                    | 1/5 [00:35<02:22, 35.59s/batches]"
     ]
    },
    {
     "name": "stdout",
     "output_type": "stream",
     "text": [
      "Epoch 94, CIFAR-10 Batch 1:  Loss:     0.4017 Validation Accuracy: 0.820536\n"
     ]
    },
    {
     "name": "stderr",
     "output_type": "stream",
     "text": [
      "\r",
      "Epoch 94/100:  40%|██████████               | 2/5 [01:10<01:45, 35.14s/batches]"
     ]
    },
    {
     "name": "stdout",
     "output_type": "stream",
     "text": [
      "Epoch 94, CIFAR-10 Batch 2:  Loss:     0.3992 Validation Accuracy: 0.815179\n"
     ]
    },
    {
     "name": "stderr",
     "output_type": "stream",
     "text": [
      "\r",
      "Epoch 94/100:  60%|███████████████          | 3/5 [01:45<01:10, 35.17s/batches]"
     ]
    },
    {
     "name": "stdout",
     "output_type": "stream",
     "text": [
      "Epoch 94, CIFAR-10 Batch 3:  Loss:     0.3992 Validation Accuracy: 0.814732\n"
     ]
    },
    {
     "name": "stderr",
     "output_type": "stream",
     "text": [
      "\r",
      "Epoch 94/100:  80%|████████████████████     | 4/5 [02:20<00:35, 35.14s/batches]"
     ]
    },
    {
     "name": "stdout",
     "output_type": "stream",
     "text": [
      "Epoch 94, CIFAR-10 Batch 4:  Loss:     0.3963 Validation Accuracy: 0.814732\n"
     ]
    },
    {
     "name": "stderr",
     "output_type": "stream",
     "text": [
      "Epoch 94/100: 100%|█████████████████████████| 5/5 [02:47<00:00, 33.45s/batches]\n",
      "Epoch 95/100:   0%|                                 | 0/5 [00:00<?, ?batches/s]"
     ]
    },
    {
     "name": "stdout",
     "output_type": "stream",
     "text": [
      "Epoch 95, CIFAR-10 Batch 0:  Loss:     0.3934 Validation Accuracy: 0.817411\n"
     ]
    },
    {
     "name": "stderr",
     "output_type": "stream",
     "text": [
      "\r",
      "Epoch 95/100:  20%|█████                    | 1/5 [00:33<02:15, 33.93s/batches]"
     ]
    },
    {
     "name": "stdout",
     "output_type": "stream",
     "text": [
      "Epoch 95, CIFAR-10 Batch 1:  Loss:     0.3964 Validation Accuracy: 0.817857\n"
     ]
    },
    {
     "name": "stderr",
     "output_type": "stream",
     "text": [
      "\r",
      "Epoch 95/100:  40%|██████████               | 2/5 [01:07<01:40, 33.52s/batches]"
     ]
    },
    {
     "name": "stdout",
     "output_type": "stream",
     "text": [
      "Epoch 95, CIFAR-10 Batch 2:  Loss:     0.3967 Validation Accuracy: 0.819196\n"
     ]
    },
    {
     "name": "stderr",
     "output_type": "stream",
     "text": [
      "\r",
      "Epoch 95/100:  60%|███████████████          | 3/5 [01:41<01:07, 33.79s/batches]"
     ]
    },
    {
     "name": "stdout",
     "output_type": "stream",
     "text": [
      "Epoch 95, CIFAR-10 Batch 3:  Loss:     0.4028 Validation Accuracy: 0.814286\n"
     ]
    },
    {
     "name": "stderr",
     "output_type": "stream",
     "text": [
      "\r",
      "Epoch 95/100:  80%|████████████████████     | 4/5 [02:15<00:33, 33.81s/batches]"
     ]
    },
    {
     "name": "stdout",
     "output_type": "stream",
     "text": [
      "Epoch 95, CIFAR-10 Batch 4:  Loss:     0.4089 Validation Accuracy: 0.809375\n"
     ]
    },
    {
     "name": "stderr",
     "output_type": "stream",
     "text": [
      "Epoch 95/100: 100%|█████████████████████████| 5/5 [02:41<00:00, 32.31s/batches]\n",
      "Epoch 96/100:   0%|                                 | 0/5 [00:00<?, ?batches/s]"
     ]
    },
    {
     "name": "stdout",
     "output_type": "stream",
     "text": [
      "Epoch 96, CIFAR-10 Batch 0:  Loss:     0.4085 Validation Accuracy: 0.812054\n"
     ]
    },
    {
     "name": "stderr",
     "output_type": "stream",
     "text": [
      "\r",
      "Epoch 96/100:  20%|█████                    | 1/5 [00:33<02:13, 33.35s/batches]"
     ]
    },
    {
     "name": "stdout",
     "output_type": "stream",
     "text": [
      "Epoch 96, CIFAR-10 Batch 1:  Loss:     0.4045 Validation Accuracy: 0.817857\n"
     ]
    },
    {
     "name": "stderr",
     "output_type": "stream",
     "text": [
      "\r",
      "Epoch 96/100:  40%|██████████               | 2/5 [01:06<01:39, 33.16s/batches]"
     ]
    },
    {
     "name": "stdout",
     "output_type": "stream",
     "text": [
      "Epoch 96, CIFAR-10 Batch 2:  Loss:     0.3999 Validation Accuracy: 0.816964\n"
     ]
    },
    {
     "name": "stderr",
     "output_type": "stream",
     "text": [
      "\r",
      "Epoch 96/100:  60%|███████████████          | 3/5 [01:38<01:05, 32.98s/batches]"
     ]
    },
    {
     "name": "stdout",
     "output_type": "stream",
     "text": [
      "Epoch 96, CIFAR-10 Batch 3:  Loss:     0.3992 Validation Accuracy: 0.814286\n"
     ]
    },
    {
     "name": "stderr",
     "output_type": "stream",
     "text": [
      "\r",
      "Epoch 96/100:  80%|████████████████████     | 4/5 [02:11<00:32, 32.91s/batches]"
     ]
    },
    {
     "name": "stdout",
     "output_type": "stream",
     "text": [
      "Epoch 96, CIFAR-10 Batch 4:  Loss:     0.3951 Validation Accuracy: 0.818304\n"
     ]
    },
    {
     "name": "stderr",
     "output_type": "stream",
     "text": [
      "Epoch 96/100: 100%|█████████████████████████| 5/5 [02:37<00:00, 31.46s/batches]\n",
      "Epoch 97/100:   0%|                                 | 0/5 [00:00<?, ?batches/s]"
     ]
    },
    {
     "name": "stdout",
     "output_type": "stream",
     "text": [
      "Epoch 97, CIFAR-10 Batch 0:  Loss:     0.3941 Validation Accuracy: 0.818750\n"
     ]
    },
    {
     "name": "stderr",
     "output_type": "stream",
     "text": [
      "\r",
      "Epoch 97/100:  20%|█████                    | 1/5 [00:33<02:12, 33.16s/batches]"
     ]
    },
    {
     "name": "stdout",
     "output_type": "stream",
     "text": [
      "Epoch 97, CIFAR-10 Batch 1:  Loss:     0.3976 Validation Accuracy: 0.815625\n"
     ]
    },
    {
     "name": "stderr",
     "output_type": "stream",
     "text": [
      "\r",
      "Epoch 97/100:  40%|██████████               | 2/5 [01:07<01:41, 33.78s/batches]"
     ]
    },
    {
     "name": "stdout",
     "output_type": "stream",
     "text": [
      "Epoch 97, CIFAR-10 Batch 2:  Loss:     0.3955 Validation Accuracy: 0.813839\n"
     ]
    },
    {
     "name": "stderr",
     "output_type": "stream",
     "text": [
      "\r",
      "Epoch 97/100:  60%|███████████████          | 3/5 [01:40<01:07, 33.57s/batches]"
     ]
    },
    {
     "name": "stdout",
     "output_type": "stream",
     "text": [
      "Epoch 97, CIFAR-10 Batch 3:  Loss:     0.3944 Validation Accuracy: 0.817857\n"
     ]
    },
    {
     "name": "stderr",
     "output_type": "stream",
     "text": [
      "\r",
      "Epoch 97/100:  80%|████████████████████     | 4/5 [02:13<00:33, 33.31s/batches]"
     ]
    },
    {
     "name": "stdout",
     "output_type": "stream",
     "text": [
      "Epoch 97, CIFAR-10 Batch 4:  Loss:     0.3932 Validation Accuracy: 0.817411\n"
     ]
    },
    {
     "name": "stderr",
     "output_type": "stream",
     "text": [
      "Epoch 97/100: 100%|█████████████████████████| 5/5 [02:40<00:00, 32.14s/batches]\n",
      "Epoch 98/100:   0%|                                 | 0/5 [00:00<?, ?batches/s]"
     ]
    },
    {
     "name": "stdout",
     "output_type": "stream",
     "text": [
      "Epoch 98, CIFAR-10 Batch 0:  Loss:     0.3981 Validation Accuracy: 0.820089\n"
     ]
    },
    {
     "name": "stderr",
     "output_type": "stream",
     "text": [
      "\r",
      "Epoch 98/100:  20%|█████                    | 1/5 [00:34<02:19, 35.00s/batches]"
     ]
    },
    {
     "name": "stdout",
     "output_type": "stream",
     "text": [
      "Epoch 98, CIFAR-10 Batch 1:  Loss:     0.4050 Validation Accuracy: 0.811607\n"
     ]
    },
    {
     "name": "stderr",
     "output_type": "stream",
     "text": [
      "\r",
      "Epoch 98/100:  40%|██████████               | 2/5 [01:12<01:48, 36.11s/batches]"
     ]
    },
    {
     "name": "stdout",
     "output_type": "stream",
     "text": [
      "Epoch 98, CIFAR-10 Batch 2:  Loss:     0.3996 Validation Accuracy: 0.817411\n"
     ]
    },
    {
     "name": "stderr",
     "output_type": "stream",
     "text": [
      "\r",
      "Epoch 98/100:  60%|███████████████          | 3/5 [01:45<01:10, 35.26s/batches]"
     ]
    },
    {
     "name": "stdout",
     "output_type": "stream",
     "text": [
      "Epoch 98, CIFAR-10 Batch 3:  Loss:     0.4007 Validation Accuracy: 0.813393\n"
     ]
    },
    {
     "name": "stderr",
     "output_type": "stream",
     "text": [
      "\r",
      "Epoch 98/100:  80%|████████████████████     | 4/5 [02:18<00:34, 34.67s/batches]"
     ]
    },
    {
     "name": "stdout",
     "output_type": "stream",
     "text": [
      "Epoch 98, CIFAR-10 Batch 4:  Loss:     0.4031 Validation Accuracy: 0.812054\n"
     ]
    },
    {
     "name": "stderr",
     "output_type": "stream",
     "text": [
      "Epoch 98/100: 100%|█████████████████████████| 5/5 [02:44<00:00, 32.87s/batches]\n",
      "Epoch 99/100:   0%|                                 | 0/5 [00:00<?, ?batches/s]"
     ]
    },
    {
     "name": "stdout",
     "output_type": "stream",
     "text": [
      "Epoch 99, CIFAR-10 Batch 0:  Loss:     0.3977 Validation Accuracy: 0.818304\n"
     ]
    },
    {
     "name": "stderr",
     "output_type": "stream",
     "text": [
      "\r",
      "Epoch 99/100:  20%|█████                    | 1/5 [00:33<02:13, 33.35s/batches]"
     ]
    },
    {
     "name": "stdout",
     "output_type": "stream",
     "text": [
      "Epoch 99, CIFAR-10 Batch 1:  Loss:     0.4053 Validation Accuracy: 0.812946\n"
     ]
    },
    {
     "name": "stderr",
     "output_type": "stream",
     "text": [
      "\r",
      "Epoch 99/100:  40%|██████████               | 2/5 [01:10<01:46, 35.48s/batches]"
     ]
    },
    {
     "name": "stdout",
     "output_type": "stream",
     "text": [
      "Epoch 99, CIFAR-10 Batch 2:  Loss:     0.4088 Validation Accuracy: 0.805357\n"
     ]
    },
    {
     "name": "stderr",
     "output_type": "stream",
     "text": [
      "\r",
      "Epoch 99/100:  60%|███████████████          | 3/5 [01:50<01:13, 36.94s/batches]"
     ]
    },
    {
     "name": "stdout",
     "output_type": "stream",
     "text": [
      "Epoch 99, CIFAR-10 Batch 3:  Loss:     0.3985 Validation Accuracy: 0.813839\n"
     ]
    },
    {
     "name": "stderr",
     "output_type": "stream",
     "text": [
      "\r",
      "Epoch 99/100:  80%|████████████████████     | 4/5 [02:28<00:37, 37.19s/batches]"
     ]
    },
    {
     "name": "stdout",
     "output_type": "stream",
     "text": [
      "Epoch 99, CIFAR-10 Batch 4:  Loss:     0.3914 Validation Accuracy: 0.813393\n"
     ]
    },
    {
     "name": "stderr",
     "output_type": "stream",
     "text": [
      "Epoch 99/100: 100%|█████████████████████████| 5/5 [03:00<00:00, 36.06s/batches]\n",
      "Epoch 100/100:   0%|                                | 0/5 [00:00<?, ?batches/s]"
     ]
    },
    {
     "name": "stdout",
     "output_type": "stream",
     "text": [
      "Epoch 100, CIFAR-10 Batch 0:  Loss:     0.3905 Validation Accuracy: 0.815625\n"
     ]
    },
    {
     "name": "stderr",
     "output_type": "stream",
     "text": [
      "\r",
      "Epoch 100/100:  20%|████▊                   | 1/5 [00:38<02:34, 38.70s/batches]"
     ]
    },
    {
     "name": "stdout",
     "output_type": "stream",
     "text": [
      "Epoch 100, CIFAR-10 Batch 1:  Loss:     0.3889 Validation Accuracy: 0.815625\n"
     ]
    },
    {
     "name": "stderr",
     "output_type": "stream",
     "text": [
      "\r",
      "Epoch 100/100:  40%|█████████▌              | 2/5 [01:19<01:59, 39.70s/batches]"
     ]
    },
    {
     "name": "stdout",
     "output_type": "stream",
     "text": [
      "Epoch 100, CIFAR-10 Batch 2:  Loss:     0.3958 Validation Accuracy: 0.812946\n"
     ]
    },
    {
     "name": "stderr",
     "output_type": "stream",
     "text": [
      "\r",
      "Epoch 100/100:  60%|██████████████▍         | 3/5 [02:02<01:21, 40.80s/batches]"
     ]
    },
    {
     "name": "stdout",
     "output_type": "stream",
     "text": [
      "Epoch 100, CIFAR-10 Batch 3:  Loss:     0.3992 Validation Accuracy: 0.810268\n"
     ]
    },
    {
     "name": "stderr",
     "output_type": "stream",
     "text": [
      "\r",
      "Epoch 100/100:  80%|███████████████████▏    | 4/5 [02:44<00:41, 41.15s/batches]"
     ]
    },
    {
     "name": "stdout",
     "output_type": "stream",
     "text": [
      "Epoch 100, CIFAR-10 Batch 4:  Loss:     0.3926 Validation Accuracy: 0.815625\n"
     ]
    },
    {
     "name": "stderr",
     "output_type": "stream",
     "text": [
      "Epoch 100/100: 100%|████████████████████████| 5/5 [03:16<00:00, 39.34s/batches]\n"
     ]
    }
   ],
   "source": [
    "print('Checking the Training on a Single Batch...')\n",
    "with tf.Session() as sess:\n",
    "    # Initializing the variables\n",
    "    sess.run(tf.global_variables_initializer())\n",
    "    batch_count = int(math.ceil(len(train_features)/batch_size))\n",
    "    # Training cycle\n",
    "    \n",
    "    for epoch_i in range(epochs):\n",
    "        batches_pbar = tqdm(range(batch_count), desc='Epoch {:>2}/{}'.format(epoch_i+1, epochs), unit='batches')\n",
    "        for batch_i in batches_pbar:\n",
    "            # Get a batch of training features and labels\n",
    "            batch_start = batch_i*batch_size\n",
    "            batch_features = train_features[batch_start:batch_start + batch_size]\n",
    "            batch_labels = train_labels[batch_start:batch_start + batch_size]\n",
    "                # Run optimizer and get loss\n",
    "                #_, l = sess.run([optimizer, cost],\n",
    "                #        feed_dict={features: batch_features, labels: batch_labels, keep_prob: keep_probability})\n",
    "            train_neural_network(sess, optimizer, keep_probability, batch_features, batch_labels)\n",
    "            print('Epoch {:>2}, CIFAR-10 Batch {}:  '.format(epoch_i + 1, batch_i), end='')\n",
    "            print_stats(sess, train_features, train_labels, cost, accuracy)\n",
    "    \n",
    "    # Save Model\n",
    "    saver = tf.train.Saver()\n",
    "    save_path = saver.save(sess, save_model_path)"
   ]
  },
  {
   "cell_type": "code",
   "execution_count": null,
   "metadata": {
    "collapsed": true
   },
   "outputs": [],
   "source": [
    "\n"
   ]
  },
  {
   "cell_type": "code",
   "execution_count": 71,
   "metadata": {},
   "outputs": [
    {
     "name": "stdout",
     "output_type": "stream",
     "text": [
      "INFO:tensorflow:Restoring parameters from ./vehicle_classification\n"
     ]
    },
    {
     "name": "stderr",
     "output_type": "stream",
     "text": [
      "Epoch 100/100: 100%|████████████████████████| 2/2 [00:05<00:00,  2.63s/batches]\n"
     ]
    },
    {
     "name": "stdout",
     "output_type": "stream",
     "text": [
      "1.68217045069 2\n",
      "Testing Accuracy: 0.8410852253437042\n",
      "\n"
     ]
    }
   ],
   "source": [
    "\n",
    "# Set batch size if not already set\n",
    "try:\n",
    "    if batch_size:\n",
    "        pass\n",
    "except NameError:\n",
    "    batch_size = 64\n",
    "\n",
    "def test_model():\n",
    "    \"\"\"\n",
    "    Test the saved model against the test dataset\n",
    "    \"\"\"\n",
    "\n",
    "#    test_features, test_labels = pickle.load(open('preprocess_training.p', mode='rb'))\n",
    "    loaded_graph = tf.Graph()\n",
    "\n",
    "    with tf.Session(graph=loaded_graph) as sess:\n",
    "        # Load model\n",
    "        loader = tf.train.import_meta_graph(save_model_path + '.meta')\n",
    "        loader.restore(sess, save_model_path)\n",
    "\n",
    "        # Get Tensors from loaded model\n",
    "        loaded_x = loaded_graph.get_tensor_by_name('x:0')\n",
    "        loaded_y = loaded_graph.get_tensor_by_name('y:0')\n",
    "        loaded_keep_prob = loaded_graph.get_tensor_by_name('keep_prob:0')\n",
    "        loaded_logits = loaded_graph.get_tensor_by_name('logits:0')\n",
    "        loaded_acc = loaded_graph.get_tensor_by_name('accuracy:0')\n",
    "        batch_count = int(math.ceil(len(test_features)/batch_size))\n",
    "    \n",
    "        test_batch_acc_total = 0\n",
    "        test_batch_count = 0\n",
    "            \n",
    "        batches_pbar = tqdm(range(batch_count), desc='Epoch {:>2}/{}'.format(epoch_i+1, epochs), unit='batches')\n",
    "        for batch_i in batches_pbar:\n",
    "        # Get a batch of training features and labels\n",
    "            batch_start = batch_i*batch_size\n",
    "            batch_features = test_features[batch_start:batch_start + batch_size]\n",
    "            batch_labels = test_labels[batch_start:batch_start + batch_size]\n",
    "                   \n",
    "            test_batch_acc_total += sess.run(\n",
    "                loaded_acc,\n",
    "                feed_dict={loaded_x: batch_features, loaded_y: batch_labels, loaded_keep_prob: 1.0})\n",
    "            test_batch_count += 1\n",
    "\n",
    "        print(test_batch_acc_total,test_batch_count )\n",
    "        print('Testing Accuracy: {}\\n'.format(test_batch_acc_total/test_batch_count))\n",
    "\n",
    "\n",
    "\n",
    "test_model()"
   ]
  },
  {
   "cell_type": "code",
   "execution_count": 127,
   "metadata": {
    "collapsed": true
   },
   "outputs": [],
   "source": [
    "def _load_label_names():\n",
    "    \"\"\"\n",
    "    Load the label names from file\n",
    "    \"\"\"\n",
    "    return ['truck', 'car', 'unknown']\n",
    "    #return ['airplane', 'automobile', 'bird', 'cat', 'deer', 'dog', 'frog', 'horse', 'ship', 'truck']"
   ]
  },
  {
   "cell_type": "code",
   "execution_count": 128,
   "metadata": {
    "collapsed": true
   },
   "outputs": [],
   "source": [
    "def display_image_predictions(features, labels, predictions):\n",
    "    n_classes = 3\n",
    "    label_names = _load_label_names()\n",
    "    label_binarizer = LabelBinarizer()\n",
    "    label_binarizer.fit(range(n_classes))\n",
    "    label_ids = label_binarizer.inverse_transform(np.array(labels))\n",
    "\n",
    "    fig, axies = plt.subplots(nrows=4, ncols=2)\n",
    "    fig.tight_layout()\n",
    "    fig.suptitle('Softmax Predictions', fontsize=20, y=1.1)\n",
    "\n",
    "    n_predictions = 3\n",
    "    margin = 0.05\n",
    "    ind = np.arange(n_predictions)\n",
    "    width = (1. - 2. * margin) / n_predictions\n",
    "\n",
    "    for image_i, (feature, label_id, pred_indicies, pred_values) in enumerate(zip(features, label_ids, predictions.indices, predictions.values)):\n",
    "        pred_names = [label_names[pred_i] for pred_i in pred_indicies]\n",
    "        correct_name = label_names[label_id]\n",
    "\n",
    "        axies[image_i][0].imshow(feature)\n",
    "        axies[image_i][0].set_title(correct_name)\n",
    "        axies[image_i][0].set_axis_off()\n",
    "\n",
    "        axies[image_i][1].barh(ind + margin, pred_values[::-1], width)\n",
    "        axies[image_i][1].set_yticks(ind + margin)\n",
    "        axies[image_i][1].set_yticklabels(pred_names[::-1])\n",
    "        axies[image_i][1].set_xticks([0, 0.5, 1.0])\n",
    "        display(pred_names,correct_name)\n"
   ]
  },
  {
   "cell_type": "code",
   "execution_count": 129,
   "metadata": {
    "collapsed": true
   },
   "outputs": [],
   "source": [
    " # Print Random Samples\n",
    "def random_test():\n",
    "    random_test_features, random_test_labels = tuple(zip(*random.sample(list(zip(test_features, test_labels)), n_samples)))\n",
    "   \n",
    "    loaded_graph = tf.Graph()\n",
    "    with tf.Session(graph=loaded_graph) as sess:\n",
    "        # Load model\n",
    "        loader = tf.train.import_meta_graph(save_model_path + '.meta')\n",
    "        loader.restore(sess, save_model_path)\n",
    "\n",
    "        # Get Tensors from loaded model\n",
    "        loaded_x = loaded_graph.get_tensor_by_name('x:0')\n",
    "        loaded_y = loaded_graph.get_tensor_by_name('y:0')\n",
    "        loaded_keep_prob = loaded_graph.get_tensor_by_name('keep_prob:0')\n",
    "        loaded_logits = loaded_graph.get_tensor_by_name('logits:0')\n",
    "        loaded_acc = loaded_graph.get_tensor_by_name('accuracy:0')\n",
    "        \n",
    "        random_test_predictions = sess.run(\n",
    "            tf.nn.top_k(tf.nn.softmax(loaded_logits), top_n_predictions),\n",
    "            feed_dict={loaded_x: random_test_features, loaded_y: random_test_labels, loaded_keep_prob: 1.0})\n",
    "        display_image_predictions(random_test_features, random_test_labels, random_test_predictions)\n",
    "        display(random_test_predictions)\n"
   ]
  },
  {
   "cell_type": "code",
   "execution_count": 140,
   "metadata": {},
   "outputs": [
    {
     "data": {
      "text/plain": [
       "array([1, 1, 2, 1, 0, 2, 1, 0, 0, 1])"
      ]
     },
     "metadata": {},
     "output_type": "display_data"
    },
    {
     "name": "stdout",
     "output_type": "stream",
     "text": [
      "INFO:tensorflow:Restoring parameters from ./vehicle_classification\n"
     ]
    },
    {
     "data": {
      "text/plain": [
       "['car', 'truck', 'unknown']"
      ]
     },
     "metadata": {},
     "output_type": "display_data"
    },
    {
     "data": {
      "text/plain": [
       "'car'"
      ]
     },
     "metadata": {},
     "output_type": "display_data"
    },
    {
     "data": {
      "text/plain": [
       "['truck', 'car', 'unknown']"
      ]
     },
     "metadata": {},
     "output_type": "display_data"
    },
    {
     "data": {
      "text/plain": [
       "'truck'"
      ]
     },
     "metadata": {},
     "output_type": "display_data"
    },
    {
     "data": {
      "text/plain": [
       "['truck', 'car', 'unknown']"
      ]
     },
     "metadata": {},
     "output_type": "display_data"
    },
    {
     "data": {
      "text/plain": [
       "'truck'"
      ]
     },
     "metadata": {},
     "output_type": "display_data"
    },
    {
     "data": {
      "text/plain": [
       "['truck', 'car', 'unknown']"
      ]
     },
     "metadata": {},
     "output_type": "display_data"
    },
    {
     "data": {
      "text/plain": [
       "'truck'"
      ]
     },
     "metadata": {},
     "output_type": "display_data"
    },
    {
     "data": {
      "text/plain": [
       "TopKV2(values=array([[ 0.97139955,  0.02686849,  0.00173206],\n",
       "       [ 0.84746343,  0.14421034,  0.00832631],\n",
       "       [ 0.99030137,  0.00810456,  0.00159411],\n",
       "       [ 0.6036579 ,  0.2072423 ,  0.18909976]], dtype=float32), indices=array([[1, 0, 2],\n",
       "       [0, 1, 2],\n",
       "       [0, 1, 2],\n",
       "       [0, 1, 2]]))"
      ]
     },
     "metadata": {},
     "output_type": "display_data"
    },
    {
     "data": {
      "image/png": "[encoded data removed]",
      "text/plain": [
       "<matplotlib.figure.Figure at 0x1d606612ef0>"
      ]
     },
     "metadata": {
      "image/png": {
       "height": 319,
       "width": 355
      }
     },
     "output_type": "display_data"
    }
   ],
   "source": [
    "display((labels[:10]))\n",
    "random_test()"
   ]
  },
  {
   "cell_type": "code",
   "execution_count": 121,
   "metadata": {
    "collapsed": true
   },
   "outputs": [],
   "source": [
    "def liveImagePredictio(img):\n",
    "    label_names = _load_label_names()\n",
    "    loaded_graph = tf.Graph()\n",
    "    with tf.Session(graph=loaded_graph) as sess:\n",
    "        # Load model\n",
    "        loader = tf.train.import_meta_graph(save_model_path + '.meta')\n",
    "        loader.restore(sess, save_model_path)\n",
    "\n",
    "        # Get Tensors from loaded model\n",
    "        loaded_x = loaded_graph.get_tensor_by_name('x:0')\n",
    "        loaded_y = loaded_graph.get_tensor_by_name('y:0')\n",
    "        loaded_keep_prob = loaded_graph.get_tensor_by_name('keep_prob:0')\n",
    "        loaded_logits = loaded_graph.get_tensor_by_name('logits:0')\n",
    "        loaded_acc = loaded_graph.get_tensor_by_name('accuracy:0')\n",
    "        \n",
    "    \n",
    "        img = img.reshape(32, 32, 3)\n",
    "        classification = sess.run(tf.nn.top_k(tf.nn.softmax(loaded_logits), top_n_predictions), feed_dict={loaded_x: [img], loaded_keep_prob: 1.0})\n",
    "        plt.imshow(img, cmap=plt.cm.binary)\n",
    "        plt.show()\n",
    "        print ('Top {} prediction :' .format(top_n_predictions))\n",
    "        print ('{}% ' .format(classification[0]*100) )\n",
    "        print ('predicted value {}' .format(classification[1]))\n",
    "        pred = classification[1][0]\n",
    "        \n",
    "        display(label_names[pred[0]])"
   ]
  },
  {
   "cell_type": "code",
   "execution_count": 142,
   "metadata": {},
   "outputs": [
    {
     "data": {
      "text/plain": [
       "array([ 0.,  0.,  1.])"
      ]
     },
     "metadata": {},
     "output_type": "display_data"
    },
    {
     "name": "stdout",
     "output_type": "stream",
     "text": [
      "INFO:tensorflow:Restoring parameters from ./vehicle_classification\n"
     ]
    },
    {
     "data": {
      "image/png": "[encoded data removed]",
      "text/plain": [
       "<matplotlib.figure.Figure at 0x1d6067bab38>"
      ]
     },
     "metadata": {
      "image/png": {
       "height": 250,
       "width": 253
      }
     },
     "output_type": "display_data"
    },
    {
     "name": "stdout",
     "output_type": "stream",
     "text": [
      "Top 3 prediction :\n",
      "[[  1.00000000e+02   1.93838339e-27   0.00000000e+00]]% \n",
      "predicted value [[1 0 2]]\n"
     ]
    },
    {
     "data": {
      "text/plain": [
       "'car'"
      ]
     },
     "metadata": {},
     "output_type": "display_data"
    }
   ],
   "source": [
    "\n",
    "i = 14\n",
    "data = test_features[i]\n",
    "display(test_labels[i])\n",
    "image = Image.open(\"./LiveImage/car6.jpg\")\n",
    "#image = Image.open(\"./truck/image0023.png\")\n",
    "image.load()\n",
    "image = image.resize((32,32), Image.ANTIALIAS)\n",
    "data = np.array(image, dtype=np.float32).flatten()\n",
    "\n",
    "#cv2.resize(feature, data, (32,32,3))\n",
    "\n",
    "liveImagePredictio(data)"
   ]
  },
  {
   "cell_type": "code",
   "execution_count": null,
   "metadata": {
    "collapsed": true
   },
   "outputs": [],
   "source": []
  }
 ],
 "metadata": {
  "kernelspec": {
   "display_name": "Python 3",
   "language": "python",
   "name": "python3"
  },
  "language_info": {
   "codemirror_mode": {
    "name": "ipython",
    "version": 3
   },
   "file_extension": ".py",
   "mimetype": "text/x-python",
   "name": "python",
   "nbconvert_exporter": "python",
   "pygments_lexer": "ipython3",
   "version": "3.6.3"
  }
 },
 "nbformat": 4,
 "nbformat_minor": 2
}
